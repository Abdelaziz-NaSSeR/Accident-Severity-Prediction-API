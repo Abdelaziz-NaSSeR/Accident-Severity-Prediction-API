{
  "cells": [
    {
      "cell_type": "markdown",
      "metadata": {
        "id": "KxShB1N_1T9x"
      },
      "source": [
        "## Imports and dependencies"
      ]
    },
    {
      "cell_type": "code",
      "execution_count": 1,
      "metadata": {
        "id": "AGCs9Hl0AlCb"
      },
      "outputs": [],
      "source": [
        "import pandas as pd\n",
        "import numpy as np\n",
        "import matplotlib.pyplot as plt\n",
        "import seaborn as sns\n",
        "import plotly.express as px\n",
        "from plotly.subplots import make_subplots\n",
        "import plotly.graph_objects as go\n",
        "import matplotlib.pyplot as plt\n",
        "from sklearn.preprocessing import LabelEncoder,StandardScaler,PowerTransformer\n",
        "from sklearn.model_selection import train_test_split,RandomizedSearchCV\n",
        "from imblearn.over_sampling import SMOTE\n",
        "from scipy.stats import uniform, randint\n",
        "# !pip install pygwalker --upgrade\n",
        "# import pygwalker as pyg\n",
        "import warnings\n",
        "# ! pip install ydata_profiling\n",
        "# from ydata_profiling import ProfileReport\n",
        "warnings.filterwarnings(\"ignore\")\n",
        "# !pip install scikit-learn imbalanced-learn\n",
        "from sklearn.preprocessing import PowerTransformer, StandardScaler\n",
        "from sklearn.model_selection import train_test_split, GridSearchCV\n",
        "from sklearn.ensemble import RandomForestClassifier, GradientBoostingClassifier\n",
        "from imblearn.pipeline import Pipeline\n",
        "from imblearn.ensemble import BalancedRandomForestClassifier\n",
        "import xgboost as xgb\n",
        "from sklearn.linear_model import LogisticRegression\n",
        "from sklearn.metrics import classification_report, confusion_matrix, f1_score, make_scorer"
      ]
    },
    {
      "cell_type": "markdown",
      "metadata": {
        "id": "8U2ylDOr1XUE"
      },
      "source": [
        "## Data Exploration"
      ]
    },
    {
      "cell_type": "code",
      "execution_count": 2,
      "metadata": {
        "id": "ej1jvxdW1ZN1"
      },
      "outputs": [],
      "source": [
        "# read the df from the excel sheet\n",
        "df=pd.read_excel(\"Road Accidents.xlsx\")"
      ]
    },
    {
      "cell_type": "code",
      "execution_count": 3,
      "metadata": {
        "colab": {
          "base_uri": "https://localhost:8080/",
          "height": 0
        },
        "id": "IUx_70c65RMu",
        "outputId": "dc492e11-c426-453a-973a-982694acf0cb"
      },
      "outputs": [
        {
          "data": {
            "text/html": [
              "<div>\n",
              "<style scoped>\n",
              "    .dataframe tbody tr th:only-of-type {\n",
              "        vertical-align: middle;\n",
              "    }\n",
              "\n",
              "    .dataframe tbody tr th {\n",
              "        vertical-align: top;\n",
              "    }\n",
              "\n",
              "    .dataframe thead th {\n",
              "        text-align: right;\n",
              "    }\n",
              "</style>\n",
              "<table border=\"1\" class=\"dataframe\">\n",
              "  <thead>\n",
              "    <tr style=\"text-align: right;\">\n",
              "      <th></th>\n",
              "      <th>Reference Number</th>\n",
              "      <th>Easting</th>\n",
              "      <th>Northing</th>\n",
              "      <th>Number of Vehicles</th>\n",
              "      <th>Accident Date</th>\n",
              "      <th>Time (24hr)</th>\n",
              "      <th>1st Road Class</th>\n",
              "      <th>Road Surface</th>\n",
              "      <th>Lighting Conditions</th>\n",
              "      <th>Weather Conditions</th>\n",
              "      <th>Casualty Class</th>\n",
              "      <th>Casualty Severity</th>\n",
              "      <th>Sex of Casualty</th>\n",
              "      <th>Age of Casualty</th>\n",
              "      <th>Type of Vehicle</th>\n",
              "    </tr>\n",
              "  </thead>\n",
              "  <tbody>\n",
              "    <tr>\n",
              "      <th>0</th>\n",
              "      <td>110016014</td>\n",
              "      <td>443330</td>\n",
              "      <td>439205</td>\n",
              "      <td>2</td>\n",
              "      <td>2011-01-12</td>\n",
              "      <td>712</td>\n",
              "      <td>A(M)</td>\n",
              "      <td>Wet / Damp</td>\n",
              "      <td>Darkness: street lighting unknown</td>\n",
              "      <td>Raining without high winds</td>\n",
              "      <td>Driver</td>\n",
              "      <td>Slight</td>\n",
              "      <td>Male</td>\n",
              "      <td>62</td>\n",
              "      <td>Car</td>\n",
              "    </tr>\n",
              "    <tr>\n",
              "      <th>1</th>\n",
              "      <td>110016024</td>\n",
              "      <td>425059</td>\n",
              "      <td>433371</td>\n",
              "      <td>2</td>\n",
              "      <td>2011-01-12</td>\n",
              "      <td>830</td>\n",
              "      <td>Unclassified</td>\n",
              "      <td>Wet / Damp</td>\n",
              "      <td>Daylight: street lights present</td>\n",
              "      <td>Raining without high winds</td>\n",
              "      <td>Driver</td>\n",
              "      <td>Slight</td>\n",
              "      <td>Female</td>\n",
              "      <td>39</td>\n",
              "      <td>Car</td>\n",
              "    </tr>\n",
              "    <tr>\n",
              "      <th>2</th>\n",
              "      <td>110016533</td>\n",
              "      <td>420683</td>\n",
              "      <td>434373</td>\n",
              "      <td>1</td>\n",
              "      <td>2011-01-12</td>\n",
              "      <td>1215</td>\n",
              "      <td>A</td>\n",
              "      <td>Wet / Damp</td>\n",
              "      <td>Daylight: street lights present</td>\n",
              "      <td>Fine without high winds</td>\n",
              "      <td>Pedestrian</td>\n",
              "      <td>Serious</td>\n",
              "      <td>Male</td>\n",
              "      <td>66</td>\n",
              "      <td>Car</td>\n",
              "    </tr>\n",
              "  </tbody>\n",
              "</table>\n",
              "</div>"
            ],
            "text/plain": [
              "   Reference Number  Easting  ...  Age of Casualty  Type of Vehicle\n",
              "0         110016014   443330  ...               62              Car\n",
              "1         110016024   425059  ...               39              Car\n",
              "2         110016533   420683  ...               66              Car\n",
              "\n",
              "[3 rows x 15 columns]"
            ]
          },
          "execution_count": 3,
          "metadata": {},
          "output_type": "execute_result"
        }
      ],
      "source": [
        "# print 1st 3 rows of the df\n",
        "df.head(3)"
      ]
    },
    {
      "cell_type": "code",
      "execution_count": 4,
      "metadata": {
        "colab": {
          "base_uri": "https://localhost:8080/"
        },
        "id": "WVMdJmP95jHT",
        "outputId": "53990e69-a885-4647-85b6-7caedd402650"
      },
      "outputs": [
        {
          "name": "stdout",
          "output_type": "stream",
          "text": [
            "<class 'pandas.core.frame.DataFrame'>\n",
            "RangeIndex: 2604 entries, 0 to 2603\n",
            "Data columns (total 15 columns):\n",
            " #   Column               Non-Null Count  Dtype         \n",
            "---  ------               --------------  -----         \n",
            " 0   Reference Number     2604 non-null   int64         \n",
            " 1   Easting              2604 non-null   int64         \n",
            " 2   Northing             2604 non-null   int64         \n",
            " 3   Number of Vehicles   2604 non-null   int64         \n",
            " 4   Accident Date        2604 non-null   datetime64[ns]\n",
            " 5   Time (24hr)          2604 non-null   int64         \n",
            " 6   1st Road Class       2604 non-null   object        \n",
            " 7   Road Surface         2604 non-null   object        \n",
            " 8   Lighting Conditions  2604 non-null   object        \n",
            " 9   Weather Conditions   2604 non-null   object        \n",
            " 10  Casualty Class       2604 non-null   object        \n",
            " 11  Casualty Severity    2604 non-null   object        \n",
            " 12  Sex of Casualty      2604 non-null   object        \n",
            " 13  Age of Casualty      2604 non-null   int64         \n",
            " 14  Type of Vehicle      2604 non-null   object        \n",
            "dtypes: datetime64[ns](1), int64(6), object(8)\n",
            "memory usage: 305.3+ KB\n"
          ]
        }
      ],
      "source": [
        "# print df info to check dtatypes and missings\n",
        "df.info()"
      ]
    },
    {
      "cell_type": "markdown",
      "metadata": {
        "id": "julBBzmA55ul"
      },
      "source": [
        "There is no missing values in the dataset, and no invalid datatypes"
      ]
    },
    {
      "cell_type": "markdown",
      "metadata": {
        "id": "td5JPZXE7xkj"
      },
      "source": [
        "We have 2k+ responses in the dataset"
      ]
    },
    {
      "cell_type": "code",
      "execution_count": 5,
      "metadata": {
        "colab": {
          "base_uri": "https://localhost:8080/",
          "height": 0
        },
        "id": "DF19GM2_6Okl",
        "outputId": "ed0ef1ce-08da-4ca5-b685-18da40a64af7"
      },
      "outputs": [
        {
          "data": {
            "text/html": [
              "<div>\n",
              "<style scoped>\n",
              "    .dataframe tbody tr th:only-of-type {\n",
              "        vertical-align: middle;\n",
              "    }\n",
              "\n",
              "    .dataframe tbody tr th {\n",
              "        vertical-align: top;\n",
              "    }\n",
              "\n",
              "    .dataframe thead th {\n",
              "        text-align: right;\n",
              "    }\n",
              "</style>\n",
              "<table border=\"1\" class=\"dataframe\">\n",
              "  <thead>\n",
              "    <tr style=\"text-align: right;\">\n",
              "      <th></th>\n",
              "      <th>Reference Number</th>\n",
              "      <th>Easting</th>\n",
              "      <th>Northing</th>\n",
              "      <th>Number of Vehicles</th>\n",
              "      <th>Accident Date</th>\n",
              "      <th>Time (24hr)</th>\n",
              "      <th>Age of Casualty</th>\n",
              "    </tr>\n",
              "  </thead>\n",
              "  <tbody>\n",
              "    <tr>\n",
              "      <th>count</th>\n",
              "      <td>2.604000e+03</td>\n",
              "      <td>2604.000000</td>\n",
              "      <td>2604.000000</td>\n",
              "      <td>2604.000000</td>\n",
              "      <td>2604</td>\n",
              "      <td>2604.000000</td>\n",
              "      <td>2604.000000</td>\n",
              "    </tr>\n",
              "    <tr>\n",
              "      <th>mean</th>\n",
              "      <td>1.102817e+08</td>\n",
              "      <td>430127.497696</td>\n",
              "      <td>434243.245392</td>\n",
              "      <td>1.959677</td>\n",
              "      <td>2011-07-08 15:33:27.373271808</td>\n",
              "      <td>1406.221966</td>\n",
              "      <td>35.297235</td>\n",
              "    </tr>\n",
              "    <tr>\n",
              "      <th>min</th>\n",
              "      <td>1.100189e+07</td>\n",
              "      <td>415290.000000</td>\n",
              "      <td>424216.000000</td>\n",
              "      <td>1.000000</td>\n",
              "      <td>2011-01-12 00:00:00</td>\n",
              "      <td>5.000000</td>\n",
              "      <td>0.000000</td>\n",
              "    </tr>\n",
              "    <tr>\n",
              "      <th>25%</th>\n",
              "      <td>1.101720e+08</td>\n",
              "      <td>427136.500000</td>\n",
              "      <td>431754.500000</td>\n",
              "      <td>2.000000</td>\n",
              "      <td>2011-04-12 18:00:00</td>\n",
              "      <td>1044.500000</td>\n",
              "      <td>21.000000</td>\n",
              "    </tr>\n",
              "    <tr>\n",
              "      <th>50%</th>\n",
              "      <td>1.103125e+08</td>\n",
              "      <td>430098.000000</td>\n",
              "      <td>434223.000000</td>\n",
              "      <td>2.000000</td>\n",
              "      <td>2011-07-08 00:00:00</td>\n",
              "      <td>1455.000000</td>\n",
              "      <td>32.000000</td>\n",
              "    </tr>\n",
              "    <tr>\n",
              "      <th>75%</th>\n",
              "      <td>1.104574e+08</td>\n",
              "      <td>432513.000000</td>\n",
              "      <td>436165.000000</td>\n",
              "      <td>2.000000</td>\n",
              "      <td>2011-10-05 00:00:00</td>\n",
              "      <td>1750.000000</td>\n",
              "      <td>46.000000</td>\n",
              "    </tr>\n",
              "    <tr>\n",
              "      <th>max</th>\n",
              "      <td>1.200074e+08</td>\n",
              "      <td>444895.000000</td>\n",
              "      <td>449409.000000</td>\n",
              "      <td>8.000000</td>\n",
              "      <td>2011-12-31 00:00:00</td>\n",
              "      <td>2355.000000</td>\n",
              "      <td>95.000000</td>\n",
              "    </tr>\n",
              "    <tr>\n",
              "      <th>std</th>\n",
              "      <td>1.971720e+06</td>\n",
              "      <td>5118.276964</td>\n",
              "      <td>4383.146273</td>\n",
              "      <td>0.801163</td>\n",
              "      <td>NaN</td>\n",
              "      <td>509.065769</td>\n",
              "      <td>18.491683</td>\n",
              "    </tr>\n",
              "  </tbody>\n",
              "</table>\n",
              "</div>"
            ],
            "text/plain": [
              "       Reference Number        Easting  ...  Time (24hr)  Age of Casualty\n",
              "count      2.604000e+03    2604.000000  ...  2604.000000      2604.000000\n",
              "mean       1.102817e+08  430127.497696  ...  1406.221966        35.297235\n",
              "min        1.100189e+07  415290.000000  ...     5.000000         0.000000\n",
              "25%        1.101720e+08  427136.500000  ...  1044.500000        21.000000\n",
              "50%        1.103125e+08  430098.000000  ...  1455.000000        32.000000\n",
              "75%        1.104574e+08  432513.000000  ...  1750.000000        46.000000\n",
              "max        1.200074e+08  444895.000000  ...  2355.000000        95.000000\n",
              "std        1.971720e+06    5118.276964  ...   509.065769        18.491683\n",
              "\n",
              "[8 rows x 7 columns]"
            ]
          },
          "execution_count": 5,
          "metadata": {},
          "output_type": "execute_result"
        }
      ],
      "source": [
        "# print summary statistics of nominal columns\n",
        "df.describe()"
      ]
    },
    {
      "cell_type": "markdown",
      "metadata": {
        "id": "acAIAUnu7Nd7"
      },
      "source": [
        "Insights: <br>\n",
        "<ul>Data is collected within the time interval (2011-01-12 00:00:00, 2011-12-31 00:00:00)</ul>\n",
        "<ul>The max number of vehicles involved in accidents were up to 8</ul>\n",
        "<ul>The min time of accidents was 5 hours, and the max ws up to +2300 hours</ul>\n",
        "<ul>The age of passenger involved with accidents starts with 0; we assume this indicated new born babies</ul>"
      ]
    },
    {
      "cell_type": "markdown",
      "metadata": {
        "id": "iLOJHlRN6pZB"
      },
      "source": [
        "## Data Cleaning"
      ]
    },
    {
      "cell_type": "code",
      "execution_count": 6,
      "metadata": {
        "id": "LGcGzUkK6q9r"
      },
      "outputs": [],
      "source": [
        "# convert the \"Accident Date\" col to datetime data type\n",
        "# df[\"Accident Date\"]=pd.to_datetime(df[\"Accident Date\"])"
      ]
    },
    {
      "cell_type": "code",
      "execution_count": 7,
      "metadata": {
        "colab": {
          "base_uri": "https://localhost:8080/"
        },
        "id": "p0Mfa-IZM_MI",
        "outputId": "b5bfa5a9-3798-41f4-f6de-91c189482f9a"
      },
      "outputs": [
        {
          "name": "stdout",
          "output_type": "stream",
          "text": [
            "17\n"
          ]
        }
      ],
      "source": [
        "## check duplicates\n",
        "print(df.duplicated().sum())\n",
        "df.drop_duplicates(inplace=True)"
      ]
    },
    {
      "cell_type": "markdown",
      "metadata": {
        "id": "kovcmwgYNK1I"
      },
      "source": [
        "We see that there are 17 rows out of 2.5k+ are duplicated, we will drop them"
      ]
    },
    {
      "cell_type": "code",
      "execution_count": 8,
      "metadata": {
        "colab": {
          "base_uri": "https://localhost:8080/",
          "height": 0
        },
        "id": "cWB8snpDNvuL",
        "outputId": "f3738102-8580-4214-ec98-8a9eb2d9b02c"
      },
      "outputs": [
        {
          "data": {
            "application/vnd.plotly.v1+json": {
              "config": {
                "plotlyServerURL": "https://plot.ly"
              },
              "data": [
                {
                  "marker": {
                    "color": "mediumslateblue"
                  },
                  "name": "Number of Vehicles",
                  "type": "box",
                  "xaxis": "x",
                  "y": {
                    "bdata": "AgIBAQICAQQCAgMCAgICAQMDAwMBAgICAgICAgIBAQMBAgICAQEBAgICAQEBAQIBAgICAwMCAgICAgICAgICAgICAgEBAgICAgICAwEBAQIBAgMDAwMCAQECAQEBAgMDAgEBAgICAgICAwMDAgMDAgIBAgEEAgICAgIBAgICAQIBAgICAgIBAQECAgECAgIBAgICAQIBAgEBAQECAgIBBQUFBQICAgICAgICAgEBAgIBAQIBAQECAgECAgICAgIBAQECAwICAgIBAQICAgECAQIBAQICAgICAQECAgIBAgICAgIBAgICAgICAgICAgECAgIBAgICAgIBAgICAgECAQIBAgICAgEBAgICAgMCAgMDAwQEAgMCAQICAwMDAQIDAwMBAQICAgICAwICAQEBAQMDAwECAQICAgICAgIBAgMDAQMCAgEBAQICAgICAQICAgIBAgICAgECAgICAQICAgECAgICAgIBAQICAgECAgEBAQICAgIBAQICAgICAQECAgIDAwMDAgICAwMDAQEBAgICAQECAQICAgIBAgMBAQEBAgIBAgICAgICAwMDAgIBAgEBAgIBAgICAQECAQICAgIBAQMDAQEBAQICAgICAgICAgICAgICAQECAgICAgICAQECAgECAgIBAQIBAgECAgICAgICAgECAgEBAgQCAgIBAQICAgIBAQIDAwIDAgICAgICAwICAgICAQYGAQIBAgIBAgIBAwMBAQICAgIBAgICBQUCAgICAgICAgIBAwMDAwMDAwECAgICAgICAgICAgICBAQEAQICAgICAgIFBQUCAgMDAgICAgICAgICAQMDAgICAgEBAgIBAgMDAwMCAgIDAgQCAgMDAwMDAgICAgIBAQEBAQECAQIBAQICAgICAgICAgICAgICAgEBAQICAgEBAQIBAgIDAwMCAgICAwEDAwMCAgICAgICBQUFBQUCAgIEBAQEBAQCAgIBAQIBAgICAgIBAQMDAwEDAgICAQICAgICAgICAgIBAgIBAQECAQICAQIBAQECAwMDAwICBAQEAgICAgICAgUCAgECAgICAgICAQECAgQEBAQEBAQCAgICAgIBAQEBAwMCAgICBAQBAQEBAQICAgICAgIDAgICAgICAgICAQEBAwEBAgICAgICAgIBAgMDAgEBAQEBAQECAgECAgIBAgQEAQICAgICAQICAgICAgICAgICAQMBAQQEAgICAQECAgICAgICBAQEAgICAgICAQICAgEDAwMDAgIBAgIBAwEBAQIBAQICAgICAgIBAgECAgICAQEBAQEBAQEBAQECAQMDAwIEBAICAgECAgIDAgICAQEBAQICAgMBAwMCAgECAQMCAgICAQICAgICAgEEAwMDAwMBAgICAgICAgIDAQICAgMDAwICAgIBAQEBAgICAgICAgICAgECAgECAgICAQECAgECAgICAgICAgICAgICAgICAwMDAwICAgMDAgICAgICAgICAgIBAgMDAgEDAgIBAgIBAQIDAwIBAQIBAQICAgICAgECAgICAgICAgICAgIBAQEDAgMDAgICAQICAgICAQICAQECAQICAgIBAQEBAwECAgICAgIBAgMCAgIBAgIBAQQCAgICAgIBAQEDAwICAgEBAgIBAQICAgICAgECAgICAgECAQMCAQICAgICAgECAgICAgICAgICAgECAgIBAgEDAwMCBAQCAgQEBAQEAgICAgEBAQICAwECAQEDAgICAgICAgIBAgICAQIBAQICAwMDAwMCBAQCAQICAgICAgICAgICAQMCAgEFBQUBAgEBAgEBAQIBBAICAgEBAQECAQICAgIDAwICAgICAgICAQICAgMDAQICAgIBAwMDAQEDAwMBAgIBAgIDAgICAgUFBQUFAgICAgICAgICAgICAQEBAQEBAQICAQIBAQEBAgICAgICAgIBAwICAgICAgEBAgECAgICAgICAQICAgIBAQMCAgICAgICAgICAgMCAgECAgMCAgEBAQQBAgICAgICAgQEBAEBAgICAQIBAQIBAgICAgICAQICAgIBAgICAgICAgICAgICAQECAQICAgICAQICAgICAgIDAgIBAgIBAgICAgECAgICAgICAgICAQICAgIBAQICAgECBAECAgMDAgICAgICAgICAgECAgICAgEBAwMDAwICAwMBAQICAgICAgQBAQEBAQEBAQIBAgICAgIBAQQEAgICAgIBAQICAgICAgICAgICAgICAQICAgECAQICAgICAgICAgECAgICAgICAgIBAQICAgIBAgICAgIBAgICAgICAgICAgICAgECAgIBAQECAQICAgICAgIDAwMCAQECAgIBAgICAgICAQECAgICAQEBAQEBAgIBAgEBAgEBAgEBAQECAgICAgQEBAQCAgIBAgIDAgICAgEDAwICAgQEAQICAgICAgICAgECAgIBAQICAwMDAwMCAgICAgECAgICAQECAgICBAEBAgQEBAIGBgYGAgICAgICAgECAQICAgQCAgICAgECAwMCAgEBAQICAQICAgICAgMCAgICAgIBAQIBAQEBAgICAgIBAgIDAgICAQICAgMCAQICAgEEAgIBAQQEAgICAgICAgICAQECAgMDAwMCAQIBAgICAgICAgICAQICAgICAgMBAQECAgEBAgIBAgICAgEBAgICAgIBAgICAgIBAgICAgIBAQMDAgIBAQICAgIDAwICAgICAQEBAgIDAwIBAgEBAgICAgIBAQICAgECAgMDAgECAgICAgIBAQECAgICAgICAQICAgIBAQICAgICAgECAgIBAgECBAICAgICAgICAQEBAgEBAwMDAQEBAgEBAgIBAgICAgICAgIBAQECAgICBAICAgICAQEBAgICAgICAgICAgECAgICAgICAgICAQICAgICBAQEBAIBAQIBAgICAgIBAgIBAQQEAQICAQICAgICAQICAQECAgIBAgMDAgICAgEBAQICAgICAgICAQECAgICAQICAgIBAQEBAQICAgIBAgIEAgEBAgICAgEBAgIBBAQEAgECAgICAgEBAgICAQICAQEBAgICAQIBAQICAgICAgMDAgICAQIFAQICAgICAQICAgICAgICAgICAgECAgECAgICAQQEBAEEAgICAQICAQICAgEEBAQEAgMCAQICAQICAQIBAgECAwMDAQICAQIBAQICAgECAgIDAQEBAgIBAQICAQIBAQICAgICAwMBAQICAgICAgICAgEBAgICAgIEBAEBAQIBAgICAgICAgECAQECAQICAQEDAwICAgEDAgIBAgIDCAgIAgECAgEBAgEBAQICAgICAgICAgICAgICAgIDAwMDAgMDAwECAQECAgICAwICAQECAgICAQICAQICAwEBAwMBAwMDAgICAQEBAQICAgICAgICAQECAwICAgECAQICAgEBAQIBAQECAQ==",
                    "dtype": "i1"
                  },
                  "yaxis": "y"
                },
                {
                  "marker": {
                    "color": "mediumslateblue"
                  },
                  "name": "Time (24hr)",
                  "type": "box",
                  "xaxis": "x2",
                  "y": {
                    "bdata": "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",
                    "dtype": "i2"
                  },
                  "yaxis": "y2"
                },
                {
                  "marker": {
                    "color": "mediumslateblue"
                  },
                  "name": "Age of Casualty",
                  "type": "box",
                  "xaxis": "x3",
                  "y": {
                    "bdata": "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",
                    "dtype": "i1"
                  },
                  "yaxis": "y3"
                }
              ],
              "layout": {
                "annotations": [
                  {
                    "font": {
                      "size": 16
                    },
                    "showarrow": false,
                    "text": "Number of Vehicles",
                    "x": 0.225,
                    "xanchor": "center",
                    "xref": "paper",
                    "y": 1,
                    "yanchor": "bottom",
                    "yref": "paper"
                  },
                  {
                    "font": {
                      "size": 16
                    },
                    "showarrow": false,
                    "text": "Time (24hr)",
                    "x": 0.775,
                    "xanchor": "center",
                    "xref": "paper",
                    "y": 1,
                    "yanchor": "bottom",
                    "yref": "paper"
                  },
                  {
                    "font": {
                      "size": 16
                    },
                    "showarrow": false,
                    "text": "Age of Casualty",
                    "x": 0.225,
                    "xanchor": "center",
                    "xref": "paper",
                    "y": 0.375,
                    "yanchor": "bottom",
                    "yref": "paper"
                  }
                ],
                "height": 600,
                "template": {
                  "data": {
                    "bar": [
                      {
                        "error_x": {
                          "color": "#2a3f5f"
                        },
                        "error_y": {
                          "color": "#2a3f5f"
                        },
                        "marker": {
                          "line": {
                            "color": "#E5ECF6",
                            "width": 0.5
                          },
                          "pattern": {
                            "fillmode": "overlay",
                            "size": 10,
                            "solidity": 0.2
                          }
                        },
                        "type": "bar"
                      }
                    ],
                    "barpolar": [
                      {
                        "marker": {
                          "line": {
                            "color": "#E5ECF6",
                            "width": 0.5
                          },
                          "pattern": {
                            "fillmode": "overlay",
                            "size": 10,
                            "solidity": 0.2
                          }
                        },
                        "type": "barpolar"
                      }
                    ],
                    "carpet": [
                      {
                        "aaxis": {
                          "endlinecolor": "#2a3f5f",
                          "gridcolor": "white",
                          "linecolor": "white",
                          "minorgridcolor": "white",
                          "startlinecolor": "#2a3f5f"
                        },
                        "baxis": {
                          "endlinecolor": "#2a3f5f",
                          "gridcolor": "white",
                          "linecolor": "white",
                          "minorgridcolor": "white",
                          "startlinecolor": "#2a3f5f"
                        },
                        "type": "carpet"
                      }
                    ],
                    "choropleth": [
                      {
                        "colorbar": {
                          "outlinewidth": 0,
                          "ticks": ""
                        },
                        "type": "choropleth"
                      }
                    ],
                    "contour": [
                      {
                        "colorbar": {
                          "outlinewidth": 0,
                          "ticks": ""
                        },
                        "colorscale": [
                          [
                            0,
                            "#0d0887"
                          ],
                          [
                            0.1111111111111111,
                            "#46039f"
                          ],
                          [
                            0.2222222222222222,
                            "#7201a8"
                          ],
                          [
                            0.3333333333333333,
                            "#9c179e"
                          ],
                          [
                            0.4444444444444444,
                            "#bd3786"
                          ],
                          [
                            0.5555555555555556,
                            "#d8576b"
                          ],
                          [
                            0.6666666666666666,
                            "#ed7953"
                          ],
                          [
                            0.7777777777777778,
                            "#fb9f3a"
                          ],
                          [
                            0.8888888888888888,
                            "#fdca26"
                          ],
                          [
                            1,
                            "#f0f921"
                          ]
                        ],
                        "type": "contour"
                      }
                    ],
                    "contourcarpet": [
                      {
                        "colorbar": {
                          "outlinewidth": 0,
                          "ticks": ""
                        },
                        "type": "contourcarpet"
                      }
                    ],
                    "heatmap": [
                      {
                        "colorbar": {
                          "outlinewidth": 0,
                          "ticks": ""
                        },
                        "colorscale": [
                          [
                            0,
                            "#0d0887"
                          ],
                          [
                            0.1111111111111111,
                            "#46039f"
                          ],
                          [
                            0.2222222222222222,
                            "#7201a8"
                          ],
                          [
                            0.3333333333333333,
                            "#9c179e"
                          ],
                          [
                            0.4444444444444444,
                            "#bd3786"
                          ],
                          [
                            0.5555555555555556,
                            "#d8576b"
                          ],
                          [
                            0.6666666666666666,
                            "#ed7953"
                          ],
                          [
                            0.7777777777777778,
                            "#fb9f3a"
                          ],
                          [
                            0.8888888888888888,
                            "#fdca26"
                          ],
                          [
                            1,
                            "#f0f921"
                          ]
                        ],
                        "type": "heatmap"
                      }
                    ],
                    "histogram": [
                      {
                        "marker": {
                          "pattern": {
                            "fillmode": "overlay",
                            "size": 10,
                            "solidity": 0.2
                          }
                        },
                        "type": "histogram"
                      }
                    ],
                    "histogram2d": [
                      {
                        "colorbar": {
                          "outlinewidth": 0,
                          "ticks": ""
                        },
                        "colorscale": [
                          [
                            0,
                            "#0d0887"
                          ],
                          [
                            0.1111111111111111,
                            "#46039f"
                          ],
                          [
                            0.2222222222222222,
                            "#7201a8"
                          ],
                          [
                            0.3333333333333333,
                            "#9c179e"
                          ],
                          [
                            0.4444444444444444,
                            "#bd3786"
                          ],
                          [
                            0.5555555555555556,
                            "#d8576b"
                          ],
                          [
                            0.6666666666666666,
                            "#ed7953"
                          ],
                          [
                            0.7777777777777778,
                            "#fb9f3a"
                          ],
                          [
                            0.8888888888888888,
                            "#fdca26"
                          ],
                          [
                            1,
                            "#f0f921"
                          ]
                        ],
                        "type": "histogram2d"
                      }
                    ],
                    "histogram2dcontour": [
                      {
                        "colorbar": {
                          "outlinewidth": 0,
                          "ticks": ""
                        },
                        "colorscale": [
                          [
                            0,
                            "#0d0887"
                          ],
                          [
                            0.1111111111111111,
                            "#46039f"
                          ],
                          [
                            0.2222222222222222,
                            "#7201a8"
                          ],
                          [
                            0.3333333333333333,
                            "#9c179e"
                          ],
                          [
                            0.4444444444444444,
                            "#bd3786"
                          ],
                          [
                            0.5555555555555556,
                            "#d8576b"
                          ],
                          [
                            0.6666666666666666,
                            "#ed7953"
                          ],
                          [
                            0.7777777777777778,
                            "#fb9f3a"
                          ],
                          [
                            0.8888888888888888,
                            "#fdca26"
                          ],
                          [
                            1,
                            "#f0f921"
                          ]
                        ],
                        "type": "histogram2dcontour"
                      }
                    ],
                    "mesh3d": [
                      {
                        "colorbar": {
                          "outlinewidth": 0,
                          "ticks": ""
                        },
                        "type": "mesh3d"
                      }
                    ],
                    "parcoords": [
                      {
                        "line": {
                          "colorbar": {
                            "outlinewidth": 0,
                            "ticks": ""
                          }
                        },
                        "type": "parcoords"
                      }
                    ],
                    "pie": [
                      {
                        "automargin": true,
                        "type": "pie"
                      }
                    ],
                    "scatter": [
                      {
                        "fillpattern": {
                          "fillmode": "overlay",
                          "size": 10,
                          "solidity": 0.2
                        },
                        "type": "scatter"
                      }
                    ],
                    "scatter3d": [
                      {
                        "line": {
                          "colorbar": {
                            "outlinewidth": 0,
                            "ticks": ""
                          }
                        },
                        "marker": {
                          "colorbar": {
                            "outlinewidth": 0,
                            "ticks": ""
                          }
                        },
                        "type": "scatter3d"
                      }
                    ],
                    "scattercarpet": [
                      {
                        "marker": {
                          "colorbar": {
                            "outlinewidth": 0,
                            "ticks": ""
                          }
                        },
                        "type": "scattercarpet"
                      }
                    ],
                    "scattergeo": [
                      {
                        "marker": {
                          "colorbar": {
                            "outlinewidth": 0,
                            "ticks": ""
                          }
                        },
                        "type": "scattergeo"
                      }
                    ],
                    "scattergl": [
                      {
                        "marker": {
                          "colorbar": {
                            "outlinewidth": 0,
                            "ticks": ""
                          }
                        },
                        "type": "scattergl"
                      }
                    ],
                    "scattermap": [
                      {
                        "marker": {
                          "colorbar": {
                            "outlinewidth": 0,
                            "ticks": ""
                          }
                        },
                        "type": "scattermap"
                      }
                    ],
                    "scattermapbox": [
                      {
                        "marker": {
                          "colorbar": {
                            "outlinewidth": 0,
                            "ticks": ""
                          }
                        },
                        "type": "scattermapbox"
                      }
                    ],
                    "scatterpolar": [
                      {
                        "marker": {
                          "colorbar": {
                            "outlinewidth": 0,
                            "ticks": ""
                          }
                        },
                        "type": "scatterpolar"
                      }
                    ],
                    "scatterpolargl": [
                      {
                        "marker": {
                          "colorbar": {
                            "outlinewidth": 0,
                            "ticks": ""
                          }
                        },
                        "type": "scatterpolargl"
                      }
                    ],
                    "scatterternary": [
                      {
                        "marker": {
                          "colorbar": {
                            "outlinewidth": 0,
                            "ticks": ""
                          }
                        },
                        "type": "scatterternary"
                      }
                    ],
                    "surface": [
                      {
                        "colorbar": {
                          "outlinewidth": 0,
                          "ticks": ""
                        },
                        "colorscale": [
                          [
                            0,
                            "#0d0887"
                          ],
                          [
                            0.1111111111111111,
                            "#46039f"
                          ],
                          [
                            0.2222222222222222,
                            "#7201a8"
                          ],
                          [
                            0.3333333333333333,
                            "#9c179e"
                          ],
                          [
                            0.4444444444444444,
                            "#bd3786"
                          ],
                          [
                            0.5555555555555556,
                            "#d8576b"
                          ],
                          [
                            0.6666666666666666,
                            "#ed7953"
                          ],
                          [
                            0.7777777777777778,
                            "#fb9f3a"
                          ],
                          [
                            0.8888888888888888,
                            "#fdca26"
                          ],
                          [
                            1,
                            "#f0f921"
                          ]
                        ],
                        "type": "surface"
                      }
                    ],
                    "table": [
                      {
                        "cells": {
                          "fill": {
                            "color": "#EBF0F8"
                          },
                          "line": {
                            "color": "white"
                          }
                        },
                        "header": {
                          "fill": {
                            "color": "#C8D4E3"
                          },
                          "line": {
                            "color": "white"
                          }
                        },
                        "type": "table"
                      }
                    ]
                  },
                  "layout": {
                    "annotationdefaults": {
                      "arrowcolor": "#2a3f5f",
                      "arrowhead": 0,
                      "arrowwidth": 1
                    },
                    "autotypenumbers": "strict",
                    "coloraxis": {
                      "colorbar": {
                        "outlinewidth": 0,
                        "ticks": ""
                      }
                    },
                    "colorscale": {
                      "diverging": [
                        [
                          0,
                          "#8e0152"
                        ],
                        [
                          0.1,
                          "#c51b7d"
                        ],
                        [
                          0.2,
                          "#de77ae"
                        ],
                        [
                          0.3,
                          "#f1b6da"
                        ],
                        [
                          0.4,
                          "#fde0ef"
                        ],
                        [
                          0.5,
                          "#f7f7f7"
                        ],
                        [
                          0.6,
                          "#e6f5d0"
                        ],
                        [
                          0.7,
                          "#b8e186"
                        ],
                        [
                          0.8,
                          "#7fbc41"
                        ],
                        [
                          0.9,
                          "#4d9221"
                        ],
                        [
                          1,
                          "#276419"
                        ]
                      ],
                      "sequential": [
                        [
                          0,
                          "#0d0887"
                        ],
                        [
                          0.1111111111111111,
                          "#46039f"
                        ],
                        [
                          0.2222222222222222,
                          "#7201a8"
                        ],
                        [
                          0.3333333333333333,
                          "#9c179e"
                        ],
                        [
                          0.4444444444444444,
                          "#bd3786"
                        ],
                        [
                          0.5555555555555556,
                          "#d8576b"
                        ],
                        [
                          0.6666666666666666,
                          "#ed7953"
                        ],
                        [
                          0.7777777777777778,
                          "#fb9f3a"
                        ],
                        [
                          0.8888888888888888,
                          "#fdca26"
                        ],
                        [
                          1,
                          "#f0f921"
                        ]
                      ],
                      "sequentialminus": [
                        [
                          0,
                          "#0d0887"
                        ],
                        [
                          0.1111111111111111,
                          "#46039f"
                        ],
                        [
                          0.2222222222222222,
                          "#7201a8"
                        ],
                        [
                          0.3333333333333333,
                          "#9c179e"
                        ],
                        [
                          0.4444444444444444,
                          "#bd3786"
                        ],
                        [
                          0.5555555555555556,
                          "#d8576b"
                        ],
                        [
                          0.6666666666666666,
                          "#ed7953"
                        ],
                        [
                          0.7777777777777778,
                          "#fb9f3a"
                        ],
                        [
                          0.8888888888888888,
                          "#fdca26"
                        ],
                        [
                          1,
                          "#f0f921"
                        ]
                      ]
                    },
                    "colorway": [
                      "#636efa",
                      "#EF553B",
                      "#00cc96",
                      "#ab63fa",
                      "#FFA15A",
                      "#19d3f3",
                      "#FF6692",
                      "#B6E880",
                      "#FF97FF",
                      "#FECB52"
                    ],
                    "font": {
                      "color": "#2a3f5f"
                    },
                    "geo": {
                      "bgcolor": "white",
                      "lakecolor": "white",
                      "landcolor": "#E5ECF6",
                      "showlakes": true,
                      "showland": true,
                      "subunitcolor": "white"
                    },
                    "hoverlabel": {
                      "align": "left"
                    },
                    "hovermode": "closest",
                    "mapbox": {
                      "style": "light"
                    },
                    "paper_bgcolor": "white",
                    "plot_bgcolor": "#E5ECF6",
                    "polar": {
                      "angularaxis": {
                        "gridcolor": "white",
                        "linecolor": "white",
                        "ticks": ""
                      },
                      "bgcolor": "#E5ECF6",
                      "radialaxis": {
                        "gridcolor": "white",
                        "linecolor": "white",
                        "ticks": ""
                      }
                    },
                    "scene": {
                      "xaxis": {
                        "backgroundcolor": "#E5ECF6",
                        "gridcolor": "white",
                        "gridwidth": 2,
                        "linecolor": "white",
                        "showbackground": true,
                        "ticks": "",
                        "zerolinecolor": "white"
                      },
                      "yaxis": {
                        "backgroundcolor": "#E5ECF6",
                        "gridcolor": "white",
                        "gridwidth": 2,
                        "linecolor": "white",
                        "showbackground": true,
                        "ticks": "",
                        "zerolinecolor": "white"
                      },
                      "zaxis": {
                        "backgroundcolor": "#E5ECF6",
                        "gridcolor": "white",
                        "gridwidth": 2,
                        "linecolor": "white",
                        "showbackground": true,
                        "ticks": "",
                        "zerolinecolor": "white"
                      }
                    },
                    "shapedefaults": {
                      "line": {
                        "color": "#2a3f5f"
                      }
                    },
                    "ternary": {
                      "aaxis": {
                        "gridcolor": "white",
                        "linecolor": "white",
                        "ticks": ""
                      },
                      "baxis": {
                        "gridcolor": "white",
                        "linecolor": "white",
                        "ticks": ""
                      },
                      "bgcolor": "#E5ECF6",
                      "caxis": {
                        "gridcolor": "white",
                        "linecolor": "white",
                        "ticks": ""
                      }
                    },
                    "title": {
                      "x": 0.05
                    },
                    "xaxis": {
                      "automargin": true,
                      "gridcolor": "white",
                      "linecolor": "white",
                      "ticks": "",
                      "title": {
                        "standoff": 15
                      },
                      "zerolinecolor": "white",
                      "zerolinewidth": 2
                    },
                    "yaxis": {
                      "automargin": true,
                      "gridcolor": "white",
                      "linecolor": "white",
                      "ticks": "",
                      "title": {
                        "standoff": 15
                      },
                      "zerolinecolor": "white",
                      "zerolinewidth": 2
                    }
                  }
                },
                "title": {
                  "text": "Box Plots of Columns:"
                },
                "width": 800,
                "xaxis": {
                  "anchor": "y",
                  "domain": [
                    0,
                    0.45
                  ]
                },
                "xaxis2": {
                  "anchor": "y2",
                  "domain": [
                    0.55,
                    1
                  ]
                },
                "xaxis3": {
                  "anchor": "y3",
                  "domain": [
                    0,
                    0.45
                  ]
                },
                "xaxis4": {
                  "anchor": "y4",
                  "domain": [
                    0.55,
                    1
                  ]
                },
                "yaxis": {
                  "anchor": "x",
                  "domain": [
                    0.625,
                    1
                  ]
                },
                "yaxis2": {
                  "anchor": "x2",
                  "domain": [
                    0.625,
                    1
                  ]
                },
                "yaxis3": {
                  "anchor": "x3",
                  "domain": [
                    0,
                    0.375
                  ]
                },
                "yaxis4": {
                  "anchor": "x4",
                  "domain": [
                    0,
                    0.375
                  ]
                }
              }
            }
          },
          "metadata": {},
          "output_type": "display_data"
        }
      ],
      "source": [
        "## check for outliers\n",
        "## select nominal cols\n",
        "numeric_df=df.select_dtypes(include=np.number)\n",
        "# drop ids, and location columns\n",
        "numeric_df.drop([\"Reference Number\", \"Easting\",\"Northing\"], axis=1,inplace=True)\n",
        "c = 2\n",
        "r = (len(numeric_df.columns) + c - 1) // c\n",
        "fig = make_subplots(rows=r, cols=c, subplot_titles=numeric_df.columns)\n",
        "\n",
        "# plot a box plot\n",
        "for index, column in enumerate(numeric_df.columns):\n",
        "    trace = go.Box(y=numeric_df[column], name=column, marker_color='mediumslateblue')\n",
        "    fig.add_trace(trace, row=(index // c) + 1, col=(index % c) + 1)\n",
        "\n",
        "# set layout\n",
        "fig.update_layout(height=300 * r, width=800, title_text=\"Box Plots of Columns:\")\n",
        "fig.show()"
      ]
    },
    {
      "cell_type": "markdown",
      "metadata": {
        "id": "jzhci4qIuJDY"
      },
      "source": [
        "Convert continuos age reading into age groups"
      ]
    },
    {
      "cell_type": "markdown",
      "metadata": {
        "id": "2D0Jx937Oo4j"
      },
      "source": [
        "We see that:\n",
        "- The number of vehicles which deviates from 2 are out of range records  aka outliers, We will keep those outlier points and perform EDA\n",
        "- the hours of the incidents col has no outliers data points.\n",
        "- people whose age is more than 80 yrs are considered as out of range records, we will handle this outliers by creating ege group, hence converting those continuou values into discrete.\n"
      ]
    },
    {
      "cell_type": "code",
      "execution_count": 9,
      "metadata": {
        "id": "kvy7pTSn_Z8x"
      },
      "outputs": [],
      "source": [
        "# create a new col for each group that combines groups by each 10 years\n",
        "def handle_age(age):\n",
        "    if age <70:\n",
        "        return f\"{(age//10 )* 10}-{((age//10 )* 10)+9}\"\n",
        "    else:\n",
        "        return \"+70\"\n",
        "df['age_group']=df['Age of Casualty'].apply(handle_age)"
      ]
    },
    {
      "cell_type": "code",
      "execution_count": 10,
      "metadata": {
        "colab": {
          "base_uri": "https://localhost:8080/",
          "height": 0
        },
        "id": "-uEKQXgUHx8Q",
        "outputId": "10ecb771-b3b0-402a-a19d-047bdb29d06e"
      },
      "outputs": [
        {
          "data": {
            "text/plain": [
              "0       60-69\n",
              "1       30-39\n",
              "2       60-69\n",
              "3       30-39\n",
              "4       20-29\n",
              "        ...  \n",
              "2599    10-19\n",
              "2600    10-19\n",
              "2601      +70\n",
              "2602    20-29\n",
              "2603      0-9\n",
              "Name: age_group, Length: 2587, dtype: object"
            ]
          },
          "execution_count": 10,
          "metadata": {},
          "output_type": "execute_result"
        }
      ],
      "source": [
        "df['age_group']"
      ]
    },
    {
      "cell_type": "code",
      "execution_count": 11,
      "metadata": {
        "colab": {
          "base_uri": "https://localhost:8080/",
          "height": 0
        },
        "id": "x37t4WOYH_w2",
        "outputId": "8da8542f-68e4-4dad-d054-5f5897c9dd7f"
      },
      "outputs": [
        {
          "data": {
            "application/vnd.plotly.v1+json": {
              "config": {
                "plotlyServerURL": "https://plot.ly"
              },
              "data": [
                {
                  "type": "bar",
                  "x": [
                    "20-29",
                    "30-39",
                    "40-49",
                    "10-19",
                    "50-59",
                    "+70",
                    "60-69",
                    "0-9"
                  ],
                  "y": {
                    "bdata": "rgLmAYIBbwHvAKgAhgB5AA==",
                    "dtype": "i2"
                  }
                }
              ],
              "layout": {
                "bargap": 0.1,
                "template": {
                  "data": {
                    "bar": [
                      {
                        "error_x": {
                          "color": "#2a3f5f"
                        },
                        "error_y": {
                          "color": "#2a3f5f"
                        },
                        "marker": {
                          "line": {
                            "color": "#E5ECF6",
                            "width": 0.5
                          },
                          "pattern": {
                            "fillmode": "overlay",
                            "size": 10,
                            "solidity": 0.2
                          }
                        },
                        "type": "bar"
                      }
                    ],
                    "barpolar": [
                      {
                        "marker": {
                          "line": {
                            "color": "#E5ECF6",
                            "width": 0.5
                          },
                          "pattern": {
                            "fillmode": "overlay",
                            "size": 10,
                            "solidity": 0.2
                          }
                        },
                        "type": "barpolar"
                      }
                    ],
                    "carpet": [
                      {
                        "aaxis": {
                          "endlinecolor": "#2a3f5f",
                          "gridcolor": "white",
                          "linecolor": "white",
                          "minorgridcolor": "white",
                          "startlinecolor": "#2a3f5f"
                        },
                        "baxis": {
                          "endlinecolor": "#2a3f5f",
                          "gridcolor": "white",
                          "linecolor": "white",
                          "minorgridcolor": "white",
                          "startlinecolor": "#2a3f5f"
                        },
                        "type": "carpet"
                      }
                    ],
                    "choropleth": [
                      {
                        "colorbar": {
                          "outlinewidth": 0,
                          "ticks": ""
                        },
                        "type": "choropleth"
                      }
                    ],
                    "contour": [
                      {
                        "colorbar": {
                          "outlinewidth": 0,
                          "ticks": ""
                        },
                        "colorscale": [
                          [
                            0,
                            "#0d0887"
                          ],
                          [
                            0.1111111111111111,
                            "#46039f"
                          ],
                          [
                            0.2222222222222222,
                            "#7201a8"
                          ],
                          [
                            0.3333333333333333,
                            "#9c179e"
                          ],
                          [
                            0.4444444444444444,
                            "#bd3786"
                          ],
                          [
                            0.5555555555555556,
                            "#d8576b"
                          ],
                          [
                            0.6666666666666666,
                            "#ed7953"
                          ],
                          [
                            0.7777777777777778,
                            "#fb9f3a"
                          ],
                          [
                            0.8888888888888888,
                            "#fdca26"
                          ],
                          [
                            1,
                            "#f0f921"
                          ]
                        ],
                        "type": "contour"
                      }
                    ],
                    "contourcarpet": [
                      {
                        "colorbar": {
                          "outlinewidth": 0,
                          "ticks": ""
                        },
                        "type": "contourcarpet"
                      }
                    ],
                    "heatmap": [
                      {
                        "colorbar": {
                          "outlinewidth": 0,
                          "ticks": ""
                        },
                        "colorscale": [
                          [
                            0,
                            "#0d0887"
                          ],
                          [
                            0.1111111111111111,
                            "#46039f"
                          ],
                          [
                            0.2222222222222222,
                            "#7201a8"
                          ],
                          [
                            0.3333333333333333,
                            "#9c179e"
                          ],
                          [
                            0.4444444444444444,
                            "#bd3786"
                          ],
                          [
                            0.5555555555555556,
                            "#d8576b"
                          ],
                          [
                            0.6666666666666666,
                            "#ed7953"
                          ],
                          [
                            0.7777777777777778,
                            "#fb9f3a"
                          ],
                          [
                            0.8888888888888888,
                            "#fdca26"
                          ],
                          [
                            1,
                            "#f0f921"
                          ]
                        ],
                        "type": "heatmap"
                      }
                    ],
                    "histogram": [
                      {
                        "marker": {
                          "pattern": {
                            "fillmode": "overlay",
                            "size": 10,
                            "solidity": 0.2
                          }
                        },
                        "type": "histogram"
                      }
                    ],
                    "histogram2d": [
                      {
                        "colorbar": {
                          "outlinewidth": 0,
                          "ticks": ""
                        },
                        "colorscale": [
                          [
                            0,
                            "#0d0887"
                          ],
                          [
                            0.1111111111111111,
                            "#46039f"
                          ],
                          [
                            0.2222222222222222,
                            "#7201a8"
                          ],
                          [
                            0.3333333333333333,
                            "#9c179e"
                          ],
                          [
                            0.4444444444444444,
                            "#bd3786"
                          ],
                          [
                            0.5555555555555556,
                            "#d8576b"
                          ],
                          [
                            0.6666666666666666,
                            "#ed7953"
                          ],
                          [
                            0.7777777777777778,
                            "#fb9f3a"
                          ],
                          [
                            0.8888888888888888,
                            "#fdca26"
                          ],
                          [
                            1,
                            "#f0f921"
                          ]
                        ],
                        "type": "histogram2d"
                      }
                    ],
                    "histogram2dcontour": [
                      {
                        "colorbar": {
                          "outlinewidth": 0,
                          "ticks": ""
                        },
                        "colorscale": [
                          [
                            0,
                            "#0d0887"
                          ],
                          [
                            0.1111111111111111,
                            "#46039f"
                          ],
                          [
                            0.2222222222222222,
                            "#7201a8"
                          ],
                          [
                            0.3333333333333333,
                            "#9c179e"
                          ],
                          [
                            0.4444444444444444,
                            "#bd3786"
                          ],
                          [
                            0.5555555555555556,
                            "#d8576b"
                          ],
                          [
                            0.6666666666666666,
                            "#ed7953"
                          ],
                          [
                            0.7777777777777778,
                            "#fb9f3a"
                          ],
                          [
                            0.8888888888888888,
                            "#fdca26"
                          ],
                          [
                            1,
                            "#f0f921"
                          ]
                        ],
                        "type": "histogram2dcontour"
                      }
                    ],
                    "mesh3d": [
                      {
                        "colorbar": {
                          "outlinewidth": 0,
                          "ticks": ""
                        },
                        "type": "mesh3d"
                      }
                    ],
                    "parcoords": [
                      {
                        "line": {
                          "colorbar": {
                            "outlinewidth": 0,
                            "ticks": ""
                          }
                        },
                        "type": "parcoords"
                      }
                    ],
                    "pie": [
                      {
                        "automargin": true,
                        "type": "pie"
                      }
                    ],
                    "scatter": [
                      {
                        "fillpattern": {
                          "fillmode": "overlay",
                          "size": 10,
                          "solidity": 0.2
                        },
                        "type": "scatter"
                      }
                    ],
                    "scatter3d": [
                      {
                        "line": {
                          "colorbar": {
                            "outlinewidth": 0,
                            "ticks": ""
                          }
                        },
                        "marker": {
                          "colorbar": {
                            "outlinewidth": 0,
                            "ticks": ""
                          }
                        },
                        "type": "scatter3d"
                      }
                    ],
                    "scattercarpet": [
                      {
                        "marker": {
                          "colorbar": {
                            "outlinewidth": 0,
                            "ticks": ""
                          }
                        },
                        "type": "scattercarpet"
                      }
                    ],
                    "scattergeo": [
                      {
                        "marker": {
                          "colorbar": {
                            "outlinewidth": 0,
                            "ticks": ""
                          }
                        },
                        "type": "scattergeo"
                      }
                    ],
                    "scattergl": [
                      {
                        "marker": {
                          "colorbar": {
                            "outlinewidth": 0,
                            "ticks": ""
                          }
                        },
                        "type": "scattergl"
                      }
                    ],
                    "scattermap": [
                      {
                        "marker": {
                          "colorbar": {
                            "outlinewidth": 0,
                            "ticks": ""
                          }
                        },
                        "type": "scattermap"
                      }
                    ],
                    "scattermapbox": [
                      {
                        "marker": {
                          "colorbar": {
                            "outlinewidth": 0,
                            "ticks": ""
                          }
                        },
                        "type": "scattermapbox"
                      }
                    ],
                    "scatterpolar": [
                      {
                        "marker": {
                          "colorbar": {
                            "outlinewidth": 0,
                            "ticks": ""
                          }
                        },
                        "type": "scatterpolar"
                      }
                    ],
                    "scatterpolargl": [
                      {
                        "marker": {
                          "colorbar": {
                            "outlinewidth": 0,
                            "ticks": ""
                          }
                        },
                        "type": "scatterpolargl"
                      }
                    ],
                    "scatterternary": [
                      {
                        "marker": {
                          "colorbar": {
                            "outlinewidth": 0,
                            "ticks": ""
                          }
                        },
                        "type": "scatterternary"
                      }
                    ],
                    "surface": [
                      {
                        "colorbar": {
                          "outlinewidth": 0,
                          "ticks": ""
                        },
                        "colorscale": [
                          [
                            0,
                            "#0d0887"
                          ],
                          [
                            0.1111111111111111,
                            "#46039f"
                          ],
                          [
                            0.2222222222222222,
                            "#7201a8"
                          ],
                          [
                            0.3333333333333333,
                            "#9c179e"
                          ],
                          [
                            0.4444444444444444,
                            "#bd3786"
                          ],
                          [
                            0.5555555555555556,
                            "#d8576b"
                          ],
                          [
                            0.6666666666666666,
                            "#ed7953"
                          ],
                          [
                            0.7777777777777778,
                            "#fb9f3a"
                          ],
                          [
                            0.8888888888888888,
                            "#fdca26"
                          ],
                          [
                            1,
                            "#f0f921"
                          ]
                        ],
                        "type": "surface"
                      }
                    ],
                    "table": [
                      {
                        "cells": {
                          "fill": {
                            "color": "#EBF0F8"
                          },
                          "line": {
                            "color": "white"
                          }
                        },
                        "header": {
                          "fill": {
                            "color": "#C8D4E3"
                          },
                          "line": {
                            "color": "white"
                          }
                        },
                        "type": "table"
                      }
                    ]
                  },
                  "layout": {
                    "annotationdefaults": {
                      "arrowcolor": "#2a3f5f",
                      "arrowhead": 0,
                      "arrowwidth": 1
                    },
                    "autotypenumbers": "strict",
                    "coloraxis": {
                      "colorbar": {
                        "outlinewidth": 0,
                        "ticks": ""
                      }
                    },
                    "colorscale": {
                      "diverging": [
                        [
                          0,
                          "#8e0152"
                        ],
                        [
                          0.1,
                          "#c51b7d"
                        ],
                        [
                          0.2,
                          "#de77ae"
                        ],
                        [
                          0.3,
                          "#f1b6da"
                        ],
                        [
                          0.4,
                          "#fde0ef"
                        ],
                        [
                          0.5,
                          "#f7f7f7"
                        ],
                        [
                          0.6,
                          "#e6f5d0"
                        ],
                        [
                          0.7,
                          "#b8e186"
                        ],
                        [
                          0.8,
                          "#7fbc41"
                        ],
                        [
                          0.9,
                          "#4d9221"
                        ],
                        [
                          1,
                          "#276419"
                        ]
                      ],
                      "sequential": [
                        [
                          0,
                          "#0d0887"
                        ],
                        [
                          0.1111111111111111,
                          "#46039f"
                        ],
                        [
                          0.2222222222222222,
                          "#7201a8"
                        ],
                        [
                          0.3333333333333333,
                          "#9c179e"
                        ],
                        [
                          0.4444444444444444,
                          "#bd3786"
                        ],
                        [
                          0.5555555555555556,
                          "#d8576b"
                        ],
                        [
                          0.6666666666666666,
                          "#ed7953"
                        ],
                        [
                          0.7777777777777778,
                          "#fb9f3a"
                        ],
                        [
                          0.8888888888888888,
                          "#fdca26"
                        ],
                        [
                          1,
                          "#f0f921"
                        ]
                      ],
                      "sequentialminus": [
                        [
                          0,
                          "#0d0887"
                        ],
                        [
                          0.1111111111111111,
                          "#46039f"
                        ],
                        [
                          0.2222222222222222,
                          "#7201a8"
                        ],
                        [
                          0.3333333333333333,
                          "#9c179e"
                        ],
                        [
                          0.4444444444444444,
                          "#bd3786"
                        ],
                        [
                          0.5555555555555556,
                          "#d8576b"
                        ],
                        [
                          0.6666666666666666,
                          "#ed7953"
                        ],
                        [
                          0.7777777777777778,
                          "#fb9f3a"
                        ],
                        [
                          0.8888888888888888,
                          "#fdca26"
                        ],
                        [
                          1,
                          "#f0f921"
                        ]
                      ]
                    },
                    "colorway": [
                      "#636efa",
                      "#EF553B",
                      "#00cc96",
                      "#ab63fa",
                      "#FFA15A",
                      "#19d3f3",
                      "#FF6692",
                      "#B6E880",
                      "#FF97FF",
                      "#FECB52"
                    ],
                    "font": {
                      "color": "#2a3f5f"
                    },
                    "geo": {
                      "bgcolor": "white",
                      "lakecolor": "white",
                      "landcolor": "#E5ECF6",
                      "showlakes": true,
                      "showland": true,
                      "subunitcolor": "white"
                    },
                    "hoverlabel": {
                      "align": "left"
                    },
                    "hovermode": "closest",
                    "mapbox": {
                      "style": "light"
                    },
                    "paper_bgcolor": "white",
                    "plot_bgcolor": "#E5ECF6",
                    "polar": {
                      "angularaxis": {
                        "gridcolor": "white",
                        "linecolor": "white",
                        "ticks": ""
                      },
                      "bgcolor": "#E5ECF6",
                      "radialaxis": {
                        "gridcolor": "white",
                        "linecolor": "white",
                        "ticks": ""
                      }
                    },
                    "scene": {
                      "xaxis": {
                        "backgroundcolor": "#E5ECF6",
                        "gridcolor": "white",
                        "gridwidth": 2,
                        "linecolor": "white",
                        "showbackground": true,
                        "ticks": "",
                        "zerolinecolor": "white"
                      },
                      "yaxis": {
                        "backgroundcolor": "#E5ECF6",
                        "gridcolor": "white",
                        "gridwidth": 2,
                        "linecolor": "white",
                        "showbackground": true,
                        "ticks": "",
                        "zerolinecolor": "white"
                      },
                      "zaxis": {
                        "backgroundcolor": "#E5ECF6",
                        "gridcolor": "white",
                        "gridwidth": 2,
                        "linecolor": "white",
                        "showbackground": true,
                        "ticks": "",
                        "zerolinecolor": "white"
                      }
                    },
                    "shapedefaults": {
                      "line": {
                        "color": "#2a3f5f"
                      }
                    },
                    "ternary": {
                      "aaxis": {
                        "gridcolor": "white",
                        "linecolor": "white",
                        "ticks": ""
                      },
                      "baxis": {
                        "gridcolor": "white",
                        "linecolor": "white",
                        "ticks": ""
                      },
                      "bgcolor": "#E5ECF6",
                      "caxis": {
                        "gridcolor": "white",
                        "linecolor": "white",
                        "ticks": ""
                      }
                    },
                    "title": {
                      "x": 0.05
                    },
                    "xaxis": {
                      "automargin": true,
                      "gridcolor": "white",
                      "linecolor": "white",
                      "ticks": "",
                      "title": {
                        "standoff": 15
                      },
                      "zerolinecolor": "white",
                      "zerolinewidth": 2
                    },
                    "yaxis": {
                      "automargin": true,
                      "gridcolor": "white",
                      "linecolor": "white",
                      "ticks": "",
                      "title": {
                        "standoff": 15
                      },
                      "zerolinecolor": "white",
                      "zerolinewidth": 2
                    }
                  }
                },
                "title": {
                  "text": "Age Group Distribution"
                },
                "xaxis": {
                  "title": {
                    "text": "Age Group"
                  }
                },
                "yaxis": {
                  "title": {
                    "text": "Count"
                  }
                }
              }
            }
          },
          "metadata": {},
          "output_type": "display_data"
        }
      ],
      "source": [
        "# plot age group\n",
        "age_group_counts = df['age_group'].value_counts()\n",
        "fig = go.Figure(data=[go.Bar(x=age_group_counts.index, y=age_group_counts.values)])\n",
        "fig.update_layout(\n",
        "    title='Age Group Distribution',\n",
        "    xaxis_title='Age Group',\n",
        "    yaxis_title='Count',\n",
        "    bargap=0.1\n",
        ")\n",
        "\n",
        "fig.show()"
      ]
    },
    {
      "cell_type": "markdown",
      "metadata": {
        "id": "J5aNcMvD1ZlU"
      },
      "source": [
        "## EDA"
      ]
    },
    {
      "cell_type": "code",
      "execution_count": 12,
      "metadata": {
        "id": "h9gt4WzmV1aD"
      },
      "outputs": [],
      "source": [
        "# useful lib for initial quick eda\n",
        "# profile=ProfileReport(df, title='car accidents')\n",
        "# profile.to_file(output_file='car accidents.html')\n",
        "# pyg.walk(df)"
      ]
    },
    {
      "cell_type": "code",
      "execution_count": 13,
      "metadata": {
        "colab": {
          "base_uri": "https://localhost:8080/"
        },
        "id": "hIIDTGFR9g-w",
        "outputId": "88d9f17d-8410-4641-89ed-792730ce2e10"
      },
      "outputs": [
        {
          "data": {
            "text/plain": [
              "Index(['Reference Number', 'Easting', 'Northing', 'Number of Vehicles',\n",
              "       'Accident Date', 'Time (24hr)', '1st Road Class', 'Road Surface',\n",
              "       'Lighting Conditions', 'Weather Conditions', 'Casualty Class',\n",
              "       'Casualty Severity', 'Sex of Casualty', 'Age of Casualty',\n",
              "       'Type of Vehicle', 'age_group'],\n",
              "      dtype='object')"
            ]
          },
          "execution_count": 13,
          "metadata": {},
          "output_type": "execute_result"
        }
      ],
      "source": [
        "# names of df columns\n",
        "df.columns"
      ]
    },
    {
      "cell_type": "code",
      "execution_count": 14,
      "metadata": {
        "colab": {
          "base_uri": "https://localhost:8080/",
          "height": 0
        },
        "id": "JjLMK5RC7aRI",
        "outputId": "f49f01cb-314c-4294-ddd2-0b105913002a"
      },
      "outputs": [
        {
          "data": {
            "application/vnd.plotly.v1+json": {
              "config": {
                "plotlyServerURL": "https://plot.ly"
              },
              "data": [
                {
                  "marker": {
                    "color": "mediumslateblue"
                  },
                  "orientation": "h",
                  "type": "bar",
                  "x": {
                    "bdata": "LQaCAu8AXAAYAAYAAwA=",
                    "dtype": "i2"
                  },
                  "xaxis": "x",
                  "y": {
                    "bdata": "AgEDBAUGCA==",
                    "dtype": "i1"
                  },
                  "yaxis": "y"
                },
                {
                  "marker": {
                    "color": "mediumslateblue"
                  },
                  "orientation": "h",
                  "type": "bar",
                  "x": {
                    "bdata": "tATSA6YAowBMAA==",
                    "dtype": "i2"
                  },
                  "xaxis": "x2",
                  "y": [
                    "Unclassified",
                    "A",
                    "Motorway",
                    "B",
                    "A(M)"
                  ],
                  "yaxis": "y2"
                },
                {
                  "marker": {
                    "color": "mediumslateblue"
                  },
                  "orientation": "h",
                  "type": "bar",
                  "x": {
                    "bdata": "zgc4AhQAAQA=",
                    "dtype": "i2"
                  },
                  "xaxis": "x3",
                  "y": [
                    "Dry",
                    "Wet / Damp",
                    "Frost / Ice",
                    5
                  ],
                  "yaxis": "y3"
                },
                {
                  "marker": {
                    "color": "mediumslateblue"
                  },
                  "orientation": "h",
                  "type": "bar",
                  "x": {
                    "bdata": "fwfyAX4AKQADAA==",
                    "dtype": "i2"
                  },
                  "xaxis": "x4",
                  "y": [
                    "Daylight: street lights present",
                    "Darkness: street lights present and lit",
                    "Darkness: street lighting unknown",
                    "Darkness: no street lighting",
                    "Darkness: street lights present but unlit"
                  ],
                  "yaxis": "y4"
                },
                {
                  "marker": {
                    "color": "mediumslateblue"
                  },
                  "orientation": "h",
                  "type": "bar",
                  "x": {
                    "bdata": "3AjTADYAIwAJAAkAAQA=",
                    "dtype": "i2"
                  },
                  "xaxis": "x5",
                  "y": [
                    "Fine without high winds",
                    "Raining without high winds",
                    "Fine with high winds",
                    "Raining with high winds",
                    "Other",
                    "Fog or mist – if hazard",
                    "Unknown"
                  ],
                  "yaxis": "y5"
                },
                {
                  "marker": {
                    "color": "mediumslateblue"
                  },
                  "orientation": "h",
                  "type": "bar",
                  "x": {
                    "bdata": "Dga9AlAB",
                    "dtype": "i2"
                  },
                  "xaxis": "x6",
                  "y": [
                    "Driver",
                    "Passenger",
                    "Pedestrian"
                  ],
                  "yaxis": "y6"
                },
                {
                  "marker": {
                    "color": "mediumslateblue"
                  },
                  "orientation": "h",
                  "type": "bar",
                  "x": {
                    "bdata": "+AgKARkA",
                    "dtype": "i2"
                  },
                  "xaxis": "x7",
                  "y": [
                    "Slight",
                    "Serious",
                    "Fatal"
                  ],
                  "yaxis": "y7"
                },
                {
                  "marker": {
                    "color": "mediumslateblue"
                  },
                  "orientation": "h",
                  "type": "bar",
                  "x": {
                    "bdata": "AwYYBA==",
                    "dtype": "i2"
                  },
                  "xaxis": "x8",
                  "y": [
                    "Male",
                    "Female"
                  ],
                  "yaxis": "y8"
                },
                {
                  "marker": {
                    "color": "mediumslateblue"
                  },
                  "orientation": "h",
                  "type": "bar",
                  "x": {
                    "bdata": "+Ab/AKkAUgBJAEcAPAAcABQADAALAAsACAACAAEA",
                    "dtype": "i2"
                  },
                  "xaxis": "x9",
                  "y": [
                    "Car",
                    "Pedal cycle",
                    "Bus or coach (17 or more passenger seats)",
                    "Taxi/Private hire car",
                    "Goods vehicle 3.5 tonnes mgw and under",
                    "Motorcycle over 50cc and up to 125cc",
                    "Motorcycle over 500cc",
                    "M/cycle 50cc and under",
                    "Motorcycle over 125cc and up to 500cc",
                    "Minibus (8 – 16 passenger seats)",
                    "Other Vehicle",
                    "Goods vehicle 7.5 tonnes mgw and over",
                    "Goods vehicle over 3.5 tonnes and under 7.5 tonnes mgw",
                    "Ridden horse",
                    "Agricultural vehicle (includes diggers etc.)"
                  ],
                  "yaxis": "y9"
                },
                {
                  "marker": {
                    "color": "mediumslateblue"
                  },
                  "orientation": "h",
                  "type": "bar",
                  "x": {
                    "bdata": "rgLmAYIBbwHvAKgAhgB5AA==",
                    "dtype": "i2"
                  },
                  "xaxis": "x10",
                  "y": [
                    "20-29",
                    "30-39",
                    "40-49",
                    "10-19",
                    "50-59",
                    "+70",
                    "60-69",
                    "0-9"
                  ],
                  "yaxis": "y10"
                }
              ],
              "layout": {
                "annotations": [
                  {
                    "font": {
                      "size": 16
                    },
                    "showarrow": false,
                    "text": "Number of Vehicles",
                    "x": 0.225,
                    "xanchor": "center",
                    "xref": "paper",
                    "y": 1,
                    "yanchor": "bottom",
                    "yref": "paper"
                  },
                  {
                    "font": {
                      "size": 16
                    },
                    "showarrow": false,
                    "text": "1st Road Class",
                    "x": 0.775,
                    "xanchor": "center",
                    "xref": "paper",
                    "y": 1,
                    "yanchor": "bottom",
                    "yref": "paper"
                  },
                  {
                    "font": {
                      "size": 16
                    },
                    "showarrow": false,
                    "text": "Road Surface",
                    "x": 0.225,
                    "xanchor": "center",
                    "xref": "paper",
                    "y": 0.78,
                    "yanchor": "bottom",
                    "yref": "paper"
                  },
                  {
                    "font": {
                      "size": 16
                    },
                    "showarrow": false,
                    "text": "Lighting Conditions",
                    "x": 0.775,
                    "xanchor": "center",
                    "xref": "paper",
                    "y": 0.78,
                    "yanchor": "bottom",
                    "yref": "paper"
                  },
                  {
                    "font": {
                      "size": 16
                    },
                    "showarrow": false,
                    "text": "Weather Conditions",
                    "x": 0.225,
                    "xanchor": "center",
                    "xref": "paper",
                    "y": 0.56,
                    "yanchor": "bottom",
                    "yref": "paper"
                  },
                  {
                    "font": {
                      "size": 16
                    },
                    "showarrow": false,
                    "text": "Casualty Class",
                    "x": 0.775,
                    "xanchor": "center",
                    "xref": "paper",
                    "y": 0.56,
                    "yanchor": "bottom",
                    "yref": "paper"
                  },
                  {
                    "font": {
                      "size": 16
                    },
                    "showarrow": false,
                    "text": "Casualty Severity",
                    "x": 0.225,
                    "xanchor": "center",
                    "xref": "paper",
                    "y": 0.33999999999999997,
                    "yanchor": "bottom",
                    "yref": "paper"
                  },
                  {
                    "font": {
                      "size": 16
                    },
                    "showarrow": false,
                    "text": "Sex of Casualty",
                    "x": 0.775,
                    "xanchor": "center",
                    "xref": "paper",
                    "y": 0.33999999999999997,
                    "yanchor": "bottom",
                    "yref": "paper"
                  },
                  {
                    "font": {
                      "size": 16
                    },
                    "showarrow": false,
                    "text": "Type of Vehicle",
                    "x": 0.225,
                    "xanchor": "center",
                    "xref": "paper",
                    "y": 0.12,
                    "yanchor": "bottom",
                    "yref": "paper"
                  },
                  {
                    "font": {
                      "size": 16
                    },
                    "showarrow": false,
                    "text": "age_group",
                    "x": 0.775,
                    "xanchor": "center",
                    "xref": "paper",
                    "y": 0.12,
                    "yanchor": "bottom",
                    "yref": "paper"
                  }
                ],
                "autosize": true,
                "height": 1500,
                "margin": {
                  "b": 50,
                  "l": 100,
                  "r": 100,
                  "t": 50
                },
                "showlegend": false,
                "template": {
                  "data": {
                    "bar": [
                      {
                        "error_x": {
                          "color": "#2a3f5f"
                        },
                        "error_y": {
                          "color": "#2a3f5f"
                        },
                        "marker": {
                          "line": {
                            "color": "white",
                            "width": 0.5
                          },
                          "pattern": {
                            "fillmode": "overlay",
                            "size": 10,
                            "solidity": 0.2
                          }
                        },
                        "type": "bar"
                      }
                    ],
                    "barpolar": [
                      {
                        "marker": {
                          "line": {
                            "color": "white",
                            "width": 0.5
                          },
                          "pattern": {
                            "fillmode": "overlay",
                            "size": 10,
                            "solidity": 0.2
                          }
                        },
                        "type": "barpolar"
                      }
                    ],
                    "carpet": [
                      {
                        "aaxis": {
                          "endlinecolor": "#2a3f5f",
                          "gridcolor": "#C8D4E3",
                          "linecolor": "#C8D4E3",
                          "minorgridcolor": "#C8D4E3",
                          "startlinecolor": "#2a3f5f"
                        },
                        "baxis": {
                          "endlinecolor": "#2a3f5f",
                          "gridcolor": "#C8D4E3",
                          "linecolor": "#C8D4E3",
                          "minorgridcolor": "#C8D4E3",
                          "startlinecolor": "#2a3f5f"
                        },
                        "type": "carpet"
                      }
                    ],
                    "choropleth": [
                      {
                        "colorbar": {
                          "outlinewidth": 0,
                          "ticks": ""
                        },
                        "type": "choropleth"
                      }
                    ],
                    "contour": [
                      {
                        "colorbar": {
                          "outlinewidth": 0,
                          "ticks": ""
                        },
                        "colorscale": [
                          [
                            0,
                            "#0d0887"
                          ],
                          [
                            0.1111111111111111,
                            "#46039f"
                          ],
                          [
                            0.2222222222222222,
                            "#7201a8"
                          ],
                          [
                            0.3333333333333333,
                            "#9c179e"
                          ],
                          [
                            0.4444444444444444,
                            "#bd3786"
                          ],
                          [
                            0.5555555555555556,
                            "#d8576b"
                          ],
                          [
                            0.6666666666666666,
                            "#ed7953"
                          ],
                          [
                            0.7777777777777778,
                            "#fb9f3a"
                          ],
                          [
                            0.8888888888888888,
                            "#fdca26"
                          ],
                          [
                            1,
                            "#f0f921"
                          ]
                        ],
                        "type": "contour"
                      }
                    ],
                    "contourcarpet": [
                      {
                        "colorbar": {
                          "outlinewidth": 0,
                          "ticks": ""
                        },
                        "type": "contourcarpet"
                      }
                    ],
                    "heatmap": [
                      {
                        "colorbar": {
                          "outlinewidth": 0,
                          "ticks": ""
                        },
                        "colorscale": [
                          [
                            0,
                            "#0d0887"
                          ],
                          [
                            0.1111111111111111,
                            "#46039f"
                          ],
                          [
                            0.2222222222222222,
                            "#7201a8"
                          ],
                          [
                            0.3333333333333333,
                            "#9c179e"
                          ],
                          [
                            0.4444444444444444,
                            "#bd3786"
                          ],
                          [
                            0.5555555555555556,
                            "#d8576b"
                          ],
                          [
                            0.6666666666666666,
                            "#ed7953"
                          ],
                          [
                            0.7777777777777778,
                            "#fb9f3a"
                          ],
                          [
                            0.8888888888888888,
                            "#fdca26"
                          ],
                          [
                            1,
                            "#f0f921"
                          ]
                        ],
                        "type": "heatmap"
                      }
                    ],
                    "histogram": [
                      {
                        "marker": {
                          "pattern": {
                            "fillmode": "overlay",
                            "size": 10,
                            "solidity": 0.2
                          }
                        },
                        "type": "histogram"
                      }
                    ],
                    "histogram2d": [
                      {
                        "colorbar": {
                          "outlinewidth": 0,
                          "ticks": ""
                        },
                        "colorscale": [
                          [
                            0,
                            "#0d0887"
                          ],
                          [
                            0.1111111111111111,
                            "#46039f"
                          ],
                          [
                            0.2222222222222222,
                            "#7201a8"
                          ],
                          [
                            0.3333333333333333,
                            "#9c179e"
                          ],
                          [
                            0.4444444444444444,
                            "#bd3786"
                          ],
                          [
                            0.5555555555555556,
                            "#d8576b"
                          ],
                          [
                            0.6666666666666666,
                            "#ed7953"
                          ],
                          [
                            0.7777777777777778,
                            "#fb9f3a"
                          ],
                          [
                            0.8888888888888888,
                            "#fdca26"
                          ],
                          [
                            1,
                            "#f0f921"
                          ]
                        ],
                        "type": "histogram2d"
                      }
                    ],
                    "histogram2dcontour": [
                      {
                        "colorbar": {
                          "outlinewidth": 0,
                          "ticks": ""
                        },
                        "colorscale": [
                          [
                            0,
                            "#0d0887"
                          ],
                          [
                            0.1111111111111111,
                            "#46039f"
                          ],
                          [
                            0.2222222222222222,
                            "#7201a8"
                          ],
                          [
                            0.3333333333333333,
                            "#9c179e"
                          ],
                          [
                            0.4444444444444444,
                            "#bd3786"
                          ],
                          [
                            0.5555555555555556,
                            "#d8576b"
                          ],
                          [
                            0.6666666666666666,
                            "#ed7953"
                          ],
                          [
                            0.7777777777777778,
                            "#fb9f3a"
                          ],
                          [
                            0.8888888888888888,
                            "#fdca26"
                          ],
                          [
                            1,
                            "#f0f921"
                          ]
                        ],
                        "type": "histogram2dcontour"
                      }
                    ],
                    "mesh3d": [
                      {
                        "colorbar": {
                          "outlinewidth": 0,
                          "ticks": ""
                        },
                        "type": "mesh3d"
                      }
                    ],
                    "parcoords": [
                      {
                        "line": {
                          "colorbar": {
                            "outlinewidth": 0,
                            "ticks": ""
                          }
                        },
                        "type": "parcoords"
                      }
                    ],
                    "pie": [
                      {
                        "automargin": true,
                        "type": "pie"
                      }
                    ],
                    "scatter": [
                      {
                        "fillpattern": {
                          "fillmode": "overlay",
                          "size": 10,
                          "solidity": 0.2
                        },
                        "type": "scatter"
                      }
                    ],
                    "scatter3d": [
                      {
                        "line": {
                          "colorbar": {
                            "outlinewidth": 0,
                            "ticks": ""
                          }
                        },
                        "marker": {
                          "colorbar": {
                            "outlinewidth": 0,
                            "ticks": ""
                          }
                        },
                        "type": "scatter3d"
                      }
                    ],
                    "scattercarpet": [
                      {
                        "marker": {
                          "colorbar": {
                            "outlinewidth": 0,
                            "ticks": ""
                          }
                        },
                        "type": "scattercarpet"
                      }
                    ],
                    "scattergeo": [
                      {
                        "marker": {
                          "colorbar": {
                            "outlinewidth": 0,
                            "ticks": ""
                          }
                        },
                        "type": "scattergeo"
                      }
                    ],
                    "scattergl": [
                      {
                        "marker": {
                          "colorbar": {
                            "outlinewidth": 0,
                            "ticks": ""
                          }
                        },
                        "type": "scattergl"
                      }
                    ],
                    "scattermap": [
                      {
                        "marker": {
                          "colorbar": {
                            "outlinewidth": 0,
                            "ticks": ""
                          }
                        },
                        "type": "scattermap"
                      }
                    ],
                    "scattermapbox": [
                      {
                        "marker": {
                          "colorbar": {
                            "outlinewidth": 0,
                            "ticks": ""
                          }
                        },
                        "type": "scattermapbox"
                      }
                    ],
                    "scatterpolar": [
                      {
                        "marker": {
                          "colorbar": {
                            "outlinewidth": 0,
                            "ticks": ""
                          }
                        },
                        "type": "scatterpolar"
                      }
                    ],
                    "scatterpolargl": [
                      {
                        "marker": {
                          "colorbar": {
                            "outlinewidth": 0,
                            "ticks": ""
                          }
                        },
                        "type": "scatterpolargl"
                      }
                    ],
                    "scatterternary": [
                      {
                        "marker": {
                          "colorbar": {
                            "outlinewidth": 0,
                            "ticks": ""
                          }
                        },
                        "type": "scatterternary"
                      }
                    ],
                    "surface": [
                      {
                        "colorbar": {
                          "outlinewidth": 0,
                          "ticks": ""
                        },
                        "colorscale": [
                          [
                            0,
                            "#0d0887"
                          ],
                          [
                            0.1111111111111111,
                            "#46039f"
                          ],
                          [
                            0.2222222222222222,
                            "#7201a8"
                          ],
                          [
                            0.3333333333333333,
                            "#9c179e"
                          ],
                          [
                            0.4444444444444444,
                            "#bd3786"
                          ],
                          [
                            0.5555555555555556,
                            "#d8576b"
                          ],
                          [
                            0.6666666666666666,
                            "#ed7953"
                          ],
                          [
                            0.7777777777777778,
                            "#fb9f3a"
                          ],
                          [
                            0.8888888888888888,
                            "#fdca26"
                          ],
                          [
                            1,
                            "#f0f921"
                          ]
                        ],
                        "type": "surface"
                      }
                    ],
                    "table": [
                      {
                        "cells": {
                          "fill": {
                            "color": "#EBF0F8"
                          },
                          "line": {
                            "color": "white"
                          }
                        },
                        "header": {
                          "fill": {
                            "color": "#C8D4E3"
                          },
                          "line": {
                            "color": "white"
                          }
                        },
                        "type": "table"
                      }
                    ]
                  },
                  "layout": {
                    "annotationdefaults": {
                      "arrowcolor": "#2a3f5f",
                      "arrowhead": 0,
                      "arrowwidth": 1
                    },
                    "autotypenumbers": "strict",
                    "coloraxis": {
                      "colorbar": {
                        "outlinewidth": 0,
                        "ticks": ""
                      }
                    },
                    "colorscale": {
                      "diverging": [
                        [
                          0,
                          "#8e0152"
                        ],
                        [
                          0.1,
                          "#c51b7d"
                        ],
                        [
                          0.2,
                          "#de77ae"
                        ],
                        [
                          0.3,
                          "#f1b6da"
                        ],
                        [
                          0.4,
                          "#fde0ef"
                        ],
                        [
                          0.5,
                          "#f7f7f7"
                        ],
                        [
                          0.6,
                          "#e6f5d0"
                        ],
                        [
                          0.7,
                          "#b8e186"
                        ],
                        [
                          0.8,
                          "#7fbc41"
                        ],
                        [
                          0.9,
                          "#4d9221"
                        ],
                        [
                          1,
                          "#276419"
                        ]
                      ],
                      "sequential": [
                        [
                          0,
                          "#0d0887"
                        ],
                        [
                          0.1111111111111111,
                          "#46039f"
                        ],
                        [
                          0.2222222222222222,
                          "#7201a8"
                        ],
                        [
                          0.3333333333333333,
                          "#9c179e"
                        ],
                        [
                          0.4444444444444444,
                          "#bd3786"
                        ],
                        [
                          0.5555555555555556,
                          "#d8576b"
                        ],
                        [
                          0.6666666666666666,
                          "#ed7953"
                        ],
                        [
                          0.7777777777777778,
                          "#fb9f3a"
                        ],
                        [
                          0.8888888888888888,
                          "#fdca26"
                        ],
                        [
                          1,
                          "#f0f921"
                        ]
                      ],
                      "sequentialminus": [
                        [
                          0,
                          "#0d0887"
                        ],
                        [
                          0.1111111111111111,
                          "#46039f"
                        ],
                        [
                          0.2222222222222222,
                          "#7201a8"
                        ],
                        [
                          0.3333333333333333,
                          "#9c179e"
                        ],
                        [
                          0.4444444444444444,
                          "#bd3786"
                        ],
                        [
                          0.5555555555555556,
                          "#d8576b"
                        ],
                        [
                          0.6666666666666666,
                          "#ed7953"
                        ],
                        [
                          0.7777777777777778,
                          "#fb9f3a"
                        ],
                        [
                          0.8888888888888888,
                          "#fdca26"
                        ],
                        [
                          1,
                          "#f0f921"
                        ]
                      ]
                    },
                    "colorway": [
                      "#636efa",
                      "#EF553B",
                      "#00cc96",
                      "#ab63fa",
                      "#FFA15A",
                      "#19d3f3",
                      "#FF6692",
                      "#B6E880",
                      "#FF97FF",
                      "#FECB52"
                    ],
                    "font": {
                      "color": "#2a3f5f"
                    },
                    "geo": {
                      "bgcolor": "white",
                      "lakecolor": "white",
                      "landcolor": "white",
                      "showlakes": true,
                      "showland": true,
                      "subunitcolor": "#C8D4E3"
                    },
                    "hoverlabel": {
                      "align": "left"
                    },
                    "hovermode": "closest",
                    "mapbox": {
                      "style": "light"
                    },
                    "paper_bgcolor": "white",
                    "plot_bgcolor": "white",
                    "polar": {
                      "angularaxis": {
                        "gridcolor": "#EBF0F8",
                        "linecolor": "#EBF0F8",
                        "ticks": ""
                      },
                      "bgcolor": "white",
                      "radialaxis": {
                        "gridcolor": "#EBF0F8",
                        "linecolor": "#EBF0F8",
                        "ticks": ""
                      }
                    },
                    "scene": {
                      "xaxis": {
                        "backgroundcolor": "white",
                        "gridcolor": "#DFE8F3",
                        "gridwidth": 2,
                        "linecolor": "#EBF0F8",
                        "showbackground": true,
                        "ticks": "",
                        "zerolinecolor": "#EBF0F8"
                      },
                      "yaxis": {
                        "backgroundcolor": "white",
                        "gridcolor": "#DFE8F3",
                        "gridwidth": 2,
                        "linecolor": "#EBF0F8",
                        "showbackground": true,
                        "ticks": "",
                        "zerolinecolor": "#EBF0F8"
                      },
                      "zaxis": {
                        "backgroundcolor": "white",
                        "gridcolor": "#DFE8F3",
                        "gridwidth": 2,
                        "linecolor": "#EBF0F8",
                        "showbackground": true,
                        "ticks": "",
                        "zerolinecolor": "#EBF0F8"
                      }
                    },
                    "shapedefaults": {
                      "line": {
                        "color": "#2a3f5f"
                      }
                    },
                    "ternary": {
                      "aaxis": {
                        "gridcolor": "#DFE8F3",
                        "linecolor": "#A2B1C6",
                        "ticks": ""
                      },
                      "baxis": {
                        "gridcolor": "#DFE8F3",
                        "linecolor": "#A2B1C6",
                        "ticks": ""
                      },
                      "bgcolor": "white",
                      "caxis": {
                        "gridcolor": "#DFE8F3",
                        "linecolor": "#A2B1C6",
                        "ticks": ""
                      }
                    },
                    "title": {
                      "x": 0.05
                    },
                    "xaxis": {
                      "automargin": true,
                      "gridcolor": "#EBF0F8",
                      "linecolor": "#EBF0F8",
                      "ticks": "",
                      "title": {
                        "standoff": 15
                      },
                      "zerolinecolor": "#EBF0F8",
                      "zerolinewidth": 2
                    },
                    "yaxis": {
                      "automargin": true,
                      "gridcolor": "#EBF0F8",
                      "linecolor": "#EBF0F8",
                      "ticks": "",
                      "title": {
                        "standoff": 15
                      },
                      "zerolinecolor": "#EBF0F8",
                      "zerolinewidth": 2
                    }
                  }
                },
                "xaxis": {
                  "anchor": "y",
                  "domain": [
                    0,
                    0.45
                  ]
                },
                "xaxis10": {
                  "anchor": "y10",
                  "domain": [
                    0.55,
                    1
                  ]
                },
                "xaxis2": {
                  "anchor": "y2",
                  "domain": [
                    0.55,
                    1
                  ]
                },
                "xaxis3": {
                  "anchor": "y3",
                  "domain": [
                    0,
                    0.45
                  ]
                },
                "xaxis4": {
                  "anchor": "y4",
                  "domain": [
                    0.55,
                    1
                  ]
                },
                "xaxis5": {
                  "anchor": "y5",
                  "domain": [
                    0,
                    0.45
                  ]
                },
                "xaxis6": {
                  "anchor": "y6",
                  "domain": [
                    0.55,
                    1
                  ]
                },
                "xaxis7": {
                  "anchor": "y7",
                  "domain": [
                    0,
                    0.45
                  ]
                },
                "xaxis8": {
                  "anchor": "y8",
                  "domain": [
                    0.55,
                    1
                  ]
                },
                "xaxis9": {
                  "anchor": "y9",
                  "domain": [
                    0,
                    0.45
                  ]
                },
                "yaxis": {
                  "anchor": "x",
                  "domain": [
                    0.88,
                    1
                  ]
                },
                "yaxis10": {
                  "anchor": "x10",
                  "domain": [
                    0,
                    0.12
                  ]
                },
                "yaxis2": {
                  "anchor": "x2",
                  "domain": [
                    0.88,
                    1
                  ]
                },
                "yaxis3": {
                  "anchor": "x3",
                  "domain": [
                    0.66,
                    0.78
                  ]
                },
                "yaxis4": {
                  "anchor": "x4",
                  "domain": [
                    0.66,
                    0.78
                  ]
                },
                "yaxis5": {
                  "anchor": "x5",
                  "domain": [
                    0.44,
                    0.56
                  ]
                },
                "yaxis6": {
                  "anchor": "x6",
                  "domain": [
                    0.44,
                    0.56
                  ]
                },
                "yaxis7": {
                  "anchor": "x7",
                  "domain": [
                    0.22,
                    0.33999999999999997
                  ]
                },
                "yaxis8": {
                  "anchor": "x8",
                  "domain": [
                    0.22,
                    0.33999999999999997
                  ]
                },
                "yaxis9": {
                  "anchor": "x9",
                  "domain": [
                    0,
                    0.12
                  ]
                }
              }
            }
          },
          "metadata": {},
          "output_type": "display_data"
        }
      ],
      "source": [
        "# check value_couts for columns\n",
        "## plot the distribution of columns of interest( without the id, and location coordinates)\n",
        "dist_cols_df=df.drop([\"Reference Number\",\"Accident Date\",\n",
        "                      \"Easting\",\"Northing\",\n",
        "                      \"Time (24hr)\", \"Age of Casualty\"], axis=1)\n",
        "# make subplots\n",
        "c = 2\n",
        "r = (len(dist_cols_df.columns) + c - 1) // c  #\n",
        "fig = make_subplots(rows=r, cols=c,\n",
        "                    subplot_titles=dist_cols_df.columns,\n",
        "                    vertical_spacing=0.1, horizontal_spacing=0.1)\n",
        "# iterate to col in df to plot a bar graph in subplots\n",
        "for index, col in enumerate(dist_cols_df.columns):\n",
        "    data = dist_cols_df[col].value_counts().reset_index()\n",
        "    data.columns = [col, 'count']\n",
        "    # sort values in each col ascendingly\n",
        "    data = data.sort_values(by='count', ascending=False)\n",
        "    row = index // c + 1\n",
        "    col_index = index % c + 1\n",
        "    # bar graph code, with static color\n",
        "    fig.add_trace(go.Bar(x=data['count'], y=data[col],\n",
        "                         orientation='h',\n",
        "                         marker_color='mediumslateblue'),\n",
        "                   row=row, col=col_index)\n",
        "# set up the layout\n",
        "fig.update_layout(\n",
        "    height=300 * r,\n",
        "    showlegend=False,\n",
        "    margin=dict(l=100, r=100, t=50, b=50),\n",
        "    autosize=True,\n",
        "    template='plotly_white'\n",
        ")\n",
        "fig.show()"
      ]
    },
    {
      "cell_type": "markdown",
      "metadata": {
        "id": "yC9x6Q7LqgYd"
      },
      "source": [
        "Insights:\n",
        "\n",
        "<ul>the most accidents involve a single vehicle. or 2</ul>\n",
        "<ul>the majority of casualties are slight; serious casualties are significantly fewer; fatal casualties are the least frequent.class severity is extrmely imbalanced</ul>\n",
        "<ul>most accidents occur during daylight with street lights present and  lit; darkness with no street lighting has fewer accidents.</ul>\n",
        "\n",
        "<ul>the majority of accidents occur during fine weather without high winds, and this is might be due data sample we have, we see this might be biased insight</ul>\n",
        "\n",
        "<ul>passengers also represent a significant portion of casualties. while pedestrians are the least frequent casualties compared to drivers and passengers.</ul>\n",
        "\n",
        "\n",
        "\n",
        "<ul>male casualties are slightly more frequent than female casualties.</ul>\n",
        "\n",
        "<ul>cars are involved in the majority of accidents.</ul>\n",
        "\n",
        "<ul>Accidents are most frequent during fine weather without high winds.</ul>\n",
        "<ul> drivers are the most common casualties.</ul>\n",
        "<ul> the most age group that is involved in the incidents are the age group from 20 to 29</ul>"
      ]
    },
    {
      "cell_type": "markdown",
      "metadata": {
        "id": "ptp4A6R9cOuu"
      },
      "source": [
        "Insights:\n",
        "\n",
        "Cars are the most common vehicle type involved in accidents, with over 1500 occurrences.the highest number of casualties falls under the \"Slight\" severity category ( this is consistent across almost all vehicle types)\n",
        "\n",
        "\n"
      ]
    },
    {
      "cell_type": "markdown",
      "metadata": {
        "id": "FSmITUW4cnJU"
      },
      "source": [
        "We will use this info to group vehicles based on vehicle type"
      ]
    },
    {
      "cell_type": "code",
      "execution_count": 15,
      "metadata": {
        "colab": {
          "base_uri": "https://localhost:8080/"
        },
        "id": "G1BD91_7l_1C",
        "outputId": "a9e8b052-4af8-46d8-a17a-532f755c5b18"
      },
      "outputs": [
        {
          "name": "stdout",
          "output_type": "stream",
          "text": [
            "1\n"
          ]
        }
      ],
      "source": [
        "#we found that the road surface has an invalid readings of 5\n",
        "print(df[df['Road Surface']== 5].shape[0])\n",
        "df=df[df['Road Surface']!= 5]"
      ]
    },
    {
      "cell_type": "markdown",
      "metadata": {
        "id": "UPTJKsNJnaTt"
      },
      "source": [
        "We drop this 1 record from our dataframe"
      ]
    },
    {
      "cell_type": "code",
      "execution_count": 16,
      "metadata": {
        "colab": {
          "base_uri": "https://localhost:8080/",
          "height": 0
        },
        "id": "BHFUBUlH1ae0",
        "outputId": "e191fe4c-99eb-435e-c519-30daf6e67c99"
      },
      "outputs": [
        {
          "data": {
            "text/html": [
              "<div>\n",
              "<style scoped>\n",
              "    .dataframe tbody tr th:only-of-type {\n",
              "        vertical-align: middle;\n",
              "    }\n",
              "\n",
              "    .dataframe tbody tr th {\n",
              "        vertical-align: top;\n",
              "    }\n",
              "\n",
              "    .dataframe thead th {\n",
              "        text-align: right;\n",
              "    }\n",
              "</style>\n",
              "<table border=\"1\" class=\"dataframe\">\n",
              "  <thead>\n",
              "    <tr style=\"text-align: right;\">\n",
              "      <th></th>\n",
              "      <th>Reference Number</th>\n",
              "      <th>Easting</th>\n",
              "      <th>Northing</th>\n",
              "      <th>Number of Vehicles</th>\n",
              "      <th>Accident Date</th>\n",
              "      <th>Time (24hr)</th>\n",
              "      <th>1st Road Class</th>\n",
              "      <th>Road Surface</th>\n",
              "      <th>Lighting Conditions</th>\n",
              "      <th>Weather Conditions</th>\n",
              "      <th>Casualty Class</th>\n",
              "      <th>Casualty Severity</th>\n",
              "      <th>Sex of Casualty</th>\n",
              "      <th>Age of Casualty</th>\n",
              "      <th>Type of Vehicle</th>\n",
              "      <th>age_group</th>\n",
              "    </tr>\n",
              "  </thead>\n",
              "  <tbody>\n",
              "    <tr>\n",
              "      <th>0</th>\n",
              "      <td>110016014</td>\n",
              "      <td>443330</td>\n",
              "      <td>439205</td>\n",
              "      <td>2</td>\n",
              "      <td>2011-01-12</td>\n",
              "      <td>712</td>\n",
              "      <td>A(M)</td>\n",
              "      <td>Wet / Damp</td>\n",
              "      <td>Darkness: street lighting unknown</td>\n",
              "      <td>Raining without high winds</td>\n",
              "      <td>Driver</td>\n",
              "      <td>Slight</td>\n",
              "      <td>Male</td>\n",
              "      <td>62</td>\n",
              "      <td>Car</td>\n",
              "      <td>60-69</td>\n",
              "    </tr>\n",
              "  </tbody>\n",
              "</table>\n",
              "</div>"
            ],
            "text/plain": [
              "   Reference Number  Easting  ...  Type of Vehicle  age_group\n",
              "0         110016014   443330  ...              Car      60-69\n",
              "\n",
              "[1 rows x 16 columns]"
            ]
          },
          "execution_count": 16,
          "metadata": {},
          "output_type": "execute_result"
        }
      ],
      "source": [
        "df.head(1)"
      ]
    },
    {
      "cell_type": "code",
      "execution_count": 17,
      "metadata": {
        "colab": {
          "base_uri": "https://localhost:8080/",
          "height": 0
        },
        "collapsed": true,
        "id": "lPj_OWZmxU5B",
        "outputId": "28c25e25-b523-45d9-9c30-8ef0c8f29b75"
      },
      "outputs": [
        {
          "data": {
            "application/vnd.plotly.v1+json": {
              "config": {
                "plotlyServerURL": "https://plot.ly"
              },
              "data": [
                {
                  "bingroup": "x",
                  "hovertemplate": "Lighting Conditions=Darkness: street lighting unknown<br>Time (24hr)=%{x}<br>count=%{y}<extra></extra>",
                  "legendgroup": "Darkness: street lighting unknown",
                  "marker": {
                    "color": "#636efa",
                    "pattern": {
                      "shape": ""
                    }
                  },
                  "name": "Darkness: street lighting unknown",
                  "nbinsx": 20,
                  "orientation": "v",
                  "showlegend": true,
                  "type": "histogram",
                  "x": {
                    "bdata": "yAIIB7MGswa9Br0GvQa9Bi0AHAcXB7IGsgbRBiYHFwdICHYHigJ2B/oA/wdDCHEH7geHAJkH/Qf9Bz8H7gfuB8gIyAgdCR0JHQk0CPgA+ACeAMAIBQCdCM8IBQDSCC4JLglZAVkBMwnIAFoINAhDCDQI1wBSCFIIUgisCDQIrgGuAeQHCwmMANYG6QfpB1gCuAHCBsgA0QaQAZABkAFsAikJxwbHBscG1gauBv8ApAbRBowANQe4BmEIYQjACMAIwAjRBtEGEwdeBicHHgAeAB8J1gbaAgIIAgh3BsECwQLBAsIGSgFhCPgHpwjHBncGCAfQBtAG0AZjBoAA",
                    "dtype": "i2"
                  },
                  "xaxis": "x",
                  "yaxis": "y"
                },
                {
                  "bingroup": "x",
                  "hovertemplate": "Lighting Conditions=Daylight: street lights present<br>Time (24hr)=%{x}<br>count=%{y}<extra></extra>",
                  "legendgroup": "Daylight: street lights present",
                  "marker": {
                    "color": "#EF553B",
                    "pattern": {
                      "shape": ""
                    }
                  },
                  "name": "Daylight: street lights present",
                  "nbinsx": 20,
                  "orientation": "v",
                  "showlegend": true,
                  "type": "histogram",
                  "x": {
                    "bdata": "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",
                    "dtype": "i2"
                  },
                  "xaxis": "x",
                  "yaxis": "y"
                },
                {
                  "bingroup": "x",
                  "hovertemplate": "Lighting Conditions=Darkness: street lights present and lit<br>Time (24hr)=%{x}<br>count=%{y}<extra></extra>",
                  "legendgroup": "Darkness: street lights present and lit",
                  "marker": {
                    "color": "#00cc96",
                    "pattern": {
                      "shape": ""
                    }
                  },
                  "name": "Darkness: street lights present and lit",
                  "nbinsx": 20,
                  "orientation": "v",
                  "showlegend": true,
                  "type": "histogram",
                  "x": {
                    "bdata": "xwbzApQHlAfWBr0GvQa9BpIHZACAB6QG8wdoBiYHcgZyBnIGIwBoBmgGaAZoBvcHwAgNAA0ADQBNCMoIBgkGCZkHPwfPCKQGJQclBzUHpwanBjoHMgA+CD4IPgg+CD4IPgg+CEMIewd7B3sHEAk4B8IGwgbBBggHCAcIBwgH1gZsAooH5ACgB6AHoAegB6AHoAdeBugHOwgICQgJZwKZB5kHmQfHBiEHVAEaCRoJDwAPAP4BuAY5CNEG0AbQBgsHIQcBCZkHhQIbB2wHIQffB20IJAckByQHBQCFAsgAyADIAHMCNgHRBkAIXAgIBzsBOAgrB/wIoAegBwcIBwgHCAcIDQcNB2ACYAI6B2EIpQieB54HngeeB9MI1QcXBzUH0AfQByQJTQjACIUH5AcuCTkIAggCCNEI6wDrAL0B3wffB98H3wffB98H3weYCCQJngeuAVIIMwmsCAgJ7gfuBw8AaQBpAFcIVwhXCPwICwkBCfkArgE1CDUINQg1CGEIUwEgAEAB5ADkAJ0InQi6CEgIkQDwANIArAgSCdwAuwgQCW8A7gAeACsAKwArACsAKwC0CKQILAC7CB8JHwkfCR8JwAhcCFwI/AiCAIIArAh9AH0AQAFAAUAB5gA0CEABQAFAAUABQAFAAXsADwCnCAsJCwkLCRQAFAAYALQIQwgaCWcBtgg0CMAIwAjACMAIYAIUABQAFADIAMgA3wf0AdUH1QfwAHgALglDAZ4H7gfuB+4Hewd7B3sHyggzCScJ0geeB54H2QfPCHYHjgeOB0oISghKCPwIcQeUBwUI5Ac6B9oHXQKxCLEIsQixCDsH2geCB1gCgAd2B3YHdgd2BzUHNQdXCCcJAggCCIEHZghmCJQHzwjPCEgISAgmBwcIeQd5B3sH/QffB7QIxAKkBikJYQh9AH0AAAj0AfQB0QYmByYHJgepBsIGwgZ7B3sHSAj6B/oHAQkBCQEJAQkBCQEJmAhyBoAHgAeAB4oHXgZPBm0GzAbMBswGhQeVB3IGuAYVB7gGzAa6CJkHrAisCDEBjwcpBykHKQfuBzsBOwHFCMUITQjpB+kHIgAiAMYGxgbGBjAHbAfMBqQG2QbZBnYHdgekBmMGHgD9AXsHUggmB4AHgAeAB4UHCAdKBkoGSgaKB48CjwKZBzQIpwipBqIIewIJCAkGCQakBl4GGQArAm0GBgl2B3QHewKpBqQGbQanBqcGrQZ9B4AHgAczCTMJEAmCAA0ABAkQCRAJEAkQCY8HqQZyBj4IPgjQBswGoAfCBm0GbQaJBxcHYwYpCd8C3wLCBhIHSAhPBpUHFwI5CA==",
                    "dtype": "i2"
                  },
                  "xaxis": "x",
                  "yaxis": "y"
                },
                {
                  "bingroup": "x",
                  "hovertemplate": "Lighting Conditions=Darkness: street lights present but unlit<br>Time (24hr)=%{x}<br>count=%{y}<extra></extra>",
                  "legendgroup": "Darkness: street lights present but unlit",
                  "marker": {
                    "color": "#ab63fa",
                    "pattern": {
                      "shape": ""
                    }
                  },
                  "name": "Darkness: street lights present but unlit",
                  "nbinsx": 20,
                  "orientation": "v",
                  "showlegend": true,
                  "type": "histogram",
                  "x": {
                    "bdata": "KAPmAiMA",
                    "dtype": "i2"
                  },
                  "xaxis": "x",
                  "yaxis": "y"
                },
                {
                  "bingroup": "x",
                  "hovertemplate": "Lighting Conditions=Darkness: no street lighting<br>Time (24hr)=%{x}<br>count=%{y}<extra></extra>",
                  "legendgroup": "Darkness: no street lighting",
                  "marker": {
                    "color": "#FFA15A",
                    "pattern": {
                      "shape": ""
                    }
                  },
                  "name": "Darkness: no street lighting",
                  "nbinsx": 20,
                  "orientation": "v",
                  "showlegend": true,
                  "type": "histogram",
                  "x": {
                    "bdata": "aQBOCE4ITgiAAIgAQAEhByEHIQf8B/wH/Af8B8oIygiGAAkJCQkJCQkJCQkeAB4AHgD9B9cA1wDXANcACgAKAEsISwgpCcIGIQdsAmwCbAJPBg==",
                    "dtype": "i2"
                  },
                  "xaxis": "x",
                  "yaxis": "y"
                }
              ],
              "layout": {
                "bargap": 0.2,
                "barmode": "relative",
                "legend": {
                  "title": {
                    "text": "Lighting Conditions"
                  },
                  "tracegroupgap": 0
                },
                "template": {
                  "data": {
                    "bar": [
                      {
                        "error_x": {
                          "color": "#2a3f5f"
                        },
                        "error_y": {
                          "color": "#2a3f5f"
                        },
                        "marker": {
                          "line": {
                            "color": "#E5ECF6",
                            "width": 0.5
                          },
                          "pattern": {
                            "fillmode": "overlay",
                            "size": 10,
                            "solidity": 0.2
                          }
                        },
                        "type": "bar"
                      }
                    ],
                    "barpolar": [
                      {
                        "marker": {
                          "line": {
                            "color": "#E5ECF6",
                            "width": 0.5
                          },
                          "pattern": {
                            "fillmode": "overlay",
                            "size": 10,
                            "solidity": 0.2
                          }
                        },
                        "type": "barpolar"
                      }
                    ],
                    "carpet": [
                      {
                        "aaxis": {
                          "endlinecolor": "#2a3f5f",
                          "gridcolor": "white",
                          "linecolor": "white",
                          "minorgridcolor": "white",
                          "startlinecolor": "#2a3f5f"
                        },
                        "baxis": {
                          "endlinecolor": "#2a3f5f",
                          "gridcolor": "white",
                          "linecolor": "white",
                          "minorgridcolor": "white",
                          "startlinecolor": "#2a3f5f"
                        },
                        "type": "carpet"
                      }
                    ],
                    "choropleth": [
                      {
                        "colorbar": {
                          "outlinewidth": 0,
                          "ticks": ""
                        },
                        "type": "choropleth"
                      }
                    ],
                    "contour": [
                      {
                        "colorbar": {
                          "outlinewidth": 0,
                          "ticks": ""
                        },
                        "colorscale": [
                          [
                            0,
                            "#0d0887"
                          ],
                          [
                            0.1111111111111111,
                            "#46039f"
                          ],
                          [
                            0.2222222222222222,
                            "#7201a8"
                          ],
                          [
                            0.3333333333333333,
                            "#9c179e"
                          ],
                          [
                            0.4444444444444444,
                            "#bd3786"
                          ],
                          [
                            0.5555555555555556,
                            "#d8576b"
                          ],
                          [
                            0.6666666666666666,
                            "#ed7953"
                          ],
                          [
                            0.7777777777777778,
                            "#fb9f3a"
                          ],
                          [
                            0.8888888888888888,
                            "#fdca26"
                          ],
                          [
                            1,
                            "#f0f921"
                          ]
                        ],
                        "type": "contour"
                      }
                    ],
                    "contourcarpet": [
                      {
                        "colorbar": {
                          "outlinewidth": 0,
                          "ticks": ""
                        },
                        "type": "contourcarpet"
                      }
                    ],
                    "heatmap": [
                      {
                        "colorbar": {
                          "outlinewidth": 0,
                          "ticks": ""
                        },
                        "colorscale": [
                          [
                            0,
                            "#0d0887"
                          ],
                          [
                            0.1111111111111111,
                            "#46039f"
                          ],
                          [
                            0.2222222222222222,
                            "#7201a8"
                          ],
                          [
                            0.3333333333333333,
                            "#9c179e"
                          ],
                          [
                            0.4444444444444444,
                            "#bd3786"
                          ],
                          [
                            0.5555555555555556,
                            "#d8576b"
                          ],
                          [
                            0.6666666666666666,
                            "#ed7953"
                          ],
                          [
                            0.7777777777777778,
                            "#fb9f3a"
                          ],
                          [
                            0.8888888888888888,
                            "#fdca26"
                          ],
                          [
                            1,
                            "#f0f921"
                          ]
                        ],
                        "type": "heatmap"
                      }
                    ],
                    "histogram": [
                      {
                        "marker": {
                          "pattern": {
                            "fillmode": "overlay",
                            "size": 10,
                            "solidity": 0.2
                          }
                        },
                        "type": "histogram"
                      }
                    ],
                    "histogram2d": [
                      {
                        "colorbar": {
                          "outlinewidth": 0,
                          "ticks": ""
                        },
                        "colorscale": [
                          [
                            0,
                            "#0d0887"
                          ],
                          [
                            0.1111111111111111,
                            "#46039f"
                          ],
                          [
                            0.2222222222222222,
                            "#7201a8"
                          ],
                          [
                            0.3333333333333333,
                            "#9c179e"
                          ],
                          [
                            0.4444444444444444,
                            "#bd3786"
                          ],
                          [
                            0.5555555555555556,
                            "#d8576b"
                          ],
                          [
                            0.6666666666666666,
                            "#ed7953"
                          ],
                          [
                            0.7777777777777778,
                            "#fb9f3a"
                          ],
                          [
                            0.8888888888888888,
                            "#fdca26"
                          ],
                          [
                            1,
                            "#f0f921"
                          ]
                        ],
                        "type": "histogram2d"
                      }
                    ],
                    "histogram2dcontour": [
                      {
                        "colorbar": {
                          "outlinewidth": 0,
                          "ticks": ""
                        },
                        "colorscale": [
                          [
                            0,
                            "#0d0887"
                          ],
                          [
                            0.1111111111111111,
                            "#46039f"
                          ],
                          [
                            0.2222222222222222,
                            "#7201a8"
                          ],
                          [
                            0.3333333333333333,
                            "#9c179e"
                          ],
                          [
                            0.4444444444444444,
                            "#bd3786"
                          ],
                          [
                            0.5555555555555556,
                            "#d8576b"
                          ],
                          [
                            0.6666666666666666,
                            "#ed7953"
                          ],
                          [
                            0.7777777777777778,
                            "#fb9f3a"
                          ],
                          [
                            0.8888888888888888,
                            "#fdca26"
                          ],
                          [
                            1,
                            "#f0f921"
                          ]
                        ],
                        "type": "histogram2dcontour"
                      }
                    ],
                    "mesh3d": [
                      {
                        "colorbar": {
                          "outlinewidth": 0,
                          "ticks": ""
                        },
                        "type": "mesh3d"
                      }
                    ],
                    "parcoords": [
                      {
                        "line": {
                          "colorbar": {
                            "outlinewidth": 0,
                            "ticks": ""
                          }
                        },
                        "type": "parcoords"
                      }
                    ],
                    "pie": [
                      {
                        "automargin": true,
                        "type": "pie"
                      }
                    ],
                    "scatter": [
                      {
                        "fillpattern": {
                          "fillmode": "overlay",
                          "size": 10,
                          "solidity": 0.2
                        },
                        "type": "scatter"
                      }
                    ],
                    "scatter3d": [
                      {
                        "line": {
                          "colorbar": {
                            "outlinewidth": 0,
                            "ticks": ""
                          }
                        },
                        "marker": {
                          "colorbar": {
                            "outlinewidth": 0,
                            "ticks": ""
                          }
                        },
                        "type": "scatter3d"
                      }
                    ],
                    "scattercarpet": [
                      {
                        "marker": {
                          "colorbar": {
                            "outlinewidth": 0,
                            "ticks": ""
                          }
                        },
                        "type": "scattercarpet"
                      }
                    ],
                    "scattergeo": [
                      {
                        "marker": {
                          "colorbar": {
                            "outlinewidth": 0,
                            "ticks": ""
                          }
                        },
                        "type": "scattergeo"
                      }
                    ],
                    "scattergl": [
                      {
                        "marker": {
                          "colorbar": {
                            "outlinewidth": 0,
                            "ticks": ""
                          }
                        },
                        "type": "scattergl"
                      }
                    ],
                    "scattermap": [
                      {
                        "marker": {
                          "colorbar": {
                            "outlinewidth": 0,
                            "ticks": ""
                          }
                        },
                        "type": "scattermap"
                      }
                    ],
                    "scattermapbox": [
                      {
                        "marker": {
                          "colorbar": {
                            "outlinewidth": 0,
                            "ticks": ""
                          }
                        },
                        "type": "scattermapbox"
                      }
                    ],
                    "scatterpolar": [
                      {
                        "marker": {
                          "colorbar": {
                            "outlinewidth": 0,
                            "ticks": ""
                          }
                        },
                        "type": "scatterpolar"
                      }
                    ],
                    "scatterpolargl": [
                      {
                        "marker": {
                          "colorbar": {
                            "outlinewidth": 0,
                            "ticks": ""
                          }
                        },
                        "type": "scatterpolargl"
                      }
                    ],
                    "scatterternary": [
                      {
                        "marker": {
                          "colorbar": {
                            "outlinewidth": 0,
                            "ticks": ""
                          }
                        },
                        "type": "scatterternary"
                      }
                    ],
                    "surface": [
                      {
                        "colorbar": {
                          "outlinewidth": 0,
                          "ticks": ""
                        },
                        "colorscale": [
                          [
                            0,
                            "#0d0887"
                          ],
                          [
                            0.1111111111111111,
                            "#46039f"
                          ],
                          [
                            0.2222222222222222,
                            "#7201a8"
                          ],
                          [
                            0.3333333333333333,
                            "#9c179e"
                          ],
                          [
                            0.4444444444444444,
                            "#bd3786"
                          ],
                          [
                            0.5555555555555556,
                            "#d8576b"
                          ],
                          [
                            0.6666666666666666,
                            "#ed7953"
                          ],
                          [
                            0.7777777777777778,
                            "#fb9f3a"
                          ],
                          [
                            0.8888888888888888,
                            "#fdca26"
                          ],
                          [
                            1,
                            "#f0f921"
                          ]
                        ],
                        "type": "surface"
                      }
                    ],
                    "table": [
                      {
                        "cells": {
                          "fill": {
                            "color": "#EBF0F8"
                          },
                          "line": {
                            "color": "white"
                          }
                        },
                        "header": {
                          "fill": {
                            "color": "#C8D4E3"
                          },
                          "line": {
                            "color": "white"
                          }
                        },
                        "type": "table"
                      }
                    ]
                  },
                  "layout": {
                    "annotationdefaults": {
                      "arrowcolor": "#2a3f5f",
                      "arrowhead": 0,
                      "arrowwidth": 1
                    },
                    "autotypenumbers": "strict",
                    "coloraxis": {
                      "colorbar": {
                        "outlinewidth": 0,
                        "ticks": ""
                      }
                    },
                    "colorscale": {
                      "diverging": [
                        [
                          0,
                          "#8e0152"
                        ],
                        [
                          0.1,
                          "#c51b7d"
                        ],
                        [
                          0.2,
                          "#de77ae"
                        ],
                        [
                          0.3,
                          "#f1b6da"
                        ],
                        [
                          0.4,
                          "#fde0ef"
                        ],
                        [
                          0.5,
                          "#f7f7f7"
                        ],
                        [
                          0.6,
                          "#e6f5d0"
                        ],
                        [
                          0.7,
                          "#b8e186"
                        ],
                        [
                          0.8,
                          "#7fbc41"
                        ],
                        [
                          0.9,
                          "#4d9221"
                        ],
                        [
                          1,
                          "#276419"
                        ]
                      ],
                      "sequential": [
                        [
                          0,
                          "#0d0887"
                        ],
                        [
                          0.1111111111111111,
                          "#46039f"
                        ],
                        [
                          0.2222222222222222,
                          "#7201a8"
                        ],
                        [
                          0.3333333333333333,
                          "#9c179e"
                        ],
                        [
                          0.4444444444444444,
                          "#bd3786"
                        ],
                        [
                          0.5555555555555556,
                          "#d8576b"
                        ],
                        [
                          0.6666666666666666,
                          "#ed7953"
                        ],
                        [
                          0.7777777777777778,
                          "#fb9f3a"
                        ],
                        [
                          0.8888888888888888,
                          "#fdca26"
                        ],
                        [
                          1,
                          "#f0f921"
                        ]
                      ],
                      "sequentialminus": [
                        [
                          0,
                          "#0d0887"
                        ],
                        [
                          0.1111111111111111,
                          "#46039f"
                        ],
                        [
                          0.2222222222222222,
                          "#7201a8"
                        ],
                        [
                          0.3333333333333333,
                          "#9c179e"
                        ],
                        [
                          0.4444444444444444,
                          "#bd3786"
                        ],
                        [
                          0.5555555555555556,
                          "#d8576b"
                        ],
                        [
                          0.6666666666666666,
                          "#ed7953"
                        ],
                        [
                          0.7777777777777778,
                          "#fb9f3a"
                        ],
                        [
                          0.8888888888888888,
                          "#fdca26"
                        ],
                        [
                          1,
                          "#f0f921"
                        ]
                      ]
                    },
                    "colorway": [
                      "#636efa",
                      "#EF553B",
                      "#00cc96",
                      "#ab63fa",
                      "#FFA15A",
                      "#19d3f3",
                      "#FF6692",
                      "#B6E880",
                      "#FF97FF",
                      "#FECB52"
                    ],
                    "font": {
                      "color": "#2a3f5f"
                    },
                    "geo": {
                      "bgcolor": "white",
                      "lakecolor": "white",
                      "landcolor": "#E5ECF6",
                      "showlakes": true,
                      "showland": true,
                      "subunitcolor": "white"
                    },
                    "hoverlabel": {
                      "align": "left"
                    },
                    "hovermode": "closest",
                    "mapbox": {
                      "style": "light"
                    },
                    "paper_bgcolor": "white",
                    "plot_bgcolor": "#E5ECF6",
                    "polar": {
                      "angularaxis": {
                        "gridcolor": "white",
                        "linecolor": "white",
                        "ticks": ""
                      },
                      "bgcolor": "#E5ECF6",
                      "radialaxis": {
                        "gridcolor": "white",
                        "linecolor": "white",
                        "ticks": ""
                      }
                    },
                    "scene": {
                      "xaxis": {
                        "backgroundcolor": "#E5ECF6",
                        "gridcolor": "white",
                        "gridwidth": 2,
                        "linecolor": "white",
                        "showbackground": true,
                        "ticks": "",
                        "zerolinecolor": "white"
                      },
                      "yaxis": {
                        "backgroundcolor": "#E5ECF6",
                        "gridcolor": "white",
                        "gridwidth": 2,
                        "linecolor": "white",
                        "showbackground": true,
                        "ticks": "",
                        "zerolinecolor": "white"
                      },
                      "zaxis": {
                        "backgroundcolor": "#E5ECF6",
                        "gridcolor": "white",
                        "gridwidth": 2,
                        "linecolor": "white",
                        "showbackground": true,
                        "ticks": "",
                        "zerolinecolor": "white"
                      }
                    },
                    "shapedefaults": {
                      "line": {
                        "color": "#2a3f5f"
                      }
                    },
                    "ternary": {
                      "aaxis": {
                        "gridcolor": "white",
                        "linecolor": "white",
                        "ticks": ""
                      },
                      "baxis": {
                        "gridcolor": "white",
                        "linecolor": "white",
                        "ticks": ""
                      },
                      "bgcolor": "#E5ECF6",
                      "caxis": {
                        "gridcolor": "white",
                        "linecolor": "white",
                        "ticks": ""
                      }
                    },
                    "title": {
                      "x": 0.05
                    },
                    "xaxis": {
                      "automargin": true,
                      "gridcolor": "white",
                      "linecolor": "white",
                      "ticks": "",
                      "title": {
                        "standoff": 15
                      },
                      "zerolinecolor": "white",
                      "zerolinewidth": 2
                    },
                    "yaxis": {
                      "automargin": true,
                      "gridcolor": "white",
                      "linecolor": "white",
                      "ticks": "",
                      "title": {
                        "standoff": 15
                      },
                      "zerolinecolor": "white",
                      "zerolinewidth": 2
                    }
                  }
                },
                "title": {
                  "text": "Accidents Time (24hr)"
                },
                "xaxis": {
                  "anchor": "y",
                  "domain": [
                    0,
                    1
                  ],
                  "title": {
                    "text": "Hours"
                  }
                },
                "yaxis": {
                  "anchor": "x",
                  "domain": [
                    0,
                    1
                  ],
                  "title": {
                    "text": "Count"
                  }
                }
              }
            }
          },
          "metadata": {},
          "output_type": "display_data"
        }
      ],
      "source": [
        "# histogram wof actual hours vs Lighting Conditions\n",
        "fig = px.histogram(df, x='Time (24hr)', nbins=20,\n",
        "                   color= 'Lighting Conditions', title='Accidents Time (24hr)')\n",
        "fig.update_layout(\n",
        "    xaxis_title='Hours',\n",
        "    yaxis_title='Count',\n",
        "    bargap=0.2,\n",
        ")\n",
        "fig.show()"
      ]
    },
    {
      "cell_type": "markdown",
      "metadata": {
        "id": "325rXK_d1Xxa"
      },
      "source": [
        "- We find that the more the incidents hours, are the more the lightning condition is darker even if street lights were on\n",
        "- time in hours is skwed, this will be considered will scaling the data"
      ]
    },
    {
      "cell_type": "code",
      "execution_count": 18,
      "metadata": {
        "colab": {
          "base_uri": "https://localhost:8080/",
          "height": 0
        },
        "id": "racWbwSAKCqF",
        "outputId": "46ce570d-80c3-4464-8e28-0a6e0c8beefa"
      },
      "outputs": [
        {
          "data": {
            "application/vnd.plotly.v1+json": {
              "config": {
                "plotlyServerURL": "https://plot.ly"
              },
              "data": [
                {
                  "bingroup": "x",
                  "hovertemplate": "Casualty Severity=Slight<br>Casualty Class=%{x}<br>count=%{y}<extra></extra>",
                  "legendgroup": "Slight",
                  "marker": {
                    "color": "#636efa",
                    "pattern": {
                      "shape": ""
                    }
                  },
                  "name": "Slight",
                  "nbinsx": 20,
                  "orientation": "v",
                  "showlegend": true,
                  "type": "histogram",
                  "x": [
                    "Driver",
                    "Driver",
                    "Driver",
                    "Driver",
                    "Driver",
                    "Driver",
                    "Driver",
                    "Passenger",
                    "Passenger",
                    "Driver",
                    "Driver",
                    "Driver",
                    "Driver",
                    "Driver",
                    "Passenger",
                    "Pedestrian",
                    "Driver",
                    "Passenger",
                    "Driver",
                    "Driver",
                    "Passenger",
                    "Passenger",
                    "Driver",
                    "Driver",
                    "Driver",
                    "Passenger",
                    "Pedestrian",
                    "Driver",
                    "Driver",
                    "Passenger",
                    "Driver",
                    "Pedestrian",
                    "Driver",
                    "Driver",
                    "Passenger",
                    "Driver",
                    "Pedestrian",
                    "Pedestrian",
                    "Passenger",
                    "Driver",
                    "Pedestrian",
                    "Driver",
                    "Driver",
                    "Driver",
                    "Passenger",
                    "Passenger",
                    "Passenger",
                    "Driver",
                    "Driver",
                    "Passenger",
                    "Driver",
                    "Driver",
                    "Driver",
                    "Passenger",
                    "Passenger",
                    "Driver",
                    "Pedestrian",
                    "Driver",
                    "Driver",
                    "Passenger",
                    "Passenger",
                    "Driver",
                    "Driver",
                    "Passenger",
                    "Pedestrian",
                    "Driver",
                    "Passenger",
                    "Driver",
                    "Driver",
                    "Driver",
                    "Driver",
                    "Passenger",
                    "Passenger",
                    "Driver",
                    "Pedestrian",
                    "Driver",
                    "Driver",
                    "Driver",
                    "Driver",
                    "Driver",
                    "Driver",
                    "Driver",
                    "Driver",
                    "Driver",
                    "Driver",
                    "Driver",
                    "Driver",
                    "Passenger",
                    "Driver",
                    "Driver",
                    "Driver",
                    "Driver",
                    "Driver",
                    "Passenger",
                    "Passenger",
                    "Driver",
                    "Driver",
                    "Passenger",
                    "Passenger",
                    "Passenger",
                    "Driver",
                    "Pedestrian",
                    "Driver",
                    "Driver",
                    "Passenger",
                    "Pedestrian",
                    "Driver",
                    "Driver",
                    "Driver",
                    "Passenger",
                    "Passenger",
                    "Passenger",
                    "Driver",
                    "Passenger",
                    "Passenger",
                    "Driver",
                    "Driver",
                    "Driver",
                    "Driver",
                    "Passenger",
                    "Pedestrian",
                    "Driver",
                    "Driver",
                    "Passenger",
                    "Pedestrian",
                    "Driver",
                    "Driver",
                    "Pedestrian",
                    "Pedestrian",
                    "Driver",
                    "Driver",
                    "Driver",
                    "Driver",
                    "Driver",
                    "Driver",
                    "Driver",
                    "Driver",
                    "Driver",
                    "Driver",
                    "Driver",
                    "Driver",
                    "Driver",
                    "Driver",
                    "Driver",
                    "Passenger",
                    "Passenger",
                    "Driver",
                    "Passenger",
                    "Passenger",
                    "Passenger",
                    "Pedestrian",
                    "Passenger",
                    "Driver",
                    "Passenger",
                    "Passenger",
                    "Driver",
                    "Driver",
                    "Passenger",
                    "Passenger",
                    "Passenger",
                    "Passenger",
                    "Pedestrian",
                    "Pedestrian",
                    "Pedestrian",
                    "Driver",
                    "Passenger",
                    "Driver",
                    "Driver",
                    "Passenger",
                    "Driver",
                    "Pedestrian",
                    "Driver",
                    "Passenger",
                    "Passenger",
                    "Pedestrian",
                    "Driver",
                    "Passenger",
                    "Driver",
                    "Pedestrian",
                    "Passenger",
                    "Driver",
                    "Driver",
                    "Passenger",
                    "Passenger",
                    "Passenger",
                    "Pedestrian",
                    "Driver",
                    "Passenger",
                    "Passenger",
                    "Passenger",
                    "Passenger",
                    "Driver",
                    "Driver",
                    "Driver",
                    "Passenger",
                    "Passenger",
                    "Driver",
                    "Passenger",
                    "Passenger",
                    "Driver",
                    "Passenger",
                    "Passenger",
                    "Passenger",
                    "Driver",
                    "Pedestrian",
                    "Driver",
                    "Driver",
                    "Passenger",
                    "Driver",
                    "Passenger",
                    "Driver",
                    "Driver",
                    "Driver",
                    "Driver",
                    "Pedestrian",
                    "Driver",
                    "Driver",
                    "Driver",
                    "Driver",
                    "Pedestrian",
                    "Driver",
                    "Pedestrian",
                    "Driver",
                    "Pedestrian",
                    "Driver",
                    "Passenger",
                    "Driver",
                    "Driver",
                    "Pedestrian",
                    "Pedestrian",
                    "Driver",
                    "Passenger",
                    "Driver",
                    "Driver",
                    "Driver",
                    "Driver",
                    "Driver",
                    "Passenger",
                    "Passenger",
                    "Driver",
                    "Driver",
                    "Driver",
                    "Passenger",
                    "Pedestrian",
                    "Passenger",
                    "Driver",
                    "Passenger",
                    "Passenger",
                    "Pedestrian",
                    "Driver",
                    "Driver",
                    "Passenger",
                    "Passenger",
                    "Pedestrian",
                    "Passenger",
                    "Driver",
                    "Passenger",
                    "Passenger",
                    "Passenger",
                    "Passenger",
                    "Driver",
                    "Driver",
                    "Driver",
                    "Passenger",
                    "Passenger",
                    "Driver",
                    "Driver",
                    "Driver",
                    "Pedestrian",
                    "Driver",
                    "Pedestrian",
                    "Pedestrian",
                    "Driver",
                    "Passenger",
                    "Passenger",
                    "Driver",
                    "Driver",
                    "Driver",
                    "Driver",
                    "Driver",
                    "Driver",
                    "Driver",
                    "Driver",
                    "Pedestrian",
                    "Driver",
                    "Driver",
                    "Passenger",
                    "Driver",
                    "Pedestrian",
                    "Driver",
                    "Driver",
                    "Driver",
                    "Driver",
                    "Pedestrian",
                    "Passenger",
                    "Passenger",
                    "Driver",
                    "Passenger",
                    "Driver",
                    "Driver",
                    "Driver",
                    "Passenger",
                    "Driver",
                    "Passenger",
                    "Driver",
                    "Passenger",
                    "Passenger",
                    "Driver",
                    "Driver",
                    "Driver",
                    "Driver",
                    "Passenger",
                    "Driver",
                    "Passenger",
                    "Driver",
                    "Driver",
                    "Driver",
                    "Pedestrian",
                    "Driver",
                    "Passenger",
                    "Driver",
                    "Passenger",
                    "Passenger",
                    "Passenger",
                    "Pedestrian",
                    "Passenger",
                    "Driver",
                    "Passenger",
                    "Driver",
                    "Driver",
                    "Driver",
                    "Driver",
                    "Pedestrian",
                    "Driver",
                    "Driver",
                    "Pedestrian",
                    "Driver",
                    "Driver",
                    "Passenger",
                    "Passenger",
                    "Driver",
                    "Driver",
                    "Driver",
                    "Driver",
                    "Driver",
                    "Pedestrian",
                    "Driver",
                    "Driver",
                    "Pedestrian",
                    "Passenger",
                    "Driver",
                    "Driver",
                    "Passenger",
                    "Passenger",
                    "Passenger",
                    "Driver",
                    "Driver",
                    "Passenger",
                    "Passenger",
                    "Driver",
                    "Driver",
                    "Driver",
                    "Driver",
                    "Passenger",
                    "Passenger",
                    "Passenger",
                    "Driver",
                    "Driver",
                    "Driver",
                    "Passenger",
                    "Driver",
                    "Pedestrian",
                    "Driver",
                    "Driver",
                    "Driver",
                    "Driver",
                    "Pedestrian",
                    "Passenger",
                    "Driver",
                    "Driver",
                    "Passenger",
                    "Pedestrian",
                    "Pedestrian",
                    "Driver",
                    "Pedestrian",
                    "Driver",
                    "Passenger",
                    "Passenger",
                    "Passenger",
                    "Pedestrian",
                    "Driver",
                    "Driver",
                    "Driver",
                    "Driver",
                    "Driver",
                    "Passenger",
                    "Passenger",
                    "Passenger",
                    "Driver",
                    "Passenger",
                    "Driver",
                    "Driver",
                    "Driver",
                    "Driver",
                    "Driver",
                    "Driver",
                    "Passenger",
                    "Driver",
                    "Driver",
                    "Driver",
                    "Pedestrian",
                    "Driver",
                    "Driver",
                    "Driver",
                    "Driver",
                    "Driver",
                    "Driver",
                    "Pedestrian",
                    "Passenger",
                    "Driver",
                    "Passenger",
                    "Pedestrian",
                    "Driver",
                    "Driver",
                    "Driver",
                    "Pedestrian",
                    "Pedestrian",
                    "Driver",
                    "Passenger",
                    "Driver",
                    "Driver",
                    "Passenger",
                    "Passenger",
                    "Passenger",
                    "Passenger",
                    "Pedestrian",
                    "Pedestrian",
                    "Pedestrian",
                    "Driver",
                    "Driver",
                    "Driver",
                    "Driver",
                    "Driver",
                    "Pedestrian",
                    "Pedestrian",
                    "Driver",
                    "Passenger",
                    "Driver",
                    "Passenger",
                    "Driver",
                    "Driver",
                    "Driver",
                    "Driver",
                    "Driver",
                    "Driver",
                    "Passenger",
                    "Driver",
                    "Driver",
                    "Passenger",
                    "Passenger",
                    "Driver",
                    "Passenger",
                    "Driver",
                    "Driver",
                    "Driver",
                    "Driver",
                    "Pedestrian",
                    "Driver",
                    "Driver",
                    "Passenger",
                    "Driver",
                    "Pedestrian",
                    "Driver",
                    "Passenger",
                    "Pedestrian",
                    "Driver",
                    "Driver",
                    "Pedestrian",
                    "Driver",
                    "Driver",
                    "Driver",
                    "Pedestrian",
                    "Passenger",
                    "Driver",
                    "Driver",
                    "Passenger",
                    "Driver",
                    "Driver",
                    "Driver",
                    "Driver",
                    "Passenger",
                    "Passenger",
                    "Driver",
                    "Driver",
                    "Driver",
                    "Driver",
                    "Driver",
                    "Driver",
                    "Passenger",
                    "Passenger",
                    "Passenger",
                    "Passenger",
                    "Driver",
                    "Driver",
                    "Driver",
                    "Driver",
                    "Driver",
                    "Driver",
                    "Passenger",
                    "Driver",
                    "Driver",
                    "Driver",
                    "Driver",
                    "Driver",
                    "Driver",
                    "Driver",
                    "Passenger",
                    "Driver",
                    "Driver",
                    "Passenger",
                    "Passenger",
                    "Passenger",
                    "Passenger",
                    "Passenger",
                    "Driver",
                    "Pedestrian",
                    "Driver",
                    "Driver",
                    "Driver",
                    "Driver",
                    "Driver",
                    "Driver",
                    "Driver",
                    "Driver",
                    "Driver",
                    "Passenger",
                    "Driver",
                    "Passenger",
                    "Passenger",
                    "Passenger",
                    "Passenger",
                    "Pedestrian",
                    "Driver",
                    "Driver",
                    "Driver",
                    "Passenger",
                    "Driver",
                    "Driver",
                    "Passenger",
                    "Driver",
                    "Driver",
                    "Driver",
                    "Driver",
                    "Passenger",
                    "Passenger",
                    "Passenger",
                    "Driver",
                    "Passenger",
                    "Driver",
                    "Driver",
                    "Driver",
                    "Driver",
                    "Passenger",
                    "Driver",
                    "Driver",
                    "Driver",
                    "Passenger",
                    "Passenger",
                    "Driver",
                    "Driver",
                    "Driver",
                    "Driver",
                    "Pedestrian",
                    "Driver",
                    "Passenger",
                    "Driver",
                    "Passenger",
                    "Driver",
                    "Passenger",
                    "Passenger",
                    "Driver",
                    "Driver",
                    "Driver",
                    "Passenger",
                    "Passenger",
                    "Driver",
                    "Driver",
                    "Passenger",
                    "Passenger",
                    "Driver",
                    "Passenger",
                    "Passenger",
                    "Passenger",
                    "Driver",
                    "Driver",
                    "Driver",
                    "Driver",
                    "Pedestrian",
                    "Pedestrian",
                    "Driver",
                    "Driver",
                    "Driver",
                    "Driver",
                    "Passenger",
                    "Driver",
                    "Driver",
                    "Driver",
                    "Driver",
                    "Driver",
                    "Passenger",
                    "Passenger",
                    "Driver",
                    "Driver",
                    "Passenger",
                    "Driver",
                    "Driver",
                    "Driver",
                    "Driver",
                    "Driver",
                    "Driver",
                    "Passenger",
                    "Passenger",
                    "Driver",
                    "Passenger",
                    "Passenger",
                    "Driver",
                    "Driver",
                    "Driver",
                    "Passenger",
                    "Passenger",
                    "Passenger",
                    "Driver",
                    "Passenger",
                    "Driver",
                    "Driver",
                    "Pedestrian",
                    "Driver",
                    "Driver",
                    "Driver",
                    "Passenger",
                    "Driver",
                    "Driver",
                    "Passenger",
                    "Pedestrian",
                    "Pedestrian",
                    "Driver",
                    "Passenger",
                    "Passenger",
                    "Passenger",
                    "Driver",
                    "Driver",
                    "Driver",
                    "Driver",
                    "Pedestrian",
                    "Passenger",
                    "Driver",
                    "Driver",
                    "Driver",
                    "Driver",
                    "Passenger",
                    "Driver",
                    "Driver",
                    "Passenger",
                    "Driver",
                    "Pedestrian",
                    "Driver",
                    "Passenger",
                    "Pedestrian",
                    "Driver",
                    "Pedestrian",
                    "Driver",
                    "Passenger",
                    "Passenger",
                    "Driver",
                    "Passenger",
                    "Pedestrian",
                    "Driver",
                    "Driver",
                    "Passenger",
                    "Passenger",
                    "Passenger",
                    "Driver",
                    "Passenger",
                    "Driver",
                    "Passenger",
                    "Passenger",
                    "Driver",
                    "Driver",
                    "Driver",
                    "Driver",
                    "Driver",
                    "Passenger",
                    "Driver",
                    "Driver",
                    "Passenger",
                    "Passenger",
                    "Driver",
                    "Passenger",
                    "Driver",
                    "Passenger",
                    "Driver",
                    "Driver",
                    "Driver",
                    "Pedestrian",
                    "Pedestrian",
                    "Passenger",
                    "Driver",
                    "Driver",
                    "Driver",
                    "Driver",
                    "Driver",
                    "Passenger",
                    "Passenger",
                    "Passenger",
                    "Driver",
                    "Driver",
                    "Driver",
                    "Driver",
                    "Passenger",
                    "Driver",
                    "Pedestrian",
                    "Driver",
                    "Passenger",
                    "Driver",
                    "Driver",
                    "Driver",
                    "Driver",
                    "Passenger",
                    "Driver",
                    "Driver",
                    "Driver",
                    "Passenger",
                    "Passenger",
                    "Passenger",
                    "Passenger",
                    "Passenger",
                    "Driver",
                    "Driver",
                    "Driver",
                    "Driver",
                    "Driver",
                    "Pedestrian",
                    "Driver",
                    "Driver",
                    "Passenger",
                    "Driver",
                    "Driver",
                    "Driver",
                    "Driver",
                    "Passenger",
                    "Driver",
                    "Driver",
                    "Pedestrian",
                    "Driver",
                    "Passenger",
                    "Passenger",
                    "Passenger",
                    "Driver",
                    "Driver",
                    "Driver",
                    "Driver",
                    "Passenger",
                    "Driver",
                    "Driver",
                    "Pedestrian",
                    "Passenger",
                    "Driver",
                    "Pedestrian",
                    "Pedestrian",
                    "Driver",
                    "Driver",
                    "Passenger",
                    "Passenger",
                    "Driver",
                    "Passenger",
                    "Pedestrian",
                    "Driver",
                    "Driver",
                    "Driver",
                    "Passenger",
                    "Driver",
                    "Driver",
                    "Passenger",
                    "Driver",
                    "Driver",
                    "Driver",
                    "Passenger",
                    "Passenger",
                    "Driver",
                    "Driver",
                    "Passenger",
                    "Driver",
                    "Passenger",
                    "Driver",
                    "Driver",
                    "Driver",
                    "Driver",
                    "Pedestrian",
                    "Driver",
                    "Pedestrian",
                    "Pedestrian",
                    "Driver",
                    "Driver",
                    "Driver",
                    "Driver",
                    "Driver",
                    "Passenger",
                    "Passenger",
                    "Driver",
                    "Passenger",
                    "Driver",
                    "Driver",
                    "Driver",
                    "Driver",
                    "Driver",
                    "Driver",
                    "Driver",
                    "Driver",
                    "Driver",
                    "Driver",
                    "Driver",
                    "Pedestrian",
                    "Driver",
                    "Driver",
                    "Driver",
                    "Driver",
                    "Driver",
                    "Passenger",
                    "Passenger",
                    "Driver",
                    "Driver",
                    "Passenger",
                    "Passenger",
                    "Pedestrian",
                    "Driver",
                    "Pedestrian",
                    "Pedestrian",
                    "Driver",
                    "Pedestrian",
                    "Driver",
                    "Driver",
                    "Driver",
                    "Driver",
                    "Passenger",
                    "Driver",
                    "Driver",
                    "Passenger",
                    "Pedestrian",
                    "Driver",
                    "Driver",
                    "Driver",
                    "Passenger",
                    "Passenger",
                    "Passenger",
                    "Passenger",
                    "Passenger",
                    "Passenger",
                    "Passenger",
                    "Passenger",
                    "Passenger",
                    "Driver",
                    "Driver",
                    "Passenger",
                    "Passenger",
                    "Passenger",
                    "Driver",
                    "Driver",
                    "Passenger",
                    "Driver",
                    "Passenger",
                    "Driver",
                    "Driver",
                    "Driver",
                    "Driver",
                    "Pedestrian",
                    "Driver",
                    "Passenger",
                    "Driver",
                    "Pedestrian",
                    "Pedestrian",
                    "Driver",
                    "Passenger",
                    "Driver",
                    "Driver",
                    "Pedestrian",
                    "Driver",
                    "Driver",
                    "Driver",
                    "Passenger",
                    "Driver",
                    "Pedestrian",
                    "Driver",
                    "Driver",
                    "Driver",
                    "Driver",
                    "Driver",
                    "Driver",
                    "Driver",
                    "Driver",
                    "Driver",
                    "Driver",
                    "Pedestrian",
                    "Driver",
                    "Driver",
                    "Driver",
                    "Driver",
                    "Passenger",
                    "Driver",
                    "Pedestrian",
                    "Driver",
                    "Driver",
                    "Passenger",
                    "Driver",
                    "Driver",
                    "Passenger",
                    "Driver",
                    "Driver",
                    "Driver",
                    "Driver",
                    "Driver",
                    "Driver",
                    "Driver",
                    "Driver",
                    "Passenger",
                    "Passenger",
                    "Passenger",
                    "Passenger",
                    "Passenger",
                    "Passenger",
                    "Passenger",
                    "Driver",
                    "Driver",
                    "Driver",
                    "Driver",
                    "Passenger",
                    "Driver",
                    "Driver",
                    "Driver",
                    "Passenger",
                    "Driver",
                    "Passenger",
                    "Pedestrian",
                    "Driver",
                    "Driver",
                    "Pedestrian",
                    "Driver",
                    "Driver",
                    "Passenger",
                    "Driver",
                    "Driver",
                    "Passenger",
                    "Driver",
                    "Pedestrian",
                    "Pedestrian",
                    "Driver",
                    "Driver",
                    "Passenger",
                    "Passenger",
                    "Passenger",
                    "Passenger",
                    "Driver",
                    "Passenger",
                    "Driver",
                    "Passenger",
                    "Driver",
                    "Driver",
                    "Passenger",
                    "Driver",
                    "Driver",
                    "Driver",
                    "Driver",
                    "Driver",
                    "Driver",
                    "Driver",
                    "Driver",
                    "Driver",
                    "Driver",
                    "Driver",
                    "Passenger",
                    "Driver",
                    "Driver",
                    "Passenger",
                    "Passenger",
                    "Driver",
                    "Pedestrian",
                    "Driver",
                    "Driver",
                    "Driver",
                    "Driver",
                    "Pedestrian",
                    "Driver",
                    "Driver",
                    "Passenger",
                    "Passenger",
                    "Driver",
                    "Driver",
                    "Pedestrian",
                    "Driver",
                    "Driver",
                    "Driver",
                    "Driver",
                    "Pedestrian",
                    "Driver",
                    "Pedestrian",
                    "Driver",
                    "Driver",
                    "Passenger",
                    "Driver",
                    "Driver",
                    "Passenger",
                    "Driver",
                    "Pedestrian",
                    "Passenger",
                    "Passenger",
                    "Driver",
                    "Driver",
                    "Driver",
                    "Driver",
                    "Driver",
                    "Driver",
                    "Driver",
                    "Driver",
                    "Passenger",
                    "Driver",
                    "Passenger",
                    "Driver",
                    "Passenger",
                    "Driver",
                    "Driver",
                    "Driver",
                    "Driver",
                    "Driver",
                    "Pedestrian",
                    "Driver",
                    "Driver",
                    "Driver",
                    "Driver",
                    "Pedestrian",
                    "Driver",
                    "Driver",
                    "Driver",
                    "Driver",
                    "Pedestrian",
                    "Driver",
                    "Driver",
                    "Driver",
                    "Passenger",
                    "Driver",
                    "Passenger",
                    "Passenger",
                    "Driver",
                    "Pedestrian",
                    "Driver",
                    "Driver",
                    "Driver",
                    "Passenger",
                    "Driver",
                    "Driver",
                    "Driver",
                    "Driver",
                    "Passenger",
                    "Pedestrian",
                    "Driver",
                    "Passenger",
                    "Driver",
                    "Pedestrian",
                    "Driver",
                    "Passenger",
                    "Driver",
                    "Driver",
                    "Driver",
                    "Driver",
                    "Driver",
                    "Driver",
                    "Pedestrian",
                    "Driver",
                    "Passenger",
                    "Passenger",
                    "Driver",
                    "Driver",
                    "Pedestrian",
                    "Pedestrian",
                    "Driver",
                    "Driver",
                    "Driver",
                    "Driver",
                    "Driver",
                    "Passenger",
                    "Pedestrian",
                    "Driver",
                    "Driver",
                    "Passenger",
                    "Driver",
                    "Pedestrian",
                    "Driver",
                    "Driver",
                    "Driver",
                    "Driver",
                    "Pedestrian",
                    "Driver",
                    "Driver",
                    "Driver",
                    "Passenger",
                    "Passenger",
                    "Driver",
                    "Driver",
                    "Driver",
                    "Passenger",
                    "Passenger",
                    "Driver",
                    "Driver",
                    "Passenger",
                    "Driver",
                    "Passenger",
                    "Driver",
                    "Driver",
                    "Passenger",
                    "Pedestrian",
                    "Driver",
                    "Driver",
                    "Passenger",
                    "Passenger",
                    "Driver",
                    "Driver",
                    "Driver",
                    "Driver",
                    "Driver",
                    "Driver",
                    "Driver",
                    "Driver",
                    "Passenger",
                    "Passenger",
                    "Driver",
                    "Driver",
                    "Driver",
                    "Driver",
                    "Passenger",
                    "Driver",
                    "Passenger",
                    "Passenger",
                    "Driver",
                    "Pedestrian",
                    "Driver",
                    "Driver",
                    "Driver",
                    "Driver",
                    "Driver",
                    "Driver",
                    "Passenger",
                    "Driver",
                    "Driver",
                    "Passenger",
                    "Passenger",
                    "Driver",
                    "Passenger",
                    "Driver",
                    "Passenger",
                    "Pedestrian",
                    "Driver",
                    "Passenger",
                    "Driver",
                    "Passenger",
                    "Passenger",
                    "Driver",
                    "Pedestrian",
                    "Driver",
                    "Passenger",
                    "Driver",
                    "Driver",
                    "Driver",
                    "Passenger",
                    "Passenger",
                    "Passenger",
                    "Passenger",
                    "Driver",
                    "Passenger",
                    "Driver",
                    "Driver",
                    "Driver",
                    "Pedestrian",
                    "Driver",
                    "Driver",
                    "Passenger",
                    "Pedestrian",
                    "Driver",
                    "Driver",
                    "Passenger",
                    "Driver",
                    "Passenger",
                    "Passenger",
                    "Passenger",
                    "Driver",
                    "Pedestrian",
                    "Driver",
                    "Passenger",
                    "Passenger",
                    "Passenger",
                    "Pedestrian",
                    "Driver",
                    "Passenger",
                    "Driver",
                    "Driver",
                    "Pedestrian",
                    "Driver",
                    "Driver",
                    "Passenger",
                    "Driver",
                    "Driver",
                    "Driver",
                    "Driver",
                    "Driver",
                    "Driver",
                    "Pedestrian",
                    "Driver",
                    "Driver",
                    "Passenger",
                    "Driver",
                    "Driver",
                    "Driver",
                    "Passenger",
                    "Driver",
                    "Driver",
                    "Driver",
                    "Passenger",
                    "Driver",
                    "Passenger",
                    "Passenger",
                    "Pedestrian",
                    "Pedestrian",
                    "Driver",
                    "Passenger",
                    "Driver",
                    "Driver",
                    "Driver",
                    "Driver",
                    "Pedestrian",
                    "Passenger",
                    "Driver",
                    "Driver",
                    "Driver",
                    "Passenger",
                    "Driver",
                    "Driver",
                    "Driver",
                    "Driver",
                    "Driver",
                    "Driver",
                    "Driver",
                    "Driver",
                    "Passenger",
                    "Passenger",
                    "Driver",
                    "Passenger",
                    "Driver",
                    "Driver",
                    "Driver",
                    "Passenger",
                    "Driver",
                    "Driver",
                    "Driver",
                    "Passenger",
                    "Passenger",
                    "Passenger",
                    "Passenger",
                    "Driver",
                    "Driver",
                    "Driver",
                    "Driver",
                    "Passenger",
                    "Passenger",
                    "Driver",
                    "Pedestrian",
                    "Driver",
                    "Passenger",
                    "Driver",
                    "Passenger",
                    "Driver",
                    "Driver",
                    "Driver",
                    "Passenger",
                    "Pedestrian",
                    "Driver",
                    "Driver",
                    "Passenger",
                    "Passenger",
                    "Driver",
                    "Pedestrian",
                    "Driver",
                    "Pedestrian",
                    "Passenger",
                    "Driver",
                    "Driver",
                    "Driver",
                    "Driver",
                    "Driver",
                    "Driver",
                    "Pedestrian",
                    "Driver",
                    "Driver",
                    "Driver",
                    "Passenger",
                    "Driver",
                    "Passenger",
                    "Driver",
                    "Driver",
                    "Passenger",
                    "Passenger",
                    "Driver",
                    "Passenger",
                    "Passenger",
                    "Driver",
                    "Driver",
                    "Driver",
                    "Driver",
                    "Driver",
                    "Driver",
                    "Driver",
                    "Pedestrian",
                    "Driver",
                    "Driver",
                    "Driver",
                    "Driver",
                    "Passenger",
                    "Passenger",
                    "Passenger",
                    "Pedestrian",
                    "Driver",
                    "Driver",
                    "Driver",
                    "Passenger",
                    "Driver",
                    "Passenger",
                    "Driver",
                    "Driver",
                    "Pedestrian",
                    "Driver",
                    "Driver",
                    "Driver",
                    "Pedestrian",
                    "Pedestrian",
                    "Driver",
                    "Passenger",
                    "Driver",
                    "Driver",
                    "Driver",
                    "Passenger",
                    "Driver",
                    "Driver",
                    "Pedestrian",
                    "Driver",
                    "Driver",
                    "Driver",
                    "Driver",
                    "Pedestrian",
                    "Driver",
                    "Passenger",
                    "Passenger",
                    "Driver",
                    "Passenger",
                    "Driver",
                    "Driver",
                    "Driver",
                    "Passenger",
                    "Driver",
                    "Driver",
                    "Driver",
                    "Pedestrian",
                    "Driver",
                    "Pedestrian",
                    "Driver",
                    "Passenger",
                    "Passenger",
                    "Passenger",
                    "Driver",
                    "Driver",
                    "Passenger",
                    "Driver",
                    "Passenger",
                    "Driver",
                    "Driver",
                    "Driver",
                    "Passenger",
                    "Driver",
                    "Passenger",
                    "Pedestrian",
                    "Driver",
                    "Driver",
                    "Passenger",
                    "Driver",
                    "Driver",
                    "Driver",
                    "Driver",
                    "Passenger",
                    "Driver",
                    "Driver",
                    "Driver",
                    "Passenger",
                    "Driver",
                    "Driver",
                    "Passenger",
                    "Driver",
                    "Passenger",
                    "Driver",
                    "Driver",
                    "Driver",
                    "Driver",
                    "Driver",
                    "Driver",
                    "Passenger",
                    "Driver",
                    "Driver",
                    "Driver",
                    "Driver",
                    "Driver",
                    "Driver",
                    "Driver",
                    "Driver",
                    "Driver",
                    "Driver",
                    "Passenger",
                    "Driver",
                    "Passenger",
                    "Driver",
                    "Driver",
                    "Passenger",
                    "Driver",
                    "Driver",
                    "Driver",
                    "Passenger",
                    "Passenger",
                    "Pedestrian",
                    "Driver",
                    "Driver",
                    "Passenger",
                    "Passenger",
                    "Driver",
                    "Passenger",
                    "Driver",
                    "Driver",
                    "Driver",
                    "Passenger",
                    "Driver",
                    "Driver",
                    "Driver",
                    "Driver",
                    "Driver",
                    "Driver",
                    "Passenger",
                    "Driver",
                    "Passenger",
                    "Driver",
                    "Passenger",
                    "Driver",
                    "Passenger",
                    "Passenger",
                    "Pedestrian",
                    "Driver",
                    "Pedestrian",
                    "Driver",
                    "Driver",
                    "Passenger",
                    "Driver",
                    "Passenger",
                    "Passenger",
                    "Passenger",
                    "Driver",
                    "Passenger",
                    "Driver",
                    "Driver",
                    "Passenger",
                    "Passenger",
                    "Driver",
                    "Driver",
                    "Passenger",
                    "Driver",
                    "Driver",
                    "Driver",
                    "Driver",
                    "Driver",
                    "Driver",
                    "Passenger",
                    "Driver",
                    "Driver",
                    "Driver",
                    "Driver",
                    "Driver",
                    "Driver",
                    "Driver",
                    "Pedestrian",
                    "Passenger",
                    "Passenger",
                    "Passenger",
                    "Pedestrian",
                    "Driver",
                    "Passenger",
                    "Passenger",
                    "Passenger",
                    "Driver",
                    "Driver",
                    "Passenger",
                    "Passenger",
                    "Passenger",
                    "Driver",
                    "Driver",
                    "Driver",
                    "Driver",
                    "Passenger",
                    "Driver",
                    "Driver",
                    "Driver",
                    "Driver",
                    "Driver",
                    "Pedestrian",
                    "Passenger",
                    "Driver",
                    "Passenger",
                    "Driver",
                    "Passenger",
                    "Passenger",
                    "Pedestrian",
                    "Driver",
                    "Driver",
                    "Pedestrian",
                    "Driver",
                    "Passenger",
                    "Driver",
                    "Passenger",
                    "Driver",
                    "Driver",
                    "Driver",
                    "Passenger",
                    "Passenger",
                    "Driver",
                    "Driver",
                    "Driver",
                    "Driver",
                    "Driver",
                    "Driver",
                    "Passenger",
                    "Driver",
                    "Driver",
                    "Driver",
                    "Driver",
                    "Driver",
                    "Passenger",
                    "Passenger",
                    "Passenger",
                    "Driver",
                    "Driver",
                    "Driver",
                    "Driver",
                    "Passenger",
                    "Driver",
                    "Pedestrian",
                    "Pedestrian",
                    "Driver",
                    "Driver",
                    "Driver",
                    "Driver",
                    "Driver",
                    "Passenger",
                    "Driver",
                    "Passenger",
                    "Passenger",
                    "Driver",
                    "Driver",
                    "Passenger",
                    "Passenger",
                    "Passenger",
                    "Pedestrian",
                    "Passenger",
                    "Passenger",
                    "Passenger",
                    "Passenger",
                    "Passenger",
                    "Driver",
                    "Passenger",
                    "Driver",
                    "Driver",
                    "Driver",
                    "Driver",
                    "Pedestrian",
                    "Driver",
                    "Driver",
                    "Passenger",
                    "Driver",
                    "Pedestrian",
                    "Driver",
                    "Driver",
                    "Driver",
                    "Driver",
                    "Driver",
                    "Driver",
                    "Driver",
                    "Passenger",
                    "Passenger",
                    "Driver",
                    "Driver",
                    "Pedestrian",
                    "Driver",
                    "Passenger",
                    "Driver",
                    "Driver",
                    "Passenger",
                    "Passenger",
                    "Pedestrian",
                    "Driver",
                    "Driver",
                    "Driver",
                    "Driver",
                    "Driver",
                    "Driver",
                    "Pedestrian",
                    "Driver",
                    "Driver",
                    "Driver",
                    "Driver",
                    "Driver",
                    "Driver",
                    "Passenger",
                    "Driver",
                    "Passenger",
                    "Pedestrian",
                    "Passenger",
                    "Driver",
                    "Driver",
                    "Pedestrian",
                    "Driver",
                    "Driver",
                    "Driver",
                    "Passenger",
                    "Driver",
                    "Driver",
                    "Passenger",
                    "Driver",
                    "Driver",
                    "Driver",
                    "Passenger",
                    "Driver",
                    "Pedestrian",
                    "Driver",
                    "Driver",
                    "Driver",
                    "Passenger",
                    "Driver",
                    "Pedestrian",
                    "Driver",
                    "Driver",
                    "Driver",
                    "Driver",
                    "Driver",
                    "Pedestrian",
                    "Driver",
                    "Driver",
                    "Passenger",
                    "Driver",
                    "Driver",
                    "Driver",
                    "Driver",
                    "Driver",
                    "Driver",
                    "Driver",
                    "Driver",
                    "Driver",
                    "Driver",
                    "Driver",
                    "Pedestrian",
                    "Driver",
                    "Pedestrian",
                    "Passenger",
                    "Driver",
                    "Passenger",
                    "Driver",
                    "Passenger",
                    "Driver",
                    "Driver",
                    "Driver",
                    "Passenger",
                    "Driver",
                    "Driver",
                    "Passenger",
                    "Driver",
                    "Driver",
                    "Passenger",
                    "Passenger",
                    "Passenger",
                    "Passenger",
                    "Driver",
                    "Passenger",
                    "Passenger",
                    "Passenger",
                    "Driver",
                    "Passenger",
                    "Driver",
                    "Passenger",
                    "Driver",
                    "Passenger",
                    "Driver",
                    "Driver",
                    "Driver",
                    "Pedestrian",
                    "Pedestrian",
                    "Driver",
                    "Pedestrian",
                    "Pedestrian",
                    "Pedestrian",
                    "Driver",
                    "Driver",
                    "Driver",
                    "Driver",
                    "Driver",
                    "Passenger",
                    "Pedestrian",
                    "Driver",
                    "Driver",
                    "Driver",
                    "Driver",
                    "Driver",
                    "Driver",
                    "Driver",
                    "Driver",
                    "Passenger",
                    "Passenger",
                    "Pedestrian",
                    "Driver",
                    "Driver",
                    "Driver",
                    "Driver",
                    "Passenger",
                    "Driver",
                    "Passenger",
                    "Driver",
                    "Driver",
                    "Driver",
                    "Driver",
                    "Passenger",
                    "Passenger",
                    "Driver",
                    "Driver",
                    "Passenger",
                    "Pedestrian",
                    "Driver",
                    "Driver",
                    "Driver",
                    "Driver",
                    "Driver",
                    "Passenger",
                    "Passenger",
                    "Driver",
                    "Passenger",
                    "Passenger",
                    "Passenger",
                    "Driver",
                    "Driver",
                    "Passenger",
                    "Passenger",
                    "Driver",
                    "Driver",
                    "Passenger",
                    "Passenger",
                    "Driver",
                    "Passenger",
                    "Driver",
                    "Driver",
                    "Driver",
                    "Passenger",
                    "Pedestrian",
                    "Driver",
                    "Driver",
                    "Passenger",
                    "Driver",
                    "Passenger",
                    "Driver",
                    "Driver",
                    "Pedestrian",
                    "Passenger",
                    "Driver",
                    "Driver",
                    "Driver",
                    "Pedestrian",
                    "Pedestrian",
                    "Driver",
                    "Driver",
                    "Driver",
                    "Driver",
                    "Passenger",
                    "Pedestrian",
                    "Driver",
                    "Passenger",
                    "Passenger",
                    "Passenger",
                    "Driver",
                    "Pedestrian",
                    "Driver",
                    "Driver",
                    "Driver",
                    "Driver",
                    "Driver",
                    "Pedestrian",
                    "Driver",
                    "Driver",
                    "Driver",
                    "Driver",
                    "Pedestrian",
                    "Driver",
                    "Driver",
                    "Passenger",
                    "Passenger",
                    "Driver",
                    "Driver",
                    "Driver",
                    "Driver",
                    "Driver",
                    "Driver",
                    "Pedestrian",
                    "Driver",
                    "Driver",
                    "Driver",
                    "Driver",
                    "Driver",
                    "Driver",
                    "Driver",
                    "Pedestrian",
                    "Passenger",
                    "Driver",
                    "Driver",
                    "Driver",
                    "Passenger",
                    "Driver",
                    "Pedestrian",
                    "Driver",
                    "Driver",
                    "Driver",
                    "Driver",
                    "Driver",
                    "Driver",
                    "Driver",
                    "Passenger",
                    "Driver",
                    "Passenger",
                    "Driver",
                    "Driver",
                    "Driver",
                    "Passenger",
                    "Passenger",
                    "Pedestrian",
                    "Pedestrian",
                    "Driver",
                    "Driver",
                    "Driver",
                    "Driver",
                    "Driver",
                    "Driver",
                    "Driver",
                    "Passenger",
                    "Driver",
                    "Driver",
                    "Passenger",
                    "Driver",
                    "Pedestrian",
                    "Driver",
                    "Driver",
                    "Driver",
                    "Driver",
                    "Driver",
                    "Driver",
                    "Pedestrian",
                    "Driver",
                    "Driver",
                    "Passenger",
                    "Driver",
                    "Driver",
                    "Pedestrian",
                    "Driver",
                    "Driver",
                    "Passenger",
                    "Driver",
                    "Driver",
                    "Driver",
                    "Driver",
                    "Passenger",
                    "Pedestrian",
                    "Passenger",
                    "Passenger",
                    "Driver",
                    "Driver",
                    "Driver",
                    "Pedestrian",
                    "Pedestrian",
                    "Pedestrian",
                    "Driver",
                    "Pedestrian",
                    "Pedestrian",
                    "Driver",
                    "Driver",
                    "Pedestrian",
                    "Driver",
                    "Driver",
                    "Passenger",
                    "Passenger",
                    "Driver",
                    "Passenger",
                    "Passenger",
                    "Passenger",
                    "Driver",
                    "Driver",
                    "Passenger",
                    "Driver",
                    "Driver",
                    "Driver",
                    "Passenger",
                    "Driver",
                    "Driver",
                    "Driver",
                    "Driver",
                    "Driver",
                    "Driver",
                    "Passenger",
                    "Driver",
                    "Driver",
                    "Driver",
                    "Driver",
                    "Passenger",
                    "Passenger",
                    "Passenger",
                    "Driver",
                    "Passenger",
                    "Passenger",
                    "Driver",
                    "Pedestrian",
                    "Driver",
                    "Driver",
                    "Passenger",
                    "Driver",
                    "Passenger",
                    "Driver",
                    "Driver",
                    "Driver",
                    "Driver",
                    "Passenger",
                    "Driver",
                    "Driver",
                    "Passenger",
                    "Driver",
                    "Driver",
                    "Driver",
                    "Driver",
                    "Passenger",
                    "Driver",
                    "Passenger",
                    "Driver",
                    "Passenger",
                    "Driver",
                    "Driver",
                    "Passenger",
                    "Passenger",
                    "Passenger",
                    "Passenger",
                    "Driver",
                    "Driver",
                    "Pedestrian",
                    "Passenger",
                    "Driver",
                    "Pedestrian",
                    "Driver",
                    "Driver",
                    "Driver",
                    "Driver",
                    "Passenger",
                    "Passenger",
                    "Driver",
                    "Driver",
                    "Pedestrian",
                    "Pedestrian",
                    "Passenger",
                    "Driver",
                    "Driver",
                    "Driver",
                    "Passenger",
                    "Driver",
                    "Driver",
                    "Driver",
                    "Passenger",
                    "Passenger",
                    "Driver",
                    "Passenger",
                    "Passenger",
                    "Driver",
                    "Driver",
                    "Passenger",
                    "Driver",
                    "Driver",
                    "Driver",
                    "Passenger",
                    "Passenger",
                    "Passenger",
                    "Passenger",
                    "Driver",
                    "Driver",
                    "Pedestrian",
                    "Driver",
                    "Driver",
                    "Pedestrian",
                    "Driver",
                    "Passenger",
                    "Driver",
                    "Driver",
                    "Pedestrian",
                    "Driver",
                    "Driver",
                    "Passenger",
                    "Driver",
                    "Pedestrian",
                    "Driver",
                    "Passenger",
                    "Driver",
                    "Passenger",
                    "Driver",
                    "Passenger",
                    "Passenger",
                    "Driver",
                    "Driver",
                    "Driver",
                    "Passenger",
                    "Driver",
                    "Driver",
                    "Passenger",
                    "Driver",
                    "Driver",
                    "Driver",
                    "Driver",
                    "Pedestrian",
                    "Driver",
                    "Driver",
                    "Pedestrian",
                    "Driver",
                    "Driver",
                    "Pedestrian",
                    "Passenger",
                    "Driver",
                    "Driver",
                    "Driver",
                    "Pedestrian",
                    "Driver",
                    "Driver",
                    "Driver",
                    "Passenger",
                    "Passenger",
                    "Driver",
                    "Driver",
                    "Driver",
                    "Pedestrian",
                    "Driver",
                    "Passenger",
                    "Passenger",
                    "Driver",
                    "Driver",
                    "Driver",
                    "Driver",
                    "Driver",
                    "Driver",
                    "Driver",
                    "Passenger",
                    "Driver",
                    "Passenger",
                    "Driver",
                    "Pedestrian",
                    "Driver",
                    "Driver",
                    "Driver",
                    "Driver",
                    "Driver",
                    "Passenger",
                    "Passenger",
                    "Passenger",
                    "Driver",
                    "Driver",
                    "Driver",
                    "Passenger",
                    "Passenger",
                    "Passenger",
                    "Passenger",
                    "Passenger",
                    "Passenger",
                    "Driver",
                    "Passenger",
                    "Driver",
                    "Passenger",
                    "Driver",
                    "Driver",
                    "Passenger",
                    "Passenger",
                    "Driver",
                    "Passenger",
                    "Pedestrian",
                    "Driver",
                    "Driver",
                    "Passenger",
                    "Driver",
                    "Driver",
                    "Passenger",
                    "Passenger",
                    "Pedestrian",
                    "Driver",
                    "Pedestrian",
                    "Driver",
                    "Driver",
                    "Passenger",
                    "Passenger",
                    "Driver",
                    "Passenger",
                    "Driver",
                    "Passenger",
                    "Driver",
                    "Driver",
                    "Driver",
                    "Driver",
                    "Driver",
                    "Pedestrian",
                    "Driver",
                    "Passenger",
                    "Pedestrian",
                    "Driver",
                    "Pedestrian",
                    "Pedestrian",
                    "Driver",
                    "Driver",
                    "Driver",
                    "Driver",
                    "Pedestrian",
                    "Driver",
                    "Pedestrian",
                    "Driver",
                    "Driver",
                    "Passenger",
                    "Pedestrian",
                    "Driver",
                    "Passenger",
                    "Passenger",
                    "Driver",
                    "Driver",
                    "Passenger",
                    "Pedestrian",
                    "Driver",
                    "Driver",
                    "Passenger",
                    "Driver",
                    "Passenger",
                    "Pedestrian",
                    "Driver",
                    "Driver",
                    "Driver",
                    "Driver",
                    "Passenger",
                    "Passenger",
                    "Passenger",
                    "Passenger",
                    "Passenger",
                    "Passenger",
                    "Driver",
                    "Driver",
                    "Passenger",
                    "Driver",
                    "Passenger",
                    "Driver",
                    "Driver",
                    "Driver",
                    "Passenger",
                    "Passenger",
                    "Driver",
                    "Driver",
                    "Passenger",
                    "Passenger",
                    "Passenger",
                    "Driver",
                    "Driver",
                    "Pedestrian",
                    "Driver",
                    "Driver",
                    "Passenger",
                    "Driver",
                    "Passenger",
                    "Passenger",
                    "Passenger",
                    "Driver",
                    "Passenger",
                    "Pedestrian",
                    "Driver",
                    "Pedestrian",
                    "Passenger",
                    "Pedestrian",
                    "Driver",
                    "Passenger",
                    "Pedestrian",
                    "Driver",
                    "Driver",
                    "Driver",
                    "Driver",
                    "Passenger",
                    "Driver",
                    "Driver",
                    "Driver",
                    "Driver",
                    "Pedestrian",
                    "Pedestrian",
                    "Driver",
                    "Passenger",
                    "Driver",
                    "Driver",
                    "Driver",
                    "Pedestrian",
                    "Passenger",
                    "Passenger",
                    "Driver",
                    "Pedestrian",
                    "Driver",
                    "Pedestrian",
                    "Driver",
                    "Driver",
                    "Driver",
                    "Passenger",
                    "Passenger",
                    "Driver",
                    "Driver",
                    "Passenger",
                    "Passenger",
                    "Passenger",
                    "Driver",
                    "Driver",
                    "Passenger",
                    "Passenger",
                    "Passenger",
                    "Driver",
                    "Driver",
                    "Passenger",
                    "Passenger",
                    "Passenger",
                    "Driver",
                    "Driver",
                    "Driver",
                    "Passenger",
                    "Driver",
                    "Pedestrian",
                    "Driver",
                    "Driver",
                    "Driver",
                    "Driver",
                    "Driver",
                    "Driver",
                    "Driver",
                    "Passenger",
                    "Driver",
                    "Pedestrian",
                    "Driver",
                    "Driver",
                    "Passenger",
                    "Pedestrian",
                    "Driver",
                    "Driver",
                    "Driver",
                    "Driver",
                    "Passenger",
                    "Passenger",
                    "Driver",
                    "Driver",
                    "Passenger",
                    "Driver",
                    "Driver",
                    "Pedestrian",
                    "Driver",
                    "Driver",
                    "Driver",
                    "Driver",
                    "Driver",
                    "Driver",
                    "Passenger",
                    "Driver",
                    "Pedestrian",
                    "Pedestrian",
                    "Driver",
                    "Passenger",
                    "Driver",
                    "Driver",
                    "Passenger",
                    "Driver",
                    "Driver",
                    "Passenger",
                    "Passenger",
                    "Pedestrian",
                    "Pedestrian",
                    "Driver",
                    "Pedestrian",
                    "Passenger",
                    "Passenger",
                    "Driver"
                  ],
                  "xaxis": "x",
                  "yaxis": "y"
                },
                {
                  "bingroup": "x",
                  "hovertemplate": "Casualty Severity=Serious<br>Casualty Class=%{x}<br>count=%{y}<extra></extra>",
                  "legendgroup": "Serious",
                  "marker": {
                    "color": "#EF553B",
                    "pattern": {
                      "shape": ""
                    }
                  },
                  "name": "Serious",
                  "nbinsx": 20,
                  "orientation": "v",
                  "showlegend": true,
                  "type": "histogram",
                  "x": [
                    "Pedestrian",
                    "Pedestrian",
                    "Pedestrian",
                    "Driver",
                    "Pedestrian",
                    "Driver",
                    "Pedestrian",
                    "Driver",
                    "Driver",
                    "Driver",
                    "Driver",
                    "Passenger",
                    "Pedestrian",
                    "Driver",
                    "Driver",
                    "Passenger",
                    "Driver",
                    "Pedestrian",
                    "Pedestrian",
                    "Driver",
                    "Driver",
                    "Pedestrian",
                    "Pedestrian",
                    "Pedestrian",
                    "Driver",
                    "Pedestrian",
                    "Driver",
                    "Pedestrian",
                    "Pedestrian",
                    "Pedestrian",
                    "Passenger",
                    "Driver",
                    "Passenger",
                    "Driver",
                    "Pedestrian",
                    "Pedestrian",
                    "Driver",
                    "Passenger",
                    "Driver",
                    "Pedestrian",
                    "Driver",
                    "Driver",
                    "Passenger",
                    "Driver",
                    "Pedestrian",
                    "Driver",
                    "Pedestrian",
                    "Driver",
                    "Driver",
                    "Pedestrian",
                    "Driver",
                    "Pedestrian",
                    "Driver",
                    "Driver",
                    "Driver",
                    "Driver",
                    "Driver",
                    "Driver",
                    "Driver",
                    "Driver",
                    "Pedestrian",
                    "Driver",
                    "Driver",
                    "Driver",
                    "Driver",
                    "Pedestrian",
                    "Driver",
                    "Pedestrian",
                    "Driver",
                    "Driver",
                    "Passenger",
                    "Passenger",
                    "Pedestrian",
                    "Driver",
                    "Driver",
                    "Driver",
                    "Pedestrian",
                    "Driver",
                    "Passenger",
                    "Passenger",
                    "Pedestrian",
                    "Driver",
                    "Driver",
                    "Passenger",
                    "Driver",
                    "Pedestrian",
                    "Driver",
                    "Driver",
                    "Passenger",
                    "Driver",
                    "Driver",
                    "Passenger",
                    "Pedestrian",
                    "Driver",
                    "Passenger",
                    "Passenger",
                    "Driver",
                    "Driver",
                    "Driver",
                    "Passenger",
                    "Driver",
                    "Driver",
                    "Passenger",
                    "Pedestrian",
                    "Driver",
                    "Driver",
                    "Driver",
                    "Driver",
                    "Driver",
                    "Pedestrian",
                    "Pedestrian",
                    "Pedestrian",
                    "Driver",
                    "Pedestrian",
                    "Pedestrian",
                    "Pedestrian",
                    "Pedestrian",
                    "Driver",
                    "Driver",
                    "Driver",
                    "Driver",
                    "Driver",
                    "Driver",
                    "Driver",
                    "Driver",
                    "Driver",
                    "Driver",
                    "Driver",
                    "Driver",
                    "Driver",
                    "Pedestrian",
                    "Driver",
                    "Pedestrian",
                    "Driver",
                    "Driver",
                    "Pedestrian",
                    "Driver",
                    "Passenger",
                    "Driver",
                    "Driver",
                    "Pedestrian",
                    "Driver",
                    "Driver",
                    "Driver",
                    "Driver",
                    "Driver",
                    "Driver",
                    "Passenger",
                    "Passenger",
                    "Driver",
                    "Driver",
                    "Driver",
                    "Passenger",
                    "Driver",
                    "Driver",
                    "Driver",
                    "Passenger",
                    "Passenger",
                    "Driver",
                    "Passenger",
                    "Passenger",
                    "Pedestrian",
                    "Driver",
                    "Driver",
                    "Driver",
                    "Driver",
                    "Driver",
                    "Driver",
                    "Driver",
                    "Driver",
                    "Pedestrian",
                    "Driver",
                    "Driver",
                    "Passenger",
                    "Driver",
                    "Driver",
                    "Driver",
                    "Driver",
                    "Passenger",
                    "Driver",
                    "Driver",
                    "Driver",
                    "Driver",
                    "Pedestrian",
                    "Driver",
                    "Pedestrian",
                    "Pedestrian",
                    "Driver",
                    "Driver",
                    "Driver",
                    "Driver",
                    "Pedestrian",
                    "Passenger",
                    "Driver",
                    "Driver",
                    "Pedestrian",
                    "Driver",
                    "Driver",
                    "Driver",
                    "Driver",
                    "Driver",
                    "Driver",
                    "Driver",
                    "Driver",
                    "Driver",
                    "Pedestrian",
                    "Driver",
                    "Driver",
                    "Driver",
                    "Driver",
                    "Driver",
                    "Pedestrian",
                    "Driver",
                    "Driver",
                    "Pedestrian",
                    "Driver",
                    "Driver",
                    "Pedestrian",
                    "Driver",
                    "Driver",
                    "Driver",
                    "Pedestrian",
                    "Pedestrian",
                    "Pedestrian",
                    "Driver",
                    "Driver",
                    "Pedestrian",
                    "Pedestrian",
                    "Driver",
                    "Pedestrian",
                    "Driver",
                    "Pedestrian",
                    "Pedestrian",
                    "Driver",
                    "Passenger",
                    "Pedestrian",
                    "Pedestrian",
                    "Pedestrian",
                    "Driver",
                    "Driver",
                    "Pedestrian",
                    "Driver",
                    "Driver",
                    "Driver",
                    "Driver",
                    "Driver",
                    "Pedestrian",
                    "Pedestrian",
                    "Driver",
                    "Driver",
                    "Driver",
                    "Pedestrian",
                    "Pedestrian",
                    "Driver",
                    "Pedestrian",
                    "Driver",
                    "Pedestrian",
                    "Driver",
                    "Pedestrian",
                    "Driver",
                    "Pedestrian",
                    "Driver",
                    "Driver",
                    "Driver",
                    "Driver",
                    "Pedestrian"
                  ],
                  "xaxis": "x",
                  "yaxis": "y"
                },
                {
                  "bingroup": "x",
                  "hovertemplate": "Casualty Severity=Fatal<br>Casualty Class=%{x}<br>count=%{y}<extra></extra>",
                  "legendgroup": "Fatal",
                  "marker": {
                    "color": "#00cc96",
                    "pattern": {
                      "shape": ""
                    }
                  },
                  "name": "Fatal",
                  "nbinsx": 20,
                  "orientation": "v",
                  "showlegend": true,
                  "type": "histogram",
                  "x": [
                    "Passenger",
                    "Driver",
                    "Pedestrian",
                    "Passenger",
                    "Passenger",
                    "Driver",
                    "Driver",
                    "Pedestrian",
                    "Pedestrian",
                    "Passenger",
                    "Passenger",
                    "Driver",
                    "Driver",
                    "Passenger",
                    "Passenger",
                    "Driver",
                    "Driver",
                    "Driver",
                    "Pedestrian",
                    "Driver",
                    "Driver",
                    "Pedestrian",
                    "Pedestrian",
                    "Pedestrian",
                    "Pedestrian"
                  ],
                  "xaxis": "x",
                  "yaxis": "y"
                }
              ],
              "layout": {
                "bargap": 0.2,
                "barmode": "relative",
                "legend": {
                  "title": {
                    "text": "Casualty Severity"
                  },
                  "tracegroupgap": 0
                },
                "template": {
                  "data": {
                    "bar": [
                      {
                        "error_x": {
                          "color": "#2a3f5f"
                        },
                        "error_y": {
                          "color": "#2a3f5f"
                        },
                        "marker": {
                          "line": {
                            "color": "#E5ECF6",
                            "width": 0.5
                          },
                          "pattern": {
                            "fillmode": "overlay",
                            "size": 10,
                            "solidity": 0.2
                          }
                        },
                        "type": "bar"
                      }
                    ],
                    "barpolar": [
                      {
                        "marker": {
                          "line": {
                            "color": "#E5ECF6",
                            "width": 0.5
                          },
                          "pattern": {
                            "fillmode": "overlay",
                            "size": 10,
                            "solidity": 0.2
                          }
                        },
                        "type": "barpolar"
                      }
                    ],
                    "carpet": [
                      {
                        "aaxis": {
                          "endlinecolor": "#2a3f5f",
                          "gridcolor": "white",
                          "linecolor": "white",
                          "minorgridcolor": "white",
                          "startlinecolor": "#2a3f5f"
                        },
                        "baxis": {
                          "endlinecolor": "#2a3f5f",
                          "gridcolor": "white",
                          "linecolor": "white",
                          "minorgridcolor": "white",
                          "startlinecolor": "#2a3f5f"
                        },
                        "type": "carpet"
                      }
                    ],
                    "choropleth": [
                      {
                        "colorbar": {
                          "outlinewidth": 0,
                          "ticks": ""
                        },
                        "type": "choropleth"
                      }
                    ],
                    "contour": [
                      {
                        "colorbar": {
                          "outlinewidth": 0,
                          "ticks": ""
                        },
                        "colorscale": [
                          [
                            0,
                            "#0d0887"
                          ],
                          [
                            0.1111111111111111,
                            "#46039f"
                          ],
                          [
                            0.2222222222222222,
                            "#7201a8"
                          ],
                          [
                            0.3333333333333333,
                            "#9c179e"
                          ],
                          [
                            0.4444444444444444,
                            "#bd3786"
                          ],
                          [
                            0.5555555555555556,
                            "#d8576b"
                          ],
                          [
                            0.6666666666666666,
                            "#ed7953"
                          ],
                          [
                            0.7777777777777778,
                            "#fb9f3a"
                          ],
                          [
                            0.8888888888888888,
                            "#fdca26"
                          ],
                          [
                            1,
                            "#f0f921"
                          ]
                        ],
                        "type": "contour"
                      }
                    ],
                    "contourcarpet": [
                      {
                        "colorbar": {
                          "outlinewidth": 0,
                          "ticks": ""
                        },
                        "type": "contourcarpet"
                      }
                    ],
                    "heatmap": [
                      {
                        "colorbar": {
                          "outlinewidth": 0,
                          "ticks": ""
                        },
                        "colorscale": [
                          [
                            0,
                            "#0d0887"
                          ],
                          [
                            0.1111111111111111,
                            "#46039f"
                          ],
                          [
                            0.2222222222222222,
                            "#7201a8"
                          ],
                          [
                            0.3333333333333333,
                            "#9c179e"
                          ],
                          [
                            0.4444444444444444,
                            "#bd3786"
                          ],
                          [
                            0.5555555555555556,
                            "#d8576b"
                          ],
                          [
                            0.6666666666666666,
                            "#ed7953"
                          ],
                          [
                            0.7777777777777778,
                            "#fb9f3a"
                          ],
                          [
                            0.8888888888888888,
                            "#fdca26"
                          ],
                          [
                            1,
                            "#f0f921"
                          ]
                        ],
                        "type": "heatmap"
                      }
                    ],
                    "histogram": [
                      {
                        "marker": {
                          "pattern": {
                            "fillmode": "overlay",
                            "size": 10,
                            "solidity": 0.2
                          }
                        },
                        "type": "histogram"
                      }
                    ],
                    "histogram2d": [
                      {
                        "colorbar": {
                          "outlinewidth": 0,
                          "ticks": ""
                        },
                        "colorscale": [
                          [
                            0,
                            "#0d0887"
                          ],
                          [
                            0.1111111111111111,
                            "#46039f"
                          ],
                          [
                            0.2222222222222222,
                            "#7201a8"
                          ],
                          [
                            0.3333333333333333,
                            "#9c179e"
                          ],
                          [
                            0.4444444444444444,
                            "#bd3786"
                          ],
                          [
                            0.5555555555555556,
                            "#d8576b"
                          ],
                          [
                            0.6666666666666666,
                            "#ed7953"
                          ],
                          [
                            0.7777777777777778,
                            "#fb9f3a"
                          ],
                          [
                            0.8888888888888888,
                            "#fdca26"
                          ],
                          [
                            1,
                            "#f0f921"
                          ]
                        ],
                        "type": "histogram2d"
                      }
                    ],
                    "histogram2dcontour": [
                      {
                        "colorbar": {
                          "outlinewidth": 0,
                          "ticks": ""
                        },
                        "colorscale": [
                          [
                            0,
                            "#0d0887"
                          ],
                          [
                            0.1111111111111111,
                            "#46039f"
                          ],
                          [
                            0.2222222222222222,
                            "#7201a8"
                          ],
                          [
                            0.3333333333333333,
                            "#9c179e"
                          ],
                          [
                            0.4444444444444444,
                            "#bd3786"
                          ],
                          [
                            0.5555555555555556,
                            "#d8576b"
                          ],
                          [
                            0.6666666666666666,
                            "#ed7953"
                          ],
                          [
                            0.7777777777777778,
                            "#fb9f3a"
                          ],
                          [
                            0.8888888888888888,
                            "#fdca26"
                          ],
                          [
                            1,
                            "#f0f921"
                          ]
                        ],
                        "type": "histogram2dcontour"
                      }
                    ],
                    "mesh3d": [
                      {
                        "colorbar": {
                          "outlinewidth": 0,
                          "ticks": ""
                        },
                        "type": "mesh3d"
                      }
                    ],
                    "parcoords": [
                      {
                        "line": {
                          "colorbar": {
                            "outlinewidth": 0,
                            "ticks": ""
                          }
                        },
                        "type": "parcoords"
                      }
                    ],
                    "pie": [
                      {
                        "automargin": true,
                        "type": "pie"
                      }
                    ],
                    "scatter": [
                      {
                        "fillpattern": {
                          "fillmode": "overlay",
                          "size": 10,
                          "solidity": 0.2
                        },
                        "type": "scatter"
                      }
                    ],
                    "scatter3d": [
                      {
                        "line": {
                          "colorbar": {
                            "outlinewidth": 0,
                            "ticks": ""
                          }
                        },
                        "marker": {
                          "colorbar": {
                            "outlinewidth": 0,
                            "ticks": ""
                          }
                        },
                        "type": "scatter3d"
                      }
                    ],
                    "scattercarpet": [
                      {
                        "marker": {
                          "colorbar": {
                            "outlinewidth": 0,
                            "ticks": ""
                          }
                        },
                        "type": "scattercarpet"
                      }
                    ],
                    "scattergeo": [
                      {
                        "marker": {
                          "colorbar": {
                            "outlinewidth": 0,
                            "ticks": ""
                          }
                        },
                        "type": "scattergeo"
                      }
                    ],
                    "scattergl": [
                      {
                        "marker": {
                          "colorbar": {
                            "outlinewidth": 0,
                            "ticks": ""
                          }
                        },
                        "type": "scattergl"
                      }
                    ],
                    "scattermap": [
                      {
                        "marker": {
                          "colorbar": {
                            "outlinewidth": 0,
                            "ticks": ""
                          }
                        },
                        "type": "scattermap"
                      }
                    ],
                    "scattermapbox": [
                      {
                        "marker": {
                          "colorbar": {
                            "outlinewidth": 0,
                            "ticks": ""
                          }
                        },
                        "type": "scattermapbox"
                      }
                    ],
                    "scatterpolar": [
                      {
                        "marker": {
                          "colorbar": {
                            "outlinewidth": 0,
                            "ticks": ""
                          }
                        },
                        "type": "scatterpolar"
                      }
                    ],
                    "scatterpolargl": [
                      {
                        "marker": {
                          "colorbar": {
                            "outlinewidth": 0,
                            "ticks": ""
                          }
                        },
                        "type": "scatterpolargl"
                      }
                    ],
                    "scatterternary": [
                      {
                        "marker": {
                          "colorbar": {
                            "outlinewidth": 0,
                            "ticks": ""
                          }
                        },
                        "type": "scatterternary"
                      }
                    ],
                    "surface": [
                      {
                        "colorbar": {
                          "outlinewidth": 0,
                          "ticks": ""
                        },
                        "colorscale": [
                          [
                            0,
                            "#0d0887"
                          ],
                          [
                            0.1111111111111111,
                            "#46039f"
                          ],
                          [
                            0.2222222222222222,
                            "#7201a8"
                          ],
                          [
                            0.3333333333333333,
                            "#9c179e"
                          ],
                          [
                            0.4444444444444444,
                            "#bd3786"
                          ],
                          [
                            0.5555555555555556,
                            "#d8576b"
                          ],
                          [
                            0.6666666666666666,
                            "#ed7953"
                          ],
                          [
                            0.7777777777777778,
                            "#fb9f3a"
                          ],
                          [
                            0.8888888888888888,
                            "#fdca26"
                          ],
                          [
                            1,
                            "#f0f921"
                          ]
                        ],
                        "type": "surface"
                      }
                    ],
                    "table": [
                      {
                        "cells": {
                          "fill": {
                            "color": "#EBF0F8"
                          },
                          "line": {
                            "color": "white"
                          }
                        },
                        "header": {
                          "fill": {
                            "color": "#C8D4E3"
                          },
                          "line": {
                            "color": "white"
                          }
                        },
                        "type": "table"
                      }
                    ]
                  },
                  "layout": {
                    "annotationdefaults": {
                      "arrowcolor": "#2a3f5f",
                      "arrowhead": 0,
                      "arrowwidth": 1
                    },
                    "autotypenumbers": "strict",
                    "coloraxis": {
                      "colorbar": {
                        "outlinewidth": 0,
                        "ticks": ""
                      }
                    },
                    "colorscale": {
                      "diverging": [
                        [
                          0,
                          "#8e0152"
                        ],
                        [
                          0.1,
                          "#c51b7d"
                        ],
                        [
                          0.2,
                          "#de77ae"
                        ],
                        [
                          0.3,
                          "#f1b6da"
                        ],
                        [
                          0.4,
                          "#fde0ef"
                        ],
                        [
                          0.5,
                          "#f7f7f7"
                        ],
                        [
                          0.6,
                          "#e6f5d0"
                        ],
                        [
                          0.7,
                          "#b8e186"
                        ],
                        [
                          0.8,
                          "#7fbc41"
                        ],
                        [
                          0.9,
                          "#4d9221"
                        ],
                        [
                          1,
                          "#276419"
                        ]
                      ],
                      "sequential": [
                        [
                          0,
                          "#0d0887"
                        ],
                        [
                          0.1111111111111111,
                          "#46039f"
                        ],
                        [
                          0.2222222222222222,
                          "#7201a8"
                        ],
                        [
                          0.3333333333333333,
                          "#9c179e"
                        ],
                        [
                          0.4444444444444444,
                          "#bd3786"
                        ],
                        [
                          0.5555555555555556,
                          "#d8576b"
                        ],
                        [
                          0.6666666666666666,
                          "#ed7953"
                        ],
                        [
                          0.7777777777777778,
                          "#fb9f3a"
                        ],
                        [
                          0.8888888888888888,
                          "#fdca26"
                        ],
                        [
                          1,
                          "#f0f921"
                        ]
                      ],
                      "sequentialminus": [
                        [
                          0,
                          "#0d0887"
                        ],
                        [
                          0.1111111111111111,
                          "#46039f"
                        ],
                        [
                          0.2222222222222222,
                          "#7201a8"
                        ],
                        [
                          0.3333333333333333,
                          "#9c179e"
                        ],
                        [
                          0.4444444444444444,
                          "#bd3786"
                        ],
                        [
                          0.5555555555555556,
                          "#d8576b"
                        ],
                        [
                          0.6666666666666666,
                          "#ed7953"
                        ],
                        [
                          0.7777777777777778,
                          "#fb9f3a"
                        ],
                        [
                          0.8888888888888888,
                          "#fdca26"
                        ],
                        [
                          1,
                          "#f0f921"
                        ]
                      ]
                    },
                    "colorway": [
                      "#636efa",
                      "#EF553B",
                      "#00cc96",
                      "#ab63fa",
                      "#FFA15A",
                      "#19d3f3",
                      "#FF6692",
                      "#B6E880",
                      "#FF97FF",
                      "#FECB52"
                    ],
                    "font": {
                      "color": "#2a3f5f"
                    },
                    "geo": {
                      "bgcolor": "white",
                      "lakecolor": "white",
                      "landcolor": "#E5ECF6",
                      "showlakes": true,
                      "showland": true,
                      "subunitcolor": "white"
                    },
                    "hoverlabel": {
                      "align": "left"
                    },
                    "hovermode": "closest",
                    "mapbox": {
                      "style": "light"
                    },
                    "paper_bgcolor": "white",
                    "plot_bgcolor": "#E5ECF6",
                    "polar": {
                      "angularaxis": {
                        "gridcolor": "white",
                        "linecolor": "white",
                        "ticks": ""
                      },
                      "bgcolor": "#E5ECF6",
                      "radialaxis": {
                        "gridcolor": "white",
                        "linecolor": "white",
                        "ticks": ""
                      }
                    },
                    "scene": {
                      "xaxis": {
                        "backgroundcolor": "#E5ECF6",
                        "gridcolor": "white",
                        "gridwidth": 2,
                        "linecolor": "white",
                        "showbackground": true,
                        "ticks": "",
                        "zerolinecolor": "white"
                      },
                      "yaxis": {
                        "backgroundcolor": "#E5ECF6",
                        "gridcolor": "white",
                        "gridwidth": 2,
                        "linecolor": "white",
                        "showbackground": true,
                        "ticks": "",
                        "zerolinecolor": "white"
                      },
                      "zaxis": {
                        "backgroundcolor": "#E5ECF6",
                        "gridcolor": "white",
                        "gridwidth": 2,
                        "linecolor": "white",
                        "showbackground": true,
                        "ticks": "",
                        "zerolinecolor": "white"
                      }
                    },
                    "shapedefaults": {
                      "line": {
                        "color": "#2a3f5f"
                      }
                    },
                    "ternary": {
                      "aaxis": {
                        "gridcolor": "white",
                        "linecolor": "white",
                        "ticks": ""
                      },
                      "baxis": {
                        "gridcolor": "white",
                        "linecolor": "white",
                        "ticks": ""
                      },
                      "bgcolor": "#E5ECF6",
                      "caxis": {
                        "gridcolor": "white",
                        "linecolor": "white",
                        "ticks": ""
                      }
                    },
                    "title": {
                      "x": 0.05
                    },
                    "xaxis": {
                      "automargin": true,
                      "gridcolor": "white",
                      "linecolor": "white",
                      "ticks": "",
                      "title": {
                        "standoff": 15
                      },
                      "zerolinecolor": "white",
                      "zerolinewidth": 2
                    },
                    "yaxis": {
                      "automargin": true,
                      "gridcolor": "white",
                      "linecolor": "white",
                      "ticks": "",
                      "title": {
                        "standoff": 15
                      },
                      "zerolinecolor": "white",
                      "zerolinewidth": 2
                    }
                  }
                },
                "title": {
                  "text": "Class Vs Severity"
                },
                "xaxis": {
                  "anchor": "y",
                  "domain": [
                    0,
                    1
                  ],
                  "title": {
                    "text": "Passengers class"
                  }
                },
                "yaxis": {
                  "anchor": "x",
                  "domain": [
                    0,
                    1
                  ],
                  "title": {
                    "text": "Count"
                  }
                }
              }
            }
          },
          "metadata": {},
          "output_type": "display_data"
        }
      ],
      "source": [
        "# histogram wof actual hours vs Lighting Conditions\n",
        "fig = px.histogram(df, x='Casualty Class', nbins=20,\n",
        "                   color= 'Casualty Severity', title='Class Vs Severity')\n",
        "fig.update_layout(\n",
        "    xaxis_title='Passengers class',\n",
        "    yaxis_title='Count',\n",
        "    bargap=0.2,\n",
        ")\n",
        "fig.show()"
      ]
    },
    {
      "cell_type": "markdown",
      "metadata": {
        "id": "fLnq-W1NLE_M"
      },
      "source": []
    },
    {
      "cell_type": "code",
      "execution_count": 19,
      "metadata": {
        "colab": {
          "base_uri": "https://localhost:8080/",
          "height": 0
        },
        "id": "leD03q23Kac2",
        "outputId": "b87784d4-0c04-4457-a334-6193eabcb6af"
      },
      "outputs": [
        {
          "data": {
            "application/vnd.plotly.v1+json": {
              "config": {
                "plotlyServerURL": "https://plot.ly"
              },
              "data": [
                {
                  "bingroup": "x",
                  "hovertemplate": "Casualty Severity=Slight<br>Sex of Casualty=Male<br>Casualty Class=%{x}<br>count=%{y}<extra></extra>",
                  "legendgroup": "Slight",
                  "marker": {
                    "color": "#636efa",
                    "pattern": {
                      "shape": ""
                    }
                  },
                  "name": "Slight",
                  "nbinsx": 20,
                  "orientation": "v",
                  "showlegend": true,
                  "type": "histogram",
                  "x": [
                    "Driver",
                    "Driver",
                    "Driver",
                    "Driver",
                    "Driver",
                    "Passenger",
                    "Driver",
                    "Driver",
                    "Driver",
                    "Driver",
                    "Driver",
                    "Driver",
                    "Passenger",
                    "Passenger",
                    "Driver",
                    "Driver",
                    "Pedestrian",
                    "Driver",
                    "Passenger",
                    "Driver",
                    "Pedestrian",
                    "Driver",
                    "Pedestrian",
                    "Pedestrian",
                    "Driver",
                    "Pedestrian",
                    "Driver",
                    "Driver",
                    "Driver",
                    "Driver",
                    "Driver",
                    "Passenger",
                    "Passenger",
                    "Driver",
                    "Pedestrian",
                    "Driver",
                    "Passenger",
                    "Passenger",
                    "Driver",
                    "Driver",
                    "Driver",
                    "Passenger",
                    "Driver",
                    "Driver",
                    "Driver",
                    "Passenger",
                    "Pedestrian",
                    "Driver",
                    "Driver",
                    "Driver",
                    "Driver",
                    "Driver",
                    "Driver",
                    "Driver",
                    "Driver",
                    "Passenger",
                    "Driver",
                    "Driver",
                    "Driver",
                    "Passenger",
                    "Driver",
                    "Passenger",
                    "Driver",
                    "Pedestrian",
                    "Driver",
                    "Passenger",
                    "Pedestrian",
                    "Driver",
                    "Driver",
                    "Passenger",
                    "Passenger",
                    "Driver",
                    "Driver",
                    "Driver",
                    "Passenger",
                    "Pedestrian",
                    "Driver",
                    "Driver",
                    "Passenger",
                    "Driver",
                    "Driver",
                    "Pedestrian",
                    "Pedestrian",
                    "Driver",
                    "Driver",
                    "Driver",
                    "Driver",
                    "Driver",
                    "Driver",
                    "Driver",
                    "Driver",
                    "Driver",
                    "Driver",
                    "Driver",
                    "Driver",
                    "Driver",
                    "Passenger",
                    "Driver",
                    "Passenger",
                    "Passenger",
                    "Pedestrian",
                    "Passenger",
                    "Driver",
                    "Driver",
                    "Passenger",
                    "Passenger",
                    "Passenger",
                    "Pedestrian",
                    "Pedestrian",
                    "Driver",
                    "Driver",
                    "Driver",
                    "Driver",
                    "Pedestrian",
                    "Passenger",
                    "Passenger",
                    "Pedestrian",
                    "Driver",
                    "Driver",
                    "Driver",
                    "Driver",
                    "Passenger",
                    "Passenger",
                    "Passenger",
                    "Passenger",
                    "Passenger",
                    "Driver",
                    "Driver",
                    "Passenger",
                    "Driver",
                    "Passenger",
                    "Driver",
                    "Driver",
                    "Driver",
                    "Driver",
                    "Driver",
                    "Driver",
                    "Driver",
                    "Driver",
                    "Driver",
                    "Driver",
                    "Pedestrian",
                    "Pedestrian",
                    "Driver",
                    "Pedestrian",
                    "Driver",
                    "Driver",
                    "Driver",
                    "Pedestrian",
                    "Pedestrian",
                    "Passenger",
                    "Driver",
                    "Driver",
                    "Driver",
                    "Driver",
                    "Passenger",
                    "Driver",
                    "Passenger",
                    "Pedestrian",
                    "Passenger",
                    "Pedestrian",
                    "Driver",
                    "Driver",
                    "Passenger",
                    "Passenger",
                    "Driver",
                    "Driver",
                    "Driver",
                    "Pedestrian",
                    "Driver",
                    "Pedestrian",
                    "Driver",
                    "Driver",
                    "Driver",
                    "Driver",
                    "Driver",
                    "Driver",
                    "Driver",
                    "Pedestrian",
                    "Passenger",
                    "Pedestrian",
                    "Driver",
                    "Driver",
                    "Pedestrian",
                    "Passenger",
                    "Driver",
                    "Passenger",
                    "Driver",
                    "Driver",
                    "Driver",
                    "Passenger",
                    "Passenger",
                    "Passenger",
                    "Driver",
                    "Driver",
                    "Passenger",
                    "Driver",
                    "Driver",
                    "Driver",
                    "Pedestrian",
                    "Driver",
                    "Driver",
                    "Passenger",
                    "Driver",
                    "Driver",
                    "Pedestrian",
                    "Driver",
                    "Pedestrian",
                    "Driver",
                    "Driver",
                    "Passenger",
                    "Passenger",
                    "Driver",
                    "Driver",
                    "Driver",
                    "Pedestrian",
                    "Driver",
                    "Driver",
                    "Pedestrian",
                    "Passenger",
                    "Driver",
                    "Passenger",
                    "Passenger",
                    "Driver",
                    "Driver",
                    "Driver",
                    "Driver",
                    "Passenger",
                    "Driver",
                    "Driver",
                    "Passenger",
                    "Driver",
                    "Pedestrian",
                    "Driver",
                    "Driver",
                    "Driver",
                    "Pedestrian",
                    "Driver",
                    "Driver",
                    "Pedestrian",
                    "Pedestrian",
                    "Driver",
                    "Passenger",
                    "Driver",
                    "Driver",
                    "Driver",
                    "Driver",
                    "Driver",
                    "Driver",
                    "Driver",
                    "Driver",
                    "Driver",
                    "Pedestrian",
                    "Driver",
                    "Driver",
                    "Driver",
                    "Pedestrian",
                    "Passenger",
                    "Driver",
                    "Driver",
                    "Driver",
                    "Driver",
                    "Pedestrian",
                    "Pedestrian",
                    "Driver",
                    "Driver",
                    "Passenger",
                    "Passenger",
                    "Pedestrian",
                    "Pedestrian",
                    "Pedestrian",
                    "Driver",
                    "Driver",
                    "Pedestrian",
                    "Driver",
                    "Passenger",
                    "Driver",
                    "Driver",
                    "Driver",
                    "Driver",
                    "Driver",
                    "Passenger",
                    "Driver",
                    "Passenger",
                    "Driver",
                    "Driver",
                    "Pedestrian",
                    "Driver",
                    "Passenger",
                    "Driver",
                    "Pedestrian",
                    "Pedestrian",
                    "Driver",
                    "Driver",
                    "Pedestrian",
                    "Driver",
                    "Driver",
                    "Driver",
                    "Driver",
                    "Driver",
                    "Driver",
                    "Driver",
                    "Driver",
                    "Driver",
                    "Driver",
                    "Driver",
                    "Driver",
                    "Driver",
                    "Passenger",
                    "Passenger",
                    "Passenger",
                    "Driver",
                    "Driver",
                    "Driver",
                    "Driver",
                    "Driver",
                    "Driver",
                    "Driver",
                    "Driver",
                    "Driver",
                    "Passenger",
                    "Passenger",
                    "Driver",
                    "Pedestrian",
                    "Driver",
                    "Driver",
                    "Driver",
                    "Driver",
                    "Driver",
                    "Driver",
                    "Driver",
                    "Driver",
                    "Passenger",
                    "Passenger",
                    "Pedestrian",
                    "Driver",
                    "Driver",
                    "Driver",
                    "Driver",
                    "Passenger",
                    "Driver",
                    "Driver",
                    "Driver",
                    "Driver",
                    "Passenger",
                    "Driver",
                    "Driver",
                    "Driver",
                    "Passenger",
                    "Driver",
                    "Passenger",
                    "Driver",
                    "Driver",
                    "Driver",
                    "Pedestrian",
                    "Driver",
                    "Driver",
                    "Passenger",
                    "Driver",
                    "Driver",
                    "Driver",
                    "Passenger",
                    "Passenger",
                    "Driver",
                    "Driver",
                    "Driver",
                    "Pedestrian",
                    "Driver",
                    "Driver",
                    "Driver",
                    "Driver",
                    "Driver",
                    "Passenger",
                    "Passenger",
                    "Driver",
                    "Driver",
                    "Passenger",
                    "Driver",
                    "Driver",
                    "Driver",
                    "Passenger",
                    "Driver",
                    "Passenger",
                    "Driver",
                    "Driver",
                    "Passenger",
                    "Driver",
                    "Passenger",
                    "Driver",
                    "Driver",
                    "Driver",
                    "Driver",
                    "Passenger",
                    "Pedestrian",
                    "Driver",
                    "Driver",
                    "Driver",
                    "Driver",
                    "Driver",
                    "Pedestrian",
                    "Passenger",
                    "Driver",
                    "Driver",
                    "Driver",
                    "Passenger",
                    "Driver",
                    "Driver",
                    "Passenger",
                    "Driver",
                    "Pedestrian",
                    "Driver",
                    "Pedestrian",
                    "Driver",
                    "Driver",
                    "Passenger",
                    "Passenger",
                    "Passenger",
                    "Passenger",
                    "Driver",
                    "Driver",
                    "Driver",
                    "Driver",
                    "Driver",
                    "Passenger",
                    "Driver",
                    "Driver",
                    "Pedestrian",
                    "Driver",
                    "Driver",
                    "Driver",
                    "Driver",
                    "Passenger",
                    "Driver",
                    "Driver",
                    "Driver",
                    "Driver",
                    "Driver",
                    "Pedestrian",
                    "Driver",
                    "Passenger",
                    "Driver",
                    "Driver",
                    "Passenger",
                    "Driver",
                    "Driver",
                    "Driver",
                    "Passenger",
                    "Passenger",
                    "Driver",
                    "Pedestrian",
                    "Driver",
                    "Driver",
                    "Driver",
                    "Driver",
                    "Driver",
                    "Passenger",
                    "Driver",
                    "Driver",
                    "Pedestrian",
                    "Driver",
                    "Passenger",
                    "Passenger",
                    "Passenger",
                    "Driver",
                    "Driver",
                    "Pedestrian",
                    "Passenger",
                    "Pedestrian",
                    "Driver",
                    "Passenger",
                    "Driver",
                    "Driver",
                    "Driver",
                    "Driver",
                    "Driver",
                    "Driver",
                    "Driver",
                    "Passenger",
                    "Driver",
                    "Driver",
                    "Pedestrian",
                    "Pedestrian",
                    "Driver",
                    "Driver",
                    "Passenger",
                    "Driver",
                    "Driver",
                    "Driver",
                    "Driver",
                    "Driver",
                    "Driver",
                    "Driver",
                    "Pedestrian",
                    "Driver",
                    "Driver",
                    "Driver",
                    "Driver",
                    "Passenger",
                    "Passenger",
                    "Driver",
                    "Driver",
                    "Pedestrian",
                    "Driver",
                    "Pedestrian",
                    "Driver",
                    "Pedestrian",
                    "Driver",
                    "Driver",
                    "Passenger",
                    "Driver",
                    "Driver",
                    "Driver",
                    "Driver",
                    "Passenger",
                    "Passenger",
                    "Passenger",
                    "Passenger",
                    "Passenger",
                    "Passenger",
                    "Passenger",
                    "Driver",
                    "Driver",
                    "Driver",
                    "Passenger",
                    "Driver",
                    "Pedestrian",
                    "Passenger",
                    "Driver",
                    "Driver",
                    "Driver",
                    "Passenger",
                    "Driver",
                    "Driver",
                    "Driver",
                    "Driver",
                    "Driver",
                    "Driver",
                    "Driver",
                    "Driver",
                    "Driver",
                    "Driver",
                    "Pedestrian",
                    "Driver",
                    "Driver",
                    "Driver",
                    "Driver",
                    "Driver",
                    "Driver",
                    "Driver",
                    "Driver",
                    "Driver",
                    "Driver",
                    "Passenger",
                    "Passenger",
                    "Passenger",
                    "Passenger",
                    "Passenger",
                    "Driver",
                    "Driver",
                    "Driver",
                    "Passenger",
                    "Driver",
                    "Driver",
                    "Passenger",
                    "Driver",
                    "Pedestrian",
                    "Driver",
                    "Pedestrian",
                    "Driver",
                    "Driver",
                    "Driver",
                    "Pedestrian",
                    "Pedestrian",
                    "Driver",
                    "Passenger",
                    "Passenger",
                    "Driver",
                    "Driver",
                    "Driver",
                    "Driver",
                    "Driver",
                    "Driver",
                    "Driver",
                    "Driver",
                    "Driver",
                    "Driver",
                    "Driver",
                    "Passenger",
                    "Driver",
                    "Pedestrian",
                    "Driver",
                    "Driver",
                    "Driver",
                    "Pedestrian",
                    "Driver",
                    "Driver",
                    "Driver",
                    "Driver",
                    "Driver",
                    "Driver",
                    "Driver",
                    "Pedestrian",
                    "Pedestrian",
                    "Driver",
                    "Passenger",
                    "Driver",
                    "Driver",
                    "Pedestrian",
                    "Driver",
                    "Driver",
                    "Driver",
                    "Driver",
                    "Driver",
                    "Driver",
                    "Driver",
                    "Pedestrian",
                    "Driver",
                    "Driver",
                    "Driver",
                    "Pedestrian",
                    "Driver",
                    "Driver",
                    "Driver",
                    "Driver",
                    "Pedestrian",
                    "Driver",
                    "Driver",
                    "Driver",
                    "Driver",
                    "Passenger",
                    "Passenger",
                    "Driver",
                    "Pedestrian",
                    "Driver",
                    "Driver",
                    "Passenger",
                    "Driver",
                    "Pedestrian",
                    "Driver",
                    "Passenger",
                    "Driver",
                    "Passenger",
                    "Driver",
                    "Driver",
                    "Driver",
                    "Pedestrian",
                    "Driver",
                    "Passenger",
                    "Passenger",
                    "Driver",
                    "Driver",
                    "Pedestrian",
                    "Driver",
                    "Driver",
                    "Driver",
                    "Driver",
                    "Driver",
                    "Driver",
                    "Driver",
                    "Driver",
                    "Driver",
                    "Driver",
                    "Driver",
                    "Driver",
                    "Passenger",
                    "Driver",
                    "Driver",
                    "Passenger",
                    "Driver",
                    "Driver",
                    "Passenger",
                    "Driver",
                    "Driver",
                    "Driver",
                    "Driver",
                    "Driver",
                    "Passenger",
                    "Driver",
                    "Driver",
                    "Driver",
                    "Passenger",
                    "Passenger",
                    "Pedestrian",
                    "Driver",
                    "Driver",
                    "Driver",
                    "Driver",
                    "Passenger",
                    "Driver",
                    "Passenger",
                    "Passenger",
                    "Passenger",
                    "Passenger",
                    "Driver",
                    "Passenger",
                    "Passenger",
                    "Passenger",
                    "Driver",
                    "Driver",
                    "Driver",
                    "Driver",
                    "Driver",
                    "Driver",
                    "Passenger",
                    "Driver",
                    "Passenger",
                    "Driver",
                    "Driver",
                    "Pedestrian",
                    "Driver",
                    "Driver",
                    "Passenger",
                    "Driver",
                    "Driver",
                    "Driver",
                    "Pedestrian",
                    "Driver",
                    "Driver",
                    "Passenger",
                    "Driver",
                    "Driver",
                    "Driver",
                    "Passenger",
                    "Pedestrian",
                    "Pedestrian",
                    "Driver",
                    "Driver",
                    "Driver",
                    "Driver",
                    "Driver",
                    "Pedestrian",
                    "Driver",
                    "Driver",
                    "Driver",
                    "Passenger",
                    "Driver",
                    "Driver",
                    "Driver",
                    "Driver",
                    "Driver",
                    "Passenger",
                    "Passenger",
                    "Driver",
                    "Driver",
                    "Passenger",
                    "Driver",
                    "Passenger",
                    "Passenger",
                    "Passenger",
                    "Passenger",
                    "Driver",
                    "Passenger",
                    "Pedestrian",
                    "Driver",
                    "Driver",
                    "Driver",
                    "Driver",
                    "Driver",
                    "Passenger",
                    "Pedestrian",
                    "Driver",
                    "Driver",
                    "Driver",
                    "Pedestrian",
                    "Driver",
                    "Driver",
                    "Driver",
                    "Driver",
                    "Driver",
                    "Driver",
                    "Driver",
                    "Driver",
                    "Driver",
                    "Passenger",
                    "Driver",
                    "Passenger",
                    "Driver",
                    "Driver",
                    "Driver",
                    "Driver",
                    "Driver",
                    "Driver",
                    "Driver",
                    "Passenger",
                    "Pedestrian",
                    "Driver",
                    "Driver",
                    "Driver",
                    "Driver",
                    "Driver",
                    "Pedestrian",
                    "Driver",
                    "Driver",
                    "Driver",
                    "Passenger",
                    "Driver",
                    "Driver",
                    "Pedestrian",
                    "Driver",
                    "Driver",
                    "Pedestrian",
                    "Driver",
                    "Driver",
                    "Driver",
                    "Driver",
                    "Driver",
                    "Driver",
                    "Pedestrian",
                    "Driver",
                    "Driver",
                    "Passenger",
                    "Driver",
                    "Driver",
                    "Pedestrian",
                    "Driver",
                    "Driver",
                    "Driver",
                    "Driver",
                    "Passenger",
                    "Driver",
                    "Driver",
                    "Driver",
                    "Passenger",
                    "Driver",
                    "Driver",
                    "Driver",
                    "Passenger",
                    "Driver",
                    "Driver",
                    "Driver",
                    "Driver",
                    "Driver",
                    "Driver",
                    "Driver",
                    "Driver",
                    "Driver",
                    "Driver",
                    "Driver",
                    "Driver",
                    "Passenger",
                    "Driver",
                    "Driver",
                    "Driver",
                    "Driver",
                    "Passenger",
                    "Driver",
                    "Passenger",
                    "Driver",
                    "Driver",
                    "Driver",
                    "Driver",
                    "Driver",
                    "Driver",
                    "Driver",
                    "Driver",
                    "Passenger",
                    "Passenger",
                    "Pedestrian",
                    "Driver",
                    "Pedestrian",
                    "Driver",
                    "Driver",
                    "Driver",
                    "Passenger",
                    "Passenger",
                    "Driver",
                    "Driver",
                    "Driver",
                    "Driver",
                    "Driver",
                    "Driver",
                    "Driver",
                    "Driver",
                    "Driver",
                    "Driver",
                    "Driver",
                    "Pedestrian",
                    "Driver",
                    "Driver",
                    "Driver",
                    "Driver",
                    "Passenger",
                    "Driver",
                    "Driver",
                    "Driver",
                    "Pedestrian",
                    "Passenger",
                    "Passenger",
                    "Driver",
                    "Pedestrian",
                    "Driver",
                    "Pedestrian",
                    "Driver",
                    "Driver",
                    "Passenger",
                    "Driver",
                    "Driver",
                    "Driver",
                    "Driver",
                    "Driver",
                    "Driver",
                    "Driver",
                    "Driver",
                    "Driver",
                    "Driver",
                    "Driver",
                    "Driver",
                    "Passenger",
                    "Driver",
                    "Driver",
                    "Driver",
                    "Driver",
                    "Driver",
                    "Passenger",
                    "Driver",
                    "Passenger",
                    "Driver",
                    "Passenger",
                    "Passenger",
                    "Pedestrian",
                    "Passenger",
                    "Passenger",
                    "Driver",
                    "Passenger",
                    "Driver",
                    "Driver",
                    "Driver",
                    "Pedestrian",
                    "Driver",
                    "Driver",
                    "Driver",
                    "Pedestrian",
                    "Driver",
                    "Driver",
                    "Driver",
                    "Driver",
                    "Driver",
                    "Driver",
                    "Driver",
                    "Driver",
                    "Driver",
                    "Driver",
                    "Passenger",
                    "Passenger",
                    "Pedestrian",
                    "Driver",
                    "Driver",
                    "Driver",
                    "Driver",
                    "Driver",
                    "Driver",
                    "Pedestrian",
                    "Driver",
                    "Driver",
                    "Driver",
                    "Driver",
                    "Driver",
                    "Driver",
                    "Pedestrian",
                    "Passenger",
                    "Driver",
                    "Driver",
                    "Pedestrian",
                    "Driver",
                    "Driver",
                    "Driver",
                    "Driver",
                    "Driver",
                    "Driver",
                    "Driver",
                    "Pedestrian",
                    "Driver",
                    "Driver",
                    "Driver",
                    "Driver",
                    "Driver",
                    "Driver",
                    "Driver",
                    "Driver",
                    "Driver",
                    "Driver",
                    "Driver",
                    "Driver",
                    "Driver",
                    "Driver",
                    "Pedestrian",
                    "Driver",
                    "Passenger",
                    "Driver",
                    "Driver",
                    "Driver",
                    "Driver",
                    "Driver",
                    "Passenger",
                    "Passenger",
                    "Driver",
                    "Passenger",
                    "Driver",
                    "Driver",
                    "Driver",
                    "Passenger",
                    "Driver",
                    "Driver",
                    "Driver",
                    "Pedestrian",
                    "Driver",
                    "Pedestrian",
                    "Pedestrian",
                    "Driver",
                    "Driver",
                    "Driver",
                    "Driver",
                    "Driver",
                    "Driver",
                    "Driver",
                    "Driver",
                    "Passenger",
                    "Passenger",
                    "Pedestrian",
                    "Driver",
                    "Driver",
                    "Passenger",
                    "Driver",
                    "Driver",
                    "Driver",
                    "Driver",
                    "Driver",
                    "Passenger",
                    "Driver",
                    "Driver",
                    "Driver",
                    "Driver",
                    "Driver",
                    "Driver",
                    "Passenger",
                    "Driver",
                    "Driver",
                    "Driver",
                    "Passenger",
                    "Driver",
                    "Passenger",
                    "Driver",
                    "Pedestrian",
                    "Driver",
                    "Driver",
                    "Driver",
                    "Passenger",
                    "Driver",
                    "Driver",
                    "Pedestrian",
                    "Driver",
                    "Driver",
                    "Pedestrian",
                    "Driver",
                    "Driver",
                    "Driver",
                    "Driver",
                    "Passenger",
                    "Passenger",
                    "Driver",
                    "Pedestrian",
                    "Driver",
                    "Driver",
                    "Driver",
                    "Driver",
                    "Driver",
                    "Driver",
                    "Driver",
                    "Driver",
                    "Passenger",
                    "Driver",
                    "Driver",
                    "Driver",
                    "Driver",
                    "Driver",
                    "Pedestrian",
                    "Driver",
                    "Driver",
                    "Driver",
                    "Driver",
                    "Driver",
                    "Driver",
                    "Passenger",
                    "Pedestrian",
                    "Driver",
                    "Driver",
                    "Driver",
                    "Driver",
                    "Driver",
                    "Passenger",
                    "Driver",
                    "Driver",
                    "Driver",
                    "Driver",
                    "Driver",
                    "Pedestrian",
                    "Driver",
                    "Driver",
                    "Driver",
                    "Driver",
                    "Driver",
                    "Driver",
                    "Pedestrian",
                    "Driver",
                    "Driver",
                    "Driver",
                    "Driver",
                    "Pedestrian",
                    "Driver",
                    "Driver",
                    "Passenger",
                    "Passenger",
                    "Driver",
                    "Driver",
                    "Pedestrian",
                    "Pedestrian",
                    "Driver",
                    "Driver",
                    "Driver",
                    "Driver",
                    "Driver",
                    "Passenger",
                    "Passenger",
                    "Driver",
                    "Passenger",
                    "Driver",
                    "Driver",
                    "Driver",
                    "Driver",
                    "Driver",
                    "Passenger",
                    "Driver",
                    "Passenger",
                    "Passenger",
                    "Passenger",
                    "Driver",
                    "Passenger",
                    "Passenger",
                    "Driver",
                    "Driver",
                    "Driver",
                    "Driver",
                    "Passenger",
                    "Driver",
                    "Driver",
                    "Driver",
                    "Driver",
                    "Passenger",
                    "Driver",
                    "Passenger",
                    "Driver",
                    "Pedestrian",
                    "Driver",
                    "Driver",
                    "Driver",
                    "Driver",
                    "Passenger",
                    "Driver",
                    "Pedestrian",
                    "Driver",
                    "Driver",
                    "Driver",
                    "Driver",
                    "Passenger",
                    "Driver",
                    "Passenger",
                    "Driver",
                    "Passenger",
                    "Driver",
                    "Driver",
                    "Driver",
                    "Driver",
                    "Driver",
                    "Driver",
                    "Driver",
                    "Pedestrian",
                    "Driver",
                    "Passenger",
                    "Driver",
                    "Driver",
                    "Passenger",
                    "Driver",
                    "Driver",
                    "Passenger",
                    "Driver",
                    "Passenger",
                    "Driver",
                    "Driver",
                    "Driver",
                    "Driver",
                    "Driver",
                    "Driver",
                    "Driver",
                    "Driver",
                    "Driver",
                    "Driver",
                    "Pedestrian",
                    "Driver",
                    "Driver",
                    "Pedestrian",
                    "Driver",
                    "Driver",
                    "Passenger",
                    "Driver",
                    "Driver",
                    "Driver",
                    "Driver",
                    "Driver",
                    "Passenger",
                    "Driver",
                    "Driver",
                    "Driver",
                    "Driver",
                    "Passenger",
                    "Passenger",
                    "Driver",
                    "Driver",
                    "Driver",
                    "Passenger",
                    "Driver",
                    "Driver",
                    "Driver",
                    "Passenger",
                    "Pedestrian",
                    "Driver",
                    "Passenger",
                    "Driver",
                    "Passenger",
                    "Driver",
                    "Passenger",
                    "Driver",
                    "Passenger",
                    "Passenger",
                    "Driver",
                    "Driver",
                    "Driver",
                    "Driver",
                    "Driver",
                    "Passenger",
                    "Pedestrian",
                    "Pedestrian",
                    "Driver",
                    "Pedestrian",
                    "Driver",
                    "Driver",
                    "Passenger",
                    "Passenger",
                    "Passenger",
                    "Driver",
                    "Passenger",
                    "Driver",
                    "Driver",
                    "Passenger",
                    "Driver",
                    "Driver",
                    "Driver",
                    "Driver",
                    "Passenger",
                    "Driver",
                    "Driver",
                    "Passenger",
                    "Driver",
                    "Passenger",
                    "Driver",
                    "Driver",
                    "Passenger",
                    "Driver",
                    "Driver",
                    "Passenger",
                    "Passenger",
                    "Driver",
                    "Driver",
                    "Pedestrian",
                    "Driver",
                    "Passenger",
                    "Driver",
                    "Passenger",
                    "Pedestrian",
                    "Driver",
                    "Pedestrian",
                    "Driver",
                    "Passenger",
                    "Pedestrian",
                    "Driver",
                    "Driver",
                    "Driver",
                    "Driver",
                    "Driver",
                    "Driver",
                    "Driver",
                    "Pedestrian",
                    "Pedestrian",
                    "Driver",
                    "Driver",
                    "Driver",
                    "Driver",
                    "Pedestrian",
                    "Passenger",
                    "Driver",
                    "Pedestrian",
                    "Driver",
                    "Pedestrian",
                    "Driver",
                    "Driver",
                    "Passenger",
                    "Passenger",
                    "Passenger",
                    "Driver",
                    "Driver",
                    "Passenger",
                    "Driver",
                    "Driver",
                    "Driver",
                    "Driver",
                    "Passenger",
                    "Driver",
                    "Driver",
                    "Driver",
                    "Driver",
                    "Passenger",
                    "Driver",
                    "Passenger",
                    "Driver",
                    "Driver",
                    "Driver",
                    "Driver",
                    "Passenger",
                    "Pedestrian",
                    "Driver",
                    "Driver",
                    "Driver",
                    "Driver",
                    "Driver",
                    "Driver",
                    "Pedestrian",
                    "Pedestrian",
                    "Driver",
                    "Passenger",
                    "Driver",
                    "Passenger",
                    "Driver",
                    "Driver",
                    "Pedestrian",
                    "Pedestrian",
                    "Driver",
                    "Pedestrian",
                    "Passenger",
                    "Driver"
                  ],
                  "xaxis": "x",
                  "yaxis": "y"
                },
                {
                  "bingroup": "x",
                  "hovertemplate": "Casualty Severity=Slight<br>Sex of Casualty=Female<br>Casualty Class=%{x}<br>count=%{y}<extra></extra>",
                  "legendgroup": "Slight",
                  "marker": {
                    "color": "#636efa",
                    "pattern": {
                      "shape": ""
                    }
                  },
                  "name": "Slight",
                  "nbinsx": 20,
                  "orientation": "v",
                  "showlegend": false,
                  "type": "histogram",
                  "x": [
                    "Driver",
                    "Driver",
                    "Passenger",
                    "Driver",
                    "Passenger",
                    "Pedestrian",
                    "Passenger",
                    "Driver",
                    "Driver",
                    "Passenger",
                    "Driver",
                    "Driver",
                    "Passenger",
                    "Driver",
                    "Passenger",
                    "Driver",
                    "Passenger",
                    "Passenger",
                    "Passenger",
                    "Driver",
                    "Passenger",
                    "Driver",
                    "Driver",
                    "Passenger",
                    "Pedestrian",
                    "Driver",
                    "Passenger",
                    "Driver",
                    "Driver",
                    "Driver",
                    "Driver",
                    "Driver",
                    "Driver",
                    "Driver",
                    "Passenger",
                    "Driver",
                    "Passenger",
                    "Passenger",
                    "Driver",
                    "Driver",
                    "Passenger",
                    "Passenger",
                    "Passenger",
                    "Driver",
                    "Driver",
                    "Pedestrian",
                    "Driver",
                    "Driver",
                    "Passenger",
                    "Passenger",
                    "Passenger",
                    "Passenger",
                    "Driver",
                    "Passenger",
                    "Pedestrian",
                    "Passenger",
                    "Passenger",
                    "Driver",
                    "Passenger",
                    "Pedestrian",
                    "Passenger",
                    "Pedestrian",
                    "Driver",
                    "Passenger",
                    "Passenger",
                    "Driver",
                    "Passenger",
                    "Driver",
                    "Passenger",
                    "Passenger",
                    "Passenger",
                    "Passenger",
                    "Driver",
                    "Pedestrian",
                    "Passenger",
                    "Driver",
                    "Passenger",
                    "Pedestrian",
                    "Driver",
                    "Passenger",
                    "Driver",
                    "Driver",
                    "Passenger",
                    "Driver",
                    "Driver",
                    "Driver",
                    "Passenger",
                    "Passenger",
                    "Passenger",
                    "Passenger",
                    "Pedestrian",
                    "Passenger",
                    "Driver",
                    "Passenger",
                    "Passenger",
                    "Driver",
                    "Driver",
                    "Passenger",
                    "Passenger",
                    "Driver",
                    "Pedestrian",
                    "Passenger",
                    "Passenger",
                    "Driver",
                    "Driver",
                    "Driver",
                    "Driver",
                    "Driver",
                    "Driver",
                    "Driver",
                    "Passenger",
                    "Passenger",
                    "Driver",
                    "Driver",
                    "Driver",
                    "Driver",
                    "Passenger",
                    "Driver",
                    "Passenger",
                    "Passenger",
                    "Passenger",
                    "Passenger",
                    "Pedestrian",
                    "Driver",
                    "Passenger",
                    "Driver",
                    "Driver",
                    "Driver",
                    "Driver",
                    "Driver",
                    "Driver",
                    "Passenger",
                    "Driver",
                    "Passenger",
                    "Passenger",
                    "Driver",
                    "Passenger",
                    "Passenger",
                    "Driver",
                    "Driver",
                    "Passenger",
                    "Passenger",
                    "Driver",
                    "Pedestrian",
                    "Passenger",
                    "Passenger",
                    "Pedestrian",
                    "Driver",
                    "Driver",
                    "Passenger",
                    "Passenger",
                    "Passenger",
                    "Driver",
                    "Passenger",
                    "Driver",
                    "Driver",
                    "Driver",
                    "Passenger",
                    "Driver",
                    "Driver",
                    "Driver",
                    "Passenger",
                    "Pedestrian",
                    "Passenger",
                    "Driver",
                    "Passenger",
                    "Passenger",
                    "Driver",
                    "Driver",
                    "Driver",
                    "Pedestrian",
                    "Passenger",
                    "Driver",
                    "Driver",
                    "Driver",
                    "Passenger",
                    "Driver",
                    "Passenger",
                    "Driver",
                    "Driver",
                    "Driver",
                    "Driver",
                    "Passenger",
                    "Driver",
                    "Pedestrian",
                    "Passenger",
                    "Driver",
                    "Passenger",
                    "Passenger",
                    "Passenger",
                    "Passenger",
                    "Driver",
                    "Driver",
                    "Passenger",
                    "Driver",
                    "Driver",
                    "Driver",
                    "Passenger",
                    "Driver",
                    "Passenger",
                    "Passenger",
                    "Passenger",
                    "Driver",
                    "Driver",
                    "Passenger",
                    "Passenger",
                    "Passenger",
                    "Passenger",
                    "Driver",
                    "Passenger",
                    "Passenger",
                    "Passenger",
                    "Driver",
                    "Driver",
                    "Driver",
                    "Driver",
                    "Passenger",
                    "Driver",
                    "Passenger",
                    "Driver",
                    "Passenger",
                    "Passenger",
                    "Driver",
                    "Passenger",
                    "Passenger",
                    "Driver",
                    "Passenger",
                    "Passenger",
                    "Driver",
                    "Passenger",
                    "Driver",
                    "Pedestrian",
                    "Driver",
                    "Passenger",
                    "Driver",
                    "Driver",
                    "Driver",
                    "Driver",
                    "Driver",
                    "Driver",
                    "Passenger",
                    "Passenger",
                    "Driver",
                    "Passenger",
                    "Passenger",
                    "Pedestrian",
                    "Driver",
                    "Passenger",
                    "Driver",
                    "Driver",
                    "Pedestrian",
                    "Passenger",
                    "Passenger",
                    "Passenger",
                    "Driver",
                    "Driver",
                    "Passenger",
                    "Pedestrian",
                    "Driver",
                    "Pedestrian",
                    "Driver",
                    "Passenger",
                    "Passenger",
                    "Passenger",
                    "Driver",
                    "Passenger",
                    "Driver",
                    "Passenger",
                    "Driver",
                    "Passenger",
                    "Driver",
                    "Driver",
                    "Passenger",
                    "Passenger",
                    "Driver",
                    "Passenger",
                    "Driver",
                    "Pedestrian",
                    "Passenger",
                    "Driver",
                    "Passenger",
                    "Passenger",
                    "Passenger",
                    "Driver",
                    "Driver",
                    "Passenger",
                    "Passenger",
                    "Passenger",
                    "Driver",
                    "Driver",
                    "Driver",
                    "Driver",
                    "Driver",
                    "Passenger",
                    "Driver",
                    "Driver",
                    "Driver",
                    "Passenger",
                    "Driver",
                    "Driver",
                    "Pedestrian",
                    "Driver",
                    "Passenger",
                    "Driver",
                    "Passenger",
                    "Pedestrian",
                    "Driver",
                    "Passenger",
                    "Passenger",
                    "Driver",
                    "Passenger",
                    "Passenger",
                    "Driver",
                    "Driver",
                    "Passenger",
                    "Driver",
                    "Driver",
                    "Pedestrian",
                    "Driver",
                    "Driver",
                    "Driver",
                    "Driver",
                    "Passenger",
                    "Passenger",
                    "Driver",
                    "Driver",
                    "Driver",
                    "Driver",
                    "Driver",
                    "Driver",
                    "Passenger",
                    "Passenger",
                    "Pedestrian",
                    "Driver",
                    "Driver",
                    "Driver",
                    "Passenger",
                    "Pedestrian",
                    "Passenger",
                    "Passenger",
                    "Passenger",
                    "Passenger",
                    "Driver",
                    "Driver",
                    "Passenger",
                    "Driver",
                    "Passenger",
                    "Driver",
                    "Passenger",
                    "Driver",
                    "Driver",
                    "Pedestrian",
                    "Driver",
                    "Pedestrian",
                    "Driver",
                    "Driver",
                    "Pedestrian",
                    "Driver",
                    "Pedestrian",
                    "Driver",
                    "Passenger",
                    "Pedestrian",
                    "Driver",
                    "Passenger",
                    "Driver",
                    "Passenger",
                    "Driver",
                    "Driver",
                    "Driver",
                    "Driver",
                    "Driver",
                    "Passenger",
                    "Passenger",
                    "Driver",
                    "Driver",
                    "Passenger",
                    "Driver",
                    "Driver",
                    "Passenger",
                    "Driver",
                    "Passenger",
                    "Driver",
                    "Passenger",
                    "Passenger",
                    "Passenger",
                    "Driver",
                    "Passenger",
                    "Passenger",
                    "Driver",
                    "Driver",
                    "Driver",
                    "Driver",
                    "Passenger",
                    "Driver",
                    "Passenger",
                    "Driver",
                    "Passenger",
                    "Passenger",
                    "Pedestrian",
                    "Driver",
                    "Driver",
                    "Driver",
                    "Driver",
                    "Passenger",
                    "Passenger",
                    "Passenger",
                    "Driver",
                    "Driver",
                    "Driver",
                    "Driver",
                    "Passenger",
                    "Driver",
                    "Passenger",
                    "Driver",
                    "Passenger",
                    "Driver",
                    "Driver",
                    "Driver",
                    "Passenger",
                    "Driver",
                    "Driver",
                    "Driver",
                    "Driver",
                    "Passenger",
                    "Pedestrian",
                    "Driver",
                    "Driver",
                    "Driver",
                    "Driver",
                    "Driver",
                    "Pedestrian",
                    "Pedestrian",
                    "Driver",
                    "Driver",
                    "Driver",
                    "Driver",
                    "Passenger",
                    "Driver",
                    "Passenger",
                    "Pedestrian",
                    "Pedestrian",
                    "Passenger",
                    "Passenger",
                    "Passenger",
                    "Driver",
                    "Passenger",
                    "Passenger",
                    "Pedestrian",
                    "Driver",
                    "Driver",
                    "Passenger",
                    "Driver",
                    "Driver",
                    "Driver",
                    "Passenger",
                    "Driver",
                    "Driver",
                    "Passenger",
                    "Driver",
                    "Driver",
                    "Driver",
                    "Driver",
                    "Passenger",
                    "Driver",
                    "Passenger",
                    "Driver",
                    "Passenger",
                    "Pedestrian",
                    "Driver",
                    "Driver",
                    "Driver",
                    "Pedestrian",
                    "Driver",
                    "Passenger",
                    "Driver",
                    "Driver",
                    "Passenger",
                    "Passenger",
                    "Driver",
                    "Pedestrian",
                    "Driver",
                    "Driver",
                    "Passenger",
                    "Pedestrian",
                    "Driver",
                    "Passenger",
                    "Passenger",
                    "Passenger",
                    "Passenger",
                    "Driver",
                    "Pedestrian",
                    "Passenger",
                    "Passenger",
                    "Pedestrian",
                    "Driver",
                    "Driver",
                    "Driver",
                    "Driver",
                    "Passenger",
                    "Driver",
                    "Driver",
                    "Passenger",
                    "Driver",
                    "Passenger",
                    "Passenger",
                    "Passenger",
                    "Driver",
                    "Driver",
                    "Driver",
                    "Passenger",
                    "Driver",
                    "Driver",
                    "Driver",
                    "Driver",
                    "Driver",
                    "Driver",
                    "Driver",
                    "Passenger",
                    "Driver",
                    "Passenger",
                    "Passenger",
                    "Passenger",
                    "Passenger",
                    "Pedestrian",
                    "Passenger",
                    "Driver",
                    "Pedestrian",
                    "Driver",
                    "Passenger",
                    "Driver",
                    "Passenger",
                    "Driver",
                    "Passenger",
                    "Passenger",
                    "Driver",
                    "Driver",
                    "Driver",
                    "Pedestrian",
                    "Driver",
                    "Passenger",
                    "Passenger",
                    "Passenger",
                    "Driver",
                    "Passenger",
                    "Driver",
                    "Pedestrian",
                    "Driver",
                    "Driver",
                    "Pedestrian",
                    "Passenger",
                    "Driver",
                    "Driver",
                    "Driver",
                    "Passenger",
                    "Passenger",
                    "Passenger",
                    "Passenger",
                    "Driver",
                    "Driver",
                    "Pedestrian",
                    "Passenger",
                    "Passenger",
                    "Passenger",
                    "Driver",
                    "Driver",
                    "Driver",
                    "Passenger",
                    "Driver",
                    "Passenger",
                    "Driver",
                    "Passenger",
                    "Driver",
                    "Passenger",
                    "Driver",
                    "Passenger",
                    "Driver",
                    "Driver",
                    "Passenger",
                    "Driver",
                    "Driver",
                    "Driver",
                    "Passenger",
                    "Driver",
                    "Passenger",
                    "Passenger",
                    "Pedestrian",
                    "Driver",
                    "Passenger",
                    "Passenger",
                    "Driver",
                    "Passenger",
                    "Driver",
                    "Driver",
                    "Passenger",
                    "Passenger",
                    "Driver",
                    "Driver",
                    "Passenger",
                    "Passenger",
                    "Passenger",
                    "Passenger",
                    "Driver",
                    "Driver",
                    "Passenger",
                    "Passenger",
                    "Passenger",
                    "Driver",
                    "Driver",
                    "Passenger",
                    "Driver",
                    "Driver",
                    "Driver",
                    "Passenger",
                    "Passenger",
                    "Passenger",
                    "Pedestrian",
                    "Driver",
                    "Passenger",
                    "Passenger",
                    "Passenger",
                    "Passenger",
                    "Passenger",
                    "Passenger",
                    "Driver",
                    "Driver",
                    "Driver",
                    "Driver",
                    "Driver",
                    "Passenger",
                    "Passenger",
                    "Driver",
                    "Passenger",
                    "Passenger",
                    "Passenger",
                    "Driver",
                    "Driver",
                    "Driver",
                    "Passenger",
                    "Driver",
                    "Driver",
                    "Passenger",
                    "Passenger",
                    "Passenger",
                    "Driver",
                    "Pedestrian",
                    "Pedestrian",
                    "Driver",
                    "Passenger",
                    "Driver",
                    "Passenger",
                    "Passenger",
                    "Passenger",
                    "Passenger",
                    "Driver",
                    "Passenger",
                    "Driver",
                    "Driver",
                    "Passenger",
                    "Passenger",
                    "Pedestrian",
                    "Passenger",
                    "Driver",
                    "Passenger",
                    "Passenger",
                    "Driver",
                    "Passenger",
                    "Driver",
                    "Passenger",
                    "Driver",
                    "Passenger",
                    "Driver",
                    "Pedestrian",
                    "Driver",
                    "Driver",
                    "Passenger",
                    "Driver",
                    "Pedestrian",
                    "Passenger",
                    "Driver",
                    "Driver",
                    "Driver",
                    "Pedestrian",
                    "Passenger",
                    "Driver",
                    "Passenger",
                    "Driver",
                    "Driver",
                    "Passenger",
                    "Passenger",
                    "Driver",
                    "Passenger",
                    "Passenger",
                    "Passenger",
                    "Passenger",
                    "Passenger",
                    "Passenger",
                    "Pedestrian",
                    "Pedestrian",
                    "Driver",
                    "Driver",
                    "Passenger",
                    "Pedestrian",
                    "Driver",
                    "Driver",
                    "Driver",
                    "Driver",
                    "Driver",
                    "Passenger",
                    "Passenger",
                    "Passenger",
                    "Pedestrian",
                    "Driver",
                    "Driver",
                    "Passenger",
                    "Passenger",
                    "Passenger",
                    "Passenger",
                    "Driver",
                    "Passenger",
                    "Passenger",
                    "Passenger",
                    "Driver",
                    "Driver",
                    "Passenger",
                    "Passenger",
                    "Passenger",
                    "Driver",
                    "Pedestrian",
                    "Passenger",
                    "Pedestrian",
                    "Driver",
                    "Passenger",
                    "Driver",
                    "Driver",
                    "Pedestrian",
                    "Driver",
                    "Pedestrian",
                    "Passenger",
                    "Driver",
                    "Driver",
                    "Driver",
                    "Driver",
                    "Pedestrian",
                    "Passenger",
                    "Driver",
                    "Driver",
                    "Driver",
                    "Driver",
                    "Driver",
                    "Driver",
                    "Passenger",
                    "Passenger",
                    "Driver",
                    "Driver",
                    "Passenger",
                    "Pedestrian",
                    "Pedestrian",
                    "Driver",
                    "Driver",
                    "Driver",
                    "Driver",
                    "Passenger",
                    "Driver",
                    "Passenger",
                    "Passenger",
                    "Driver",
                    "Driver",
                    "Passenger",
                    "Driver",
                    "Driver",
                    "Pedestrian",
                    "Passenger",
                    "Driver",
                    "Pedestrian",
                    "Pedestrian",
                    "Pedestrian",
                    "Pedestrian",
                    "Passenger",
                    "Passenger",
                    "Passenger",
                    "Driver",
                    "Driver",
                    "Passenger",
                    "Driver",
                    "Driver",
                    "Driver",
                    "Driver",
                    "Driver",
                    "Driver",
                    "Driver",
                    "Pedestrian",
                    "Passenger",
                    "Driver",
                    "Passenger",
                    "Driver",
                    "Driver",
                    "Driver",
                    "Driver",
                    "Passenger",
                    "Driver",
                    "Driver",
                    "Passenger",
                    "Passenger",
                    "Driver",
                    "Driver",
                    "Passenger",
                    "Passenger",
                    "Passenger",
                    "Driver",
                    "Passenger",
                    "Pedestrian",
                    "Driver",
                    "Passenger",
                    "Driver",
                    "Pedestrian",
                    "Passenger",
                    "Passenger",
                    "Driver",
                    "Driver",
                    "Passenger",
                    "Passenger",
                    "Driver",
                    "Passenger",
                    "Passenger",
                    "Passenger",
                    "Passenger",
                    "Pedestrian",
                    "Driver",
                    "Pedestrian",
                    "Driver",
                    "Pedestrian",
                    "Passenger",
                    "Passenger",
                    "Passenger",
                    "Passenger",
                    "Driver",
                    "Driver",
                    "Driver",
                    "Pedestrian",
                    "Driver",
                    "Pedestrian",
                    "Passenger",
                    "Driver",
                    "Driver",
                    "Passenger",
                    "Driver",
                    "Driver",
                    "Pedestrian",
                    "Passenger",
                    "Passenger",
                    "Driver",
                    "Driver",
                    "Driver",
                    "Driver",
                    "Passenger",
                    "Driver",
                    "Pedestrian",
                    "Driver",
                    "Driver",
                    "Passenger",
                    "Passenger",
                    "Passenger",
                    "Passenger",
                    "Passenger",
                    "Passenger",
                    "Passenger",
                    "Driver",
                    "Passenger",
                    "Driver",
                    "Passenger",
                    "Passenger",
                    "Driver",
                    "Driver",
                    "Passenger",
                    "Pedestrian",
                    "Driver",
                    "Pedestrian",
                    "Driver",
                    "Passenger",
                    "Driver",
                    "Pedestrian",
                    "Driver",
                    "Driver",
                    "Pedestrian",
                    "Driver",
                    "Driver",
                    "Driver",
                    "Pedestrian",
                    "Driver",
                    "Pedestrian",
                    "Driver",
                    "Driver",
                    "Pedestrian",
                    "Driver",
                    "Passenger",
                    "Pedestrian",
                    "Passenger",
                    "Passenger",
                    "Passenger",
                    "Passenger",
                    "Passenger",
                    "Driver",
                    "Passenger",
                    "Passenger",
                    "Driver",
                    "Driver",
                    "Passenger",
                    "Passenger",
                    "Passenger",
                    "Pedestrian",
                    "Passenger",
                    "Driver",
                    "Passenger",
                    "Passenger",
                    "Passenger",
                    "Driver",
                    "Passenger",
                    "Passenger",
                    "Driver",
                    "Driver",
                    "Passenger",
                    "Passenger",
                    "Passenger",
                    "Passenger",
                    "Passenger",
                    "Driver",
                    "Pedestrian",
                    "Driver",
                    "Driver",
                    "Driver",
                    "Driver",
                    "Driver",
                    "Pedestrian",
                    "Driver",
                    "Pedestrian",
                    "Driver",
                    "Passenger",
                    "Passenger",
                    "Driver",
                    "Driver",
                    "Driver",
                    "Driver",
                    "Passenger",
                    "Driver",
                    "Passenger",
                    "Passenger",
                    "Passenger"
                  ],
                  "xaxis": "x2",
                  "yaxis": "y2"
                },
                {
                  "bingroup": "x",
                  "hovertemplate": "Casualty Severity=Serious<br>Sex of Casualty=Male<br>Casualty Class=%{x}<br>count=%{y}<extra></extra>",
                  "legendgroup": "Serious",
                  "marker": {
                    "color": "#EF553B",
                    "pattern": {
                      "shape": ""
                    }
                  },
                  "name": "Serious",
                  "nbinsx": 20,
                  "orientation": "v",
                  "showlegend": true,
                  "type": "histogram",
                  "x": [
                    "Pedestrian",
                    "Pedestrian",
                    "Driver",
                    "Driver",
                    "Pedestrian",
                    "Driver",
                    "Driver",
                    "Driver",
                    "Driver",
                    "Passenger",
                    "Driver",
                    "Driver",
                    "Passenger",
                    "Driver",
                    "Pedestrian",
                    "Pedestrian",
                    "Driver",
                    "Pedestrian",
                    "Pedestrian",
                    "Driver",
                    "Pedestrian",
                    "Driver",
                    "Driver",
                    "Driver",
                    "Driver",
                    "Pedestrian",
                    "Pedestrian",
                    "Driver",
                    "Driver",
                    "Driver",
                    "Pedestrian",
                    "Driver",
                    "Driver",
                    "Driver",
                    "Driver",
                    "Driver",
                    "Driver",
                    "Driver",
                    "Driver",
                    "Pedestrian",
                    "Driver",
                    "Pedestrian",
                    "Driver",
                    "Passenger",
                    "Driver",
                    "Driver",
                    "Driver",
                    "Passenger",
                    "Pedestrian",
                    "Driver",
                    "Driver",
                    "Pedestrian",
                    "Driver",
                    "Driver",
                    "Driver",
                    "Driver",
                    "Pedestrian",
                    "Driver",
                    "Driver",
                    "Driver",
                    "Driver",
                    "Passenger",
                    "Pedestrian",
                    "Driver",
                    "Driver",
                    "Driver",
                    "Driver",
                    "Driver",
                    "Pedestrian",
                    "Driver",
                    "Pedestrian",
                    "Driver",
                    "Driver",
                    "Driver",
                    "Driver",
                    "Driver",
                    "Driver",
                    "Driver",
                    "Driver",
                    "Driver",
                    "Driver",
                    "Pedestrian",
                    "Driver",
                    "Pedestrian",
                    "Driver",
                    "Driver",
                    "Driver",
                    "Driver",
                    "Driver",
                    "Driver",
                    "Driver",
                    "Driver",
                    "Driver",
                    "Driver",
                    "Driver",
                    "Driver",
                    "Driver",
                    "Driver",
                    "Driver",
                    "Passenger",
                    "Pedestrian",
                    "Driver",
                    "Driver",
                    "Driver",
                    "Driver",
                    "Driver",
                    "Driver",
                    "Driver",
                    "Driver",
                    "Driver",
                    "Driver",
                    "Driver",
                    "Driver",
                    "Driver",
                    "Pedestrian",
                    "Pedestrian",
                    "Pedestrian",
                    "Driver",
                    "Driver",
                    "Driver",
                    "Driver",
                    "Driver",
                    "Pedestrian",
                    "Driver",
                    "Driver",
                    "Driver",
                    "Driver",
                    "Driver",
                    "Driver",
                    "Driver",
                    "Driver",
                    "Driver",
                    "Pedestrian",
                    "Driver",
                    "Driver",
                    "Driver",
                    "Driver",
                    "Driver",
                    "Driver",
                    "Pedestrian",
                    "Driver",
                    "Driver",
                    "Driver",
                    "Driver",
                    "Driver",
                    "Driver",
                    "Pedestrian",
                    "Driver",
                    "Pedestrian",
                    "Driver",
                    "Passenger",
                    "Pedestrian",
                    "Pedestrian",
                    "Driver",
                    "Driver",
                    "Pedestrian",
                    "Driver",
                    "Driver",
                    "Driver",
                    "Pedestrian",
                    "Pedestrian",
                    "Driver",
                    "Driver",
                    "Driver",
                    "Pedestrian",
                    "Pedestrian",
                    "Driver",
                    "Driver",
                    "Pedestrian",
                    "Driver",
                    "Driver",
                    "Driver",
                    "Driver",
                    "Pedestrian"
                  ],
                  "xaxis": "x",
                  "yaxis": "y"
                },
                {
                  "bingroup": "x",
                  "hovertemplate": "Casualty Severity=Serious<br>Sex of Casualty=Female<br>Casualty Class=%{x}<br>count=%{y}<extra></extra>",
                  "legendgroup": "Serious",
                  "marker": {
                    "color": "#EF553B",
                    "pattern": {
                      "shape": ""
                    }
                  },
                  "name": "Serious",
                  "nbinsx": 20,
                  "orientation": "v",
                  "showlegend": false,
                  "type": "histogram",
                  "x": [
                    "Pedestrian",
                    "Pedestrian",
                    "Pedestrian",
                    "Driver",
                    "Pedestrian",
                    "Driver",
                    "Pedestrian",
                    "Pedestrian",
                    "Pedestrian",
                    "Passenger",
                    "Driver",
                    "Passenger",
                    "Driver",
                    "Pedestrian",
                    "Pedestrian",
                    "Passenger",
                    "Pedestrian",
                    "Driver",
                    "Passenger",
                    "Driver",
                    "Pedestrian",
                    "Driver",
                    "Driver",
                    "Driver",
                    "Driver",
                    "Pedestrian",
                    "Driver",
                    "Passenger",
                    "Pedestrian",
                    "Pedestrian",
                    "Driver",
                    "Passenger",
                    "Driver",
                    "Passenger",
                    "Passenger",
                    "Passenger",
                    "Passenger",
                    "Passenger",
                    "Driver",
                    "Passenger",
                    "Driver",
                    "Pedestrian",
                    "Pedestrian",
                    "Pedestrian",
                    "Pedestrian",
                    "Pedestrian",
                    "Driver",
                    "Driver",
                    "Driver",
                    "Pedestrian",
                    "Passenger",
                    "Driver",
                    "Pedestrian",
                    "Driver",
                    "Passenger",
                    "Passenger",
                    "Driver",
                    "Passenger",
                    "Passenger",
                    "Passenger",
                    "Passenger",
                    "Driver",
                    "Driver",
                    "Driver",
                    "Pedestrian",
                    "Driver",
                    "Passenger",
                    "Driver",
                    "Passenger",
                    "Driver",
                    "Pedestrian",
                    "Passenger",
                    "Driver",
                    "Driver",
                    "Pedestrian",
                    "Pedestrian",
                    "Pedestrian",
                    "Pedestrian",
                    "Pedestrian",
                    "Driver",
                    "Pedestrian",
                    "Driver",
                    "Pedestrian",
                    "Pedestrian",
                    "Pedestrian",
                    "Driver",
                    "Driver",
                    "Pedestrian",
                    "Pedestrian",
                    "Driver",
                    "Pedestrian",
                    "Driver"
                  ],
                  "xaxis": "x2",
                  "yaxis": "y2"
                },
                {
                  "bingroup": "x",
                  "hovertemplate": "Casualty Severity=Fatal<br>Sex of Casualty=Male<br>Casualty Class=%{x}<br>count=%{y}<extra></extra>",
                  "legendgroup": "Fatal",
                  "marker": {
                    "color": "#00cc96",
                    "pattern": {
                      "shape": ""
                    }
                  },
                  "name": "Fatal",
                  "nbinsx": 20,
                  "orientation": "v",
                  "showlegend": true,
                  "type": "histogram",
                  "x": [
                    "Passenger",
                    "Driver",
                    "Pedestrian",
                    "Driver",
                    "Driver",
                    "Passenger",
                    "Passenger",
                    "Driver",
                    "Driver",
                    "Driver",
                    "Driver",
                    "Driver",
                    "Driver",
                    "Pedestrian",
                    "Pedestrian",
                    "Pedestrian"
                  ],
                  "xaxis": "x",
                  "yaxis": "y"
                },
                {
                  "bingroup": "x",
                  "hovertemplate": "Casualty Severity=Fatal<br>Sex of Casualty=Female<br>Casualty Class=%{x}<br>count=%{y}<extra></extra>",
                  "legendgroup": "Fatal",
                  "marker": {
                    "color": "#00cc96",
                    "pattern": {
                      "shape": ""
                    }
                  },
                  "name": "Fatal",
                  "nbinsx": 20,
                  "orientation": "v",
                  "showlegend": false,
                  "type": "histogram",
                  "x": [
                    "Passenger",
                    "Passenger",
                    "Pedestrian",
                    "Pedestrian",
                    "Driver",
                    "Passenger",
                    "Passenger",
                    "Pedestrian",
                    "Pedestrian"
                  ],
                  "xaxis": "x2",
                  "yaxis": "y2"
                }
              ],
              "layout": {
                "annotations": [
                  {
                    "font": {},
                    "showarrow": false,
                    "text": "Sex of Casualty=Male",
                    "x": 0.245,
                    "xanchor": "center",
                    "xref": "paper",
                    "y": 1,
                    "yanchor": "bottom",
                    "yref": "paper"
                  },
                  {
                    "font": {},
                    "showarrow": false,
                    "text": "Sex of Casualty=Female",
                    "x": 0.755,
                    "xanchor": "center",
                    "xref": "paper",
                    "y": 1,
                    "yanchor": "bottom",
                    "yref": "paper"
                  }
                ],
                "bargap": 0.2,
                "barmode": "relative",
                "legend": {
                  "title": {
                    "text": "Casualty Severity"
                  },
                  "tracegroupgap": 0
                },
                "template": {
                  "data": {
                    "bar": [
                      {
                        "error_x": {
                          "color": "#2a3f5f"
                        },
                        "error_y": {
                          "color": "#2a3f5f"
                        },
                        "marker": {
                          "line": {
                            "color": "#E5ECF6",
                            "width": 0.5
                          },
                          "pattern": {
                            "fillmode": "overlay",
                            "size": 10,
                            "solidity": 0.2
                          }
                        },
                        "type": "bar"
                      }
                    ],
                    "barpolar": [
                      {
                        "marker": {
                          "line": {
                            "color": "#E5ECF6",
                            "width": 0.5
                          },
                          "pattern": {
                            "fillmode": "overlay",
                            "size": 10,
                            "solidity": 0.2
                          }
                        },
                        "type": "barpolar"
                      }
                    ],
                    "carpet": [
                      {
                        "aaxis": {
                          "endlinecolor": "#2a3f5f",
                          "gridcolor": "white",
                          "linecolor": "white",
                          "minorgridcolor": "white",
                          "startlinecolor": "#2a3f5f"
                        },
                        "baxis": {
                          "endlinecolor": "#2a3f5f",
                          "gridcolor": "white",
                          "linecolor": "white",
                          "minorgridcolor": "white",
                          "startlinecolor": "#2a3f5f"
                        },
                        "type": "carpet"
                      }
                    ],
                    "choropleth": [
                      {
                        "colorbar": {
                          "outlinewidth": 0,
                          "ticks": ""
                        },
                        "type": "choropleth"
                      }
                    ],
                    "contour": [
                      {
                        "colorbar": {
                          "outlinewidth": 0,
                          "ticks": ""
                        },
                        "colorscale": [
                          [
                            0,
                            "#0d0887"
                          ],
                          [
                            0.1111111111111111,
                            "#46039f"
                          ],
                          [
                            0.2222222222222222,
                            "#7201a8"
                          ],
                          [
                            0.3333333333333333,
                            "#9c179e"
                          ],
                          [
                            0.4444444444444444,
                            "#bd3786"
                          ],
                          [
                            0.5555555555555556,
                            "#d8576b"
                          ],
                          [
                            0.6666666666666666,
                            "#ed7953"
                          ],
                          [
                            0.7777777777777778,
                            "#fb9f3a"
                          ],
                          [
                            0.8888888888888888,
                            "#fdca26"
                          ],
                          [
                            1,
                            "#f0f921"
                          ]
                        ],
                        "type": "contour"
                      }
                    ],
                    "contourcarpet": [
                      {
                        "colorbar": {
                          "outlinewidth": 0,
                          "ticks": ""
                        },
                        "type": "contourcarpet"
                      }
                    ],
                    "heatmap": [
                      {
                        "colorbar": {
                          "outlinewidth": 0,
                          "ticks": ""
                        },
                        "colorscale": [
                          [
                            0,
                            "#0d0887"
                          ],
                          [
                            0.1111111111111111,
                            "#46039f"
                          ],
                          [
                            0.2222222222222222,
                            "#7201a8"
                          ],
                          [
                            0.3333333333333333,
                            "#9c179e"
                          ],
                          [
                            0.4444444444444444,
                            "#bd3786"
                          ],
                          [
                            0.5555555555555556,
                            "#d8576b"
                          ],
                          [
                            0.6666666666666666,
                            "#ed7953"
                          ],
                          [
                            0.7777777777777778,
                            "#fb9f3a"
                          ],
                          [
                            0.8888888888888888,
                            "#fdca26"
                          ],
                          [
                            1,
                            "#f0f921"
                          ]
                        ],
                        "type": "heatmap"
                      }
                    ],
                    "histogram": [
                      {
                        "marker": {
                          "pattern": {
                            "fillmode": "overlay",
                            "size": 10,
                            "solidity": 0.2
                          }
                        },
                        "type": "histogram"
                      }
                    ],
                    "histogram2d": [
                      {
                        "colorbar": {
                          "outlinewidth": 0,
                          "ticks": ""
                        },
                        "colorscale": [
                          [
                            0,
                            "#0d0887"
                          ],
                          [
                            0.1111111111111111,
                            "#46039f"
                          ],
                          [
                            0.2222222222222222,
                            "#7201a8"
                          ],
                          [
                            0.3333333333333333,
                            "#9c179e"
                          ],
                          [
                            0.4444444444444444,
                            "#bd3786"
                          ],
                          [
                            0.5555555555555556,
                            "#d8576b"
                          ],
                          [
                            0.6666666666666666,
                            "#ed7953"
                          ],
                          [
                            0.7777777777777778,
                            "#fb9f3a"
                          ],
                          [
                            0.8888888888888888,
                            "#fdca26"
                          ],
                          [
                            1,
                            "#f0f921"
                          ]
                        ],
                        "type": "histogram2d"
                      }
                    ],
                    "histogram2dcontour": [
                      {
                        "colorbar": {
                          "outlinewidth": 0,
                          "ticks": ""
                        },
                        "colorscale": [
                          [
                            0,
                            "#0d0887"
                          ],
                          [
                            0.1111111111111111,
                            "#46039f"
                          ],
                          [
                            0.2222222222222222,
                            "#7201a8"
                          ],
                          [
                            0.3333333333333333,
                            "#9c179e"
                          ],
                          [
                            0.4444444444444444,
                            "#bd3786"
                          ],
                          [
                            0.5555555555555556,
                            "#d8576b"
                          ],
                          [
                            0.6666666666666666,
                            "#ed7953"
                          ],
                          [
                            0.7777777777777778,
                            "#fb9f3a"
                          ],
                          [
                            0.8888888888888888,
                            "#fdca26"
                          ],
                          [
                            1,
                            "#f0f921"
                          ]
                        ],
                        "type": "histogram2dcontour"
                      }
                    ],
                    "mesh3d": [
                      {
                        "colorbar": {
                          "outlinewidth": 0,
                          "ticks": ""
                        },
                        "type": "mesh3d"
                      }
                    ],
                    "parcoords": [
                      {
                        "line": {
                          "colorbar": {
                            "outlinewidth": 0,
                            "ticks": ""
                          }
                        },
                        "type": "parcoords"
                      }
                    ],
                    "pie": [
                      {
                        "automargin": true,
                        "type": "pie"
                      }
                    ],
                    "scatter": [
                      {
                        "fillpattern": {
                          "fillmode": "overlay",
                          "size": 10,
                          "solidity": 0.2
                        },
                        "type": "scatter"
                      }
                    ],
                    "scatter3d": [
                      {
                        "line": {
                          "colorbar": {
                            "outlinewidth": 0,
                            "ticks": ""
                          }
                        },
                        "marker": {
                          "colorbar": {
                            "outlinewidth": 0,
                            "ticks": ""
                          }
                        },
                        "type": "scatter3d"
                      }
                    ],
                    "scattercarpet": [
                      {
                        "marker": {
                          "colorbar": {
                            "outlinewidth": 0,
                            "ticks": ""
                          }
                        },
                        "type": "scattercarpet"
                      }
                    ],
                    "scattergeo": [
                      {
                        "marker": {
                          "colorbar": {
                            "outlinewidth": 0,
                            "ticks": ""
                          }
                        },
                        "type": "scattergeo"
                      }
                    ],
                    "scattergl": [
                      {
                        "marker": {
                          "colorbar": {
                            "outlinewidth": 0,
                            "ticks": ""
                          }
                        },
                        "type": "scattergl"
                      }
                    ],
                    "scattermap": [
                      {
                        "marker": {
                          "colorbar": {
                            "outlinewidth": 0,
                            "ticks": ""
                          }
                        },
                        "type": "scattermap"
                      }
                    ],
                    "scattermapbox": [
                      {
                        "marker": {
                          "colorbar": {
                            "outlinewidth": 0,
                            "ticks": ""
                          }
                        },
                        "type": "scattermapbox"
                      }
                    ],
                    "scatterpolar": [
                      {
                        "marker": {
                          "colorbar": {
                            "outlinewidth": 0,
                            "ticks": ""
                          }
                        },
                        "type": "scatterpolar"
                      }
                    ],
                    "scatterpolargl": [
                      {
                        "marker": {
                          "colorbar": {
                            "outlinewidth": 0,
                            "ticks": ""
                          }
                        },
                        "type": "scatterpolargl"
                      }
                    ],
                    "scatterternary": [
                      {
                        "marker": {
                          "colorbar": {
                            "outlinewidth": 0,
                            "ticks": ""
                          }
                        },
                        "type": "scatterternary"
                      }
                    ],
                    "surface": [
                      {
                        "colorbar": {
                          "outlinewidth": 0,
                          "ticks": ""
                        },
                        "colorscale": [
                          [
                            0,
                            "#0d0887"
                          ],
                          [
                            0.1111111111111111,
                            "#46039f"
                          ],
                          [
                            0.2222222222222222,
                            "#7201a8"
                          ],
                          [
                            0.3333333333333333,
                            "#9c179e"
                          ],
                          [
                            0.4444444444444444,
                            "#bd3786"
                          ],
                          [
                            0.5555555555555556,
                            "#d8576b"
                          ],
                          [
                            0.6666666666666666,
                            "#ed7953"
                          ],
                          [
                            0.7777777777777778,
                            "#fb9f3a"
                          ],
                          [
                            0.8888888888888888,
                            "#fdca26"
                          ],
                          [
                            1,
                            "#f0f921"
                          ]
                        ],
                        "type": "surface"
                      }
                    ],
                    "table": [
                      {
                        "cells": {
                          "fill": {
                            "color": "#EBF0F8"
                          },
                          "line": {
                            "color": "white"
                          }
                        },
                        "header": {
                          "fill": {
                            "color": "#C8D4E3"
                          },
                          "line": {
                            "color": "white"
                          }
                        },
                        "type": "table"
                      }
                    ]
                  },
                  "layout": {
                    "annotationdefaults": {
                      "arrowcolor": "#2a3f5f",
                      "arrowhead": 0,
                      "arrowwidth": 1
                    },
                    "autotypenumbers": "strict",
                    "coloraxis": {
                      "colorbar": {
                        "outlinewidth": 0,
                        "ticks": ""
                      }
                    },
                    "colorscale": {
                      "diverging": [
                        [
                          0,
                          "#8e0152"
                        ],
                        [
                          0.1,
                          "#c51b7d"
                        ],
                        [
                          0.2,
                          "#de77ae"
                        ],
                        [
                          0.3,
                          "#f1b6da"
                        ],
                        [
                          0.4,
                          "#fde0ef"
                        ],
                        [
                          0.5,
                          "#f7f7f7"
                        ],
                        [
                          0.6,
                          "#e6f5d0"
                        ],
                        [
                          0.7,
                          "#b8e186"
                        ],
                        [
                          0.8,
                          "#7fbc41"
                        ],
                        [
                          0.9,
                          "#4d9221"
                        ],
                        [
                          1,
                          "#276419"
                        ]
                      ],
                      "sequential": [
                        [
                          0,
                          "#0d0887"
                        ],
                        [
                          0.1111111111111111,
                          "#46039f"
                        ],
                        [
                          0.2222222222222222,
                          "#7201a8"
                        ],
                        [
                          0.3333333333333333,
                          "#9c179e"
                        ],
                        [
                          0.4444444444444444,
                          "#bd3786"
                        ],
                        [
                          0.5555555555555556,
                          "#d8576b"
                        ],
                        [
                          0.6666666666666666,
                          "#ed7953"
                        ],
                        [
                          0.7777777777777778,
                          "#fb9f3a"
                        ],
                        [
                          0.8888888888888888,
                          "#fdca26"
                        ],
                        [
                          1,
                          "#f0f921"
                        ]
                      ],
                      "sequentialminus": [
                        [
                          0,
                          "#0d0887"
                        ],
                        [
                          0.1111111111111111,
                          "#46039f"
                        ],
                        [
                          0.2222222222222222,
                          "#7201a8"
                        ],
                        [
                          0.3333333333333333,
                          "#9c179e"
                        ],
                        [
                          0.4444444444444444,
                          "#bd3786"
                        ],
                        [
                          0.5555555555555556,
                          "#d8576b"
                        ],
                        [
                          0.6666666666666666,
                          "#ed7953"
                        ],
                        [
                          0.7777777777777778,
                          "#fb9f3a"
                        ],
                        [
                          0.8888888888888888,
                          "#fdca26"
                        ],
                        [
                          1,
                          "#f0f921"
                        ]
                      ]
                    },
                    "colorway": [
                      "#636efa",
                      "#EF553B",
                      "#00cc96",
                      "#ab63fa",
                      "#FFA15A",
                      "#19d3f3",
                      "#FF6692",
                      "#B6E880",
                      "#FF97FF",
                      "#FECB52"
                    ],
                    "font": {
                      "color": "#2a3f5f"
                    },
                    "geo": {
                      "bgcolor": "white",
                      "lakecolor": "white",
                      "landcolor": "#E5ECF6",
                      "showlakes": true,
                      "showland": true,
                      "subunitcolor": "white"
                    },
                    "hoverlabel": {
                      "align": "left"
                    },
                    "hovermode": "closest",
                    "mapbox": {
                      "style": "light"
                    },
                    "paper_bgcolor": "white",
                    "plot_bgcolor": "#E5ECF6",
                    "polar": {
                      "angularaxis": {
                        "gridcolor": "white",
                        "linecolor": "white",
                        "ticks": ""
                      },
                      "bgcolor": "#E5ECF6",
                      "radialaxis": {
                        "gridcolor": "white",
                        "linecolor": "white",
                        "ticks": ""
                      }
                    },
                    "scene": {
                      "xaxis": {
                        "backgroundcolor": "#E5ECF6",
                        "gridcolor": "white",
                        "gridwidth": 2,
                        "linecolor": "white",
                        "showbackground": true,
                        "ticks": "",
                        "zerolinecolor": "white"
                      },
                      "yaxis": {
                        "backgroundcolor": "#E5ECF6",
                        "gridcolor": "white",
                        "gridwidth": 2,
                        "linecolor": "white",
                        "showbackground": true,
                        "ticks": "",
                        "zerolinecolor": "white"
                      },
                      "zaxis": {
                        "backgroundcolor": "#E5ECF6",
                        "gridcolor": "white",
                        "gridwidth": 2,
                        "linecolor": "white",
                        "showbackground": true,
                        "ticks": "",
                        "zerolinecolor": "white"
                      }
                    },
                    "shapedefaults": {
                      "line": {
                        "color": "#2a3f5f"
                      }
                    },
                    "ternary": {
                      "aaxis": {
                        "gridcolor": "white",
                        "linecolor": "white",
                        "ticks": ""
                      },
                      "baxis": {
                        "gridcolor": "white",
                        "linecolor": "white",
                        "ticks": ""
                      },
                      "bgcolor": "#E5ECF6",
                      "caxis": {
                        "gridcolor": "white",
                        "linecolor": "white",
                        "ticks": ""
                      }
                    },
                    "title": {
                      "x": 0.05
                    },
                    "xaxis": {
                      "automargin": true,
                      "gridcolor": "white",
                      "linecolor": "white",
                      "ticks": "",
                      "title": {
                        "standoff": 15
                      },
                      "zerolinecolor": "white",
                      "zerolinewidth": 2
                    },
                    "yaxis": {
                      "automargin": true,
                      "gridcolor": "white",
                      "linecolor": "white",
                      "ticks": "",
                      "title": {
                        "standoff": 15
                      },
                      "zerolinecolor": "white",
                      "zerolinewidth": 2
                    }
                  }
                },
                "title": {
                  "text": "Class Vs Severity"
                },
                "xaxis": {
                  "anchor": "y",
                  "domain": [
                    0,
                    0.49
                  ],
                  "title": {
                    "text": "Passengers class"
                  }
                },
                "xaxis2": {
                  "anchor": "y2",
                  "domain": [
                    0.51,
                    1
                  ],
                  "matches": "x",
                  "title": {
                    "text": "Casualty Class"
                  }
                },
                "yaxis": {
                  "anchor": "x",
                  "domain": [
                    0,
                    1
                  ],
                  "title": {
                    "text": "Count"
                  }
                },
                "yaxis2": {
                  "anchor": "x2",
                  "domain": [
                    0,
                    1
                  ],
                  "matches": "y",
                  "showticklabels": false
                }
              }
            }
          },
          "metadata": {},
          "output_type": "display_data"
        }
      ],
      "source": [
        "\n",
        "fig = px.histogram(df, x='Casualty Class', nbins=20,\n",
        "                   color='Casualty Severity', title='Class Vs Severity',\n",
        "                   facet_col='Sex of Casualty')\n",
        "fig.update_layout(\n",
        "    xaxis_title='Passengers class',\n",
        "    yaxis_title='Count',\n",
        "    bargap=0.2\n",
        ")\n",
        "fig.show()"
      ]
    },
    {
      "cell_type": "code",
      "execution_count": 20,
      "metadata": {
        "colab": {
          "base_uri": "https://localhost:8080/"
        },
        "id": "oRdsO6YAK313",
        "outputId": "a86f85f6-df1b-4fcf-b052-c2ef26ae8aa5"
      },
      "outputs": [
        {
          "data": {
            "text/plain": [
              "Index(['Reference Number', 'Easting', 'Northing', 'Number of Vehicles',\n",
              "       'Accident Date', 'Time (24hr)', '1st Road Class', 'Road Surface',\n",
              "       'Lighting Conditions', 'Weather Conditions', 'Casualty Class',\n",
              "       'Casualty Severity', 'Sex of Casualty', 'Age of Casualty',\n",
              "       'Type of Vehicle', 'age_group'],\n",
              "      dtype='object')"
            ]
          },
          "execution_count": 20,
          "metadata": {},
          "output_type": "execute_result"
        }
      ],
      "source": [
        "df.columns"
      ]
    },
    {
      "cell_type": "code",
      "execution_count": 21,
      "metadata": {
        "colab": {
          "base_uri": "https://localhost:8080/",
          "height": 0
        },
        "id": "BNAPEfsbK9eC",
        "outputId": "5feca3bf-b739-485e-962c-73dc34e1ee13"
      },
      "outputs": [
        {
          "data": {
            "text/plain": [
              "Sex of Casualty\n",
              "Male      1538\n",
              "Female    1048\n",
              "Name: count, dtype: int64"
            ]
          },
          "execution_count": 21,
          "metadata": {},
          "output_type": "execute_result"
        }
      ],
      "source": [
        "df['Sex of Casualty'].value_counts()"
      ]
    },
    {
      "cell_type": "markdown",
      "metadata": {
        "id": "HKBDhmaMeTPs"
      },
      "source": [
        "Males are most probalby to be the driver, driver accidets is the most frequent accidents.\n",
        "Males are prone to face severt acciednets th"
      ]
    },
    {
      "cell_type": "code",
      "execution_count": null,
      "metadata": {
        "id": "mSmkdVagC0Mw"
      },
      "outputs": [],
      "source": []
    },
    {
      "cell_type": "code",
      "execution_count": null,
      "metadata": {
        "id": "J036iO7fC7Es"
      },
      "outputs": [],
      "source": []
    },
    {
      "cell_type": "markdown",
      "metadata": {
        "id": "7QXRRZvy-qhZ"
      },
      "source": [
        "## Feature Engineering"
      ]
    },
    {
      "cell_type": "code",
      "execution_count": 22,
      "metadata": {
        "colab": {
          "base_uri": "https://localhost:8080/",
          "height": 586
        },
        "id": "Bp5z2wMsZV8J",
        "outputId": "2a8567fd-3fd5-4302-a35c-346293150462"
      },
      "outputs": [
        {
          "data": {
            "text/plain": [
              "Type of Vehicle\n",
              "Car                                                       1783\n",
              "Pedal cycle                                                255\n",
              "Bus or coach (17 or more passenger seats)                  169\n",
              "Taxi/Private hire car                                       82\n",
              "Goods vehicle 3.5 tonnes mgw and under                      73\n",
              "Motorcycle over 50cc and up to 125cc                        71\n",
              "Motorcycle over 500cc                                       60\n",
              "M/cycle 50cc and under                                      28\n",
              "Motorcycle over 125cc and up to 500cc                       20\n",
              "Minibus (8 – 16 passenger seats)                            12\n",
              "Other Vehicle                                               11\n",
              "Goods vehicle 7.5 tonnes mgw and over                       11\n",
              "Goods vehicle over 3.5 tonnes and under 7.5 tonnes mgw       8\n",
              "Ridden horse                                                 2\n",
              "Agricultural vehicle (includes diggers etc.)                 1\n",
              "Name: count, dtype: int64"
            ]
          },
          "execution_count": 22,
          "metadata": {},
          "output_type": "execute_result"
        }
      ],
      "source": [
        "df['Type of Vehicle'].value_counts()"
      ]
    },
    {
      "cell_type": "code",
      "execution_count": 23,
      "metadata": {
        "colab": {
          "base_uri": "https://localhost:8080/",
          "height": 241
        },
        "id": "Vp1fHHcj-uFs",
        "outputId": "c438d7a8-9b1a-473d-dac9-a210875d59a3"
      },
      "outputs": [
        {
          "data": {
            "text/plain": [
              "vehicle_group\n",
              "Car                      1865\n",
              "Two-Wheeled Vehicle       434\n",
              "Public Transportation     181\n",
              "Other Vehicle             106\n",
              "Name: count, dtype: int64"
            ]
          },
          "execution_count": 23,
          "metadata": {},
          "output_type": "execute_result"
        }
      ],
      "source": [
        "# re-categorise vehicles according to similar types\n",
        "vehicle_group_mapping = {\n",
        "    'Car': 'Car',\n",
        "    'Taxi/Private hire car': 'Car',\n",
        "    'Pedal cycle': 'Two-Wheeled Vehicle',\n",
        "    'Motorcycle over 50cc and up to 125cc': 'Two-Wheeled Vehicle',\n",
        "    'Motorcycle over 500cc': 'Two-Wheeled Vehicle',\n",
        "    'M/cycle 50cc and under': 'Two-Wheeled Vehicle',\n",
        "    'Motorcycle over 125cc and up to 500cc': 'Two-Wheeled Vehicle',\n",
        "    'Bus or coach (17 or more passenger seats)': 'Public Transportation',\n",
        "    'Minibus (8 – 16 passenger seats)': 'Public Transportation',\n",
        "    'Goods vehicle 3.5 tonnes mgw and under': 'Other Vehicle',\n",
        "    'Goods vehicle 7.5 tonnes mgw and over': 'Other Vehicle',\n",
        "    'Goods vehicle over 3.5 tonnes and under 7.5 tonnes mgw': 'Other Vehicle',\n",
        "    'Other Vehicle': 'Other Vehicle',\n",
        "    'Ridden horse': 'Other Vehicle',\n",
        "    'Agricultural vehicle (includes diggers etc.)': 'Other Vehicle'\n",
        "}\n",
        "\n",
        "df['vehicle_group'] = df['Type of Vehicle'].map(vehicle_group_mapping)\n",
        "df['vehicle_group'].value_counts()"
      ]
    },
    {
      "cell_type": "markdown",
      "metadata": {
        "id": "1d1-RCHjd0Um"
      },
      "source": [
        "We now have 4 categories"
      ]
    },
    {
      "cell_type": "code",
      "execution_count": 24,
      "metadata": {
        "id": "gjtKw4_Lt1hN"
      },
      "outputs": [],
      "source": [
        "# label encode the data\n",
        "# separate numerical and nominal data\n",
        "nominal_cols = df.select_dtypes(include=['object', 'category']).columns\n",
        "# apply Label Encoding to nominal data\n",
        "label_encoders = {}\n",
        "for col in nominal_cols:\n",
        "    le = LabelEncoder()\n",
        "    df[col] = le.fit_transform(df[col].astype(str))\n",
        "    label_encoders[col] = le"
      ]
    },
    {
      "cell_type": "code",
      "execution_count": 25,
      "metadata": {
        "id": "aS_trg1N1vsG"
      },
      "outputs": [],
      "source": [
        "# we will drop the Reference Number,Eastingm Accident Date, and Northing columns\n",
        "df.drop([\"Reference Number\",\"Easting\",\"Northing\",\"Accident Date\"], axis=1,inplace=True)"
      ]
    },
    {
      "cell_type": "code",
      "execution_count": 26,
      "metadata": {
        "colab": {
          "base_uri": "https://localhost:8080/",
          "height": 135
        },
        "id": "fNKnhK4YuBGv",
        "outputId": "733e4bb8-32bc-490d-f558-b23358a72a7b"
      },
      "outputs": [
        {
          "data": {
            "text/html": [
              "<div>\n",
              "<style scoped>\n",
              "    .dataframe tbody tr th:only-of-type {\n",
              "        vertical-align: middle;\n",
              "    }\n",
              "\n",
              "    .dataframe tbody tr th {\n",
              "        vertical-align: top;\n",
              "    }\n",
              "\n",
              "    .dataframe thead th {\n",
              "        text-align: right;\n",
              "    }\n",
              "</style>\n",
              "<table border=\"1\" class=\"dataframe\">\n",
              "  <thead>\n",
              "    <tr style=\"text-align: right;\">\n",
              "      <th></th>\n",
              "      <th>Number of Vehicles</th>\n",
              "      <th>Time (24hr)</th>\n",
              "      <th>1st Road Class</th>\n",
              "      <th>Road Surface</th>\n",
              "      <th>Lighting Conditions</th>\n",
              "      <th>Weather Conditions</th>\n",
              "      <th>Casualty Class</th>\n",
              "      <th>Casualty Severity</th>\n",
              "      <th>Sex of Casualty</th>\n",
              "      <th>Age of Casualty</th>\n",
              "      <th>Type of Vehicle</th>\n",
              "      <th>age_group</th>\n",
              "      <th>vehicle_group</th>\n",
              "    </tr>\n",
              "  </thead>\n",
              "  <tbody>\n",
              "    <tr>\n",
              "      <th>0</th>\n",
              "      <td>2</td>\n",
              "      <td>712</td>\n",
              "      <td>1</td>\n",
              "      <td>2</td>\n",
              "      <td>1</td>\n",
              "      <td>5</td>\n",
              "      <td>0</td>\n",
              "      <td>2</td>\n",
              "      <td>1</td>\n",
              "      <td>62</td>\n",
              "      <td>2</td>\n",
              "      <td>7</td>\n",
              "      <td>0</td>\n",
              "    </tr>\n",
              "  </tbody>\n",
              "</table>\n",
              "</div>"
            ],
            "text/plain": [
              "   Number of Vehicles  Time (24hr)  ...  age_group  vehicle_group\n",
              "0                   2          712  ...          7              0\n",
              "\n",
              "[1 rows x 13 columns]"
            ]
          },
          "execution_count": 26,
          "metadata": {},
          "output_type": "execute_result"
        }
      ],
      "source": [
        "df.head(1)"
      ]
    },
    {
      "cell_type": "markdown",
      "metadata": {
        "id": "YV_KZY55EDxv"
      },
      "source": [
        "Bi-variate analysis - Correlation <br>\n",
        "Check correlated features, if any, keep only one feature\n"
      ]
    },
    {
      "cell_type": "code",
      "execution_count": 27,
      "metadata": {
        "colab": {
          "base_uri": "https://localhost:8080/",
          "height": 858
        },
        "id": "ZMDIgbiNL7bk",
        "outputId": "17969a86-6179-4f60-dd2f-b1929103115c"
      },
      "outputs": [
        {
          "data": {
            "image/png": "[encoded data removed]",
            "text/plain": [
              "<Figure size 2000x1600 with 2 Axes>"
            ]
          },
          "metadata": {},
          "output_type": "display_data"
        }
      ],
      "source": [
        "# calculate the correlation matrix\n",
        "corr = df.corr()\n",
        "#  lower triangle of the matrix\n",
        "mask = np.triu(np.ones_like(corr, dtype=bool))\n",
        "# Set up the matplotlib figure\n",
        "plt.figure(figsize=(20, 16))\n",
        "sns.heatmap(corr, mask=mask, annot=False, cmap='coolwarm', vmin=-1, vmax=1, center=0,\n",
        "            square=True, linewidths=.5, cbar_kws={\"shrink\": .5},\n",
        "            xticklabels=True, yticklabels=True)\n",
        "plt.xticks(rotation=45, ha='right', fontsize=10)\n",
        "plt.yticks(rotation=0, fontsize=10)\n",
        "plt.title('Correlation Heatmap', fontsize=16)\n",
        "plt.show()"
      ]
    },
    {
      "cell_type": "markdown",
      "metadata": {
        "id": "NacFcMiaNsRO"
      },
      "source": [
        "Insights:\n",
        "- there is a slight negative correlation between number of vehicles and casualty class.\n",
        "\n",
        "- there is a weak positive correlation between Lighting Conditions and Casualty Severity, This might suggest that better lighting conditions could be associated with higher severity of casualties, but the correlation is weak.\n",
        "\n",
        "- there is a weak positive correlation between Type of Vehicle and Road Surface , This indicates that the type of vehicle might be somewhat related to the road surface condition during the incident.\n",
        "\n",
        "- there is a slight positive correlation between Weather Conditions and Lighting Conditions\n",
        "As no variables are significanlty correlated, we will work on all features we have"
      ]
    },
    {
      "cell_type": "markdown",
      "metadata": {
        "id": "okKF94NtUEaC"
      },
      "source": [
        "We won't perform feature selection as we have few columns to model"
      ]
    },
    {
      "cell_type": "markdown",
      "metadata": {
        "id": "WuKHwwh61bP3"
      },
      "source": [
        "## Data Preparation"
      ]
    },
    {
      "cell_type": "code",
      "execution_count": 28,
      "metadata": {
        "colab": {
          "base_uri": "https://localhost:8080/",
          "height": 0
        },
        "id": "nJbFb5lX9qkM",
        "outputId": "18393d68-4f9e-4d5e-f9fb-b29f458dac65"
      },
      "outputs": [
        {
          "data": {
            "text/html": [
              "<div>\n",
              "<style scoped>\n",
              "    .dataframe tbody tr th:only-of-type {\n",
              "        vertical-align: middle;\n",
              "    }\n",
              "\n",
              "    .dataframe tbody tr th {\n",
              "        vertical-align: top;\n",
              "    }\n",
              "\n",
              "    .dataframe thead th {\n",
              "        text-align: right;\n",
              "    }\n",
              "</style>\n",
              "<table border=\"1\" class=\"dataframe\">\n",
              "  <thead>\n",
              "    <tr style=\"text-align: right;\">\n",
              "      <th></th>\n",
              "      <th>Number of Vehicles</th>\n",
              "      <th>Time (24hr)</th>\n",
              "      <th>1st Road Class</th>\n",
              "      <th>Road Surface</th>\n",
              "      <th>Lighting Conditions</th>\n",
              "      <th>Weather Conditions</th>\n",
              "      <th>Casualty Class</th>\n",
              "      <th>Casualty Severity</th>\n",
              "      <th>Sex of Casualty</th>\n",
              "      <th>Age of Casualty</th>\n",
              "      <th>Type of Vehicle</th>\n",
              "      <th>age_group</th>\n",
              "      <th>vehicle_group</th>\n",
              "    </tr>\n",
              "  </thead>\n",
              "  <tbody>\n",
              "    <tr>\n",
              "      <th>0</th>\n",
              "      <td>2</td>\n",
              "      <td>712</td>\n",
              "      <td>1</td>\n",
              "      <td>2</td>\n",
              "      <td>1</td>\n",
              "      <td>5</td>\n",
              "      <td>0</td>\n",
              "      <td>2</td>\n",
              "      <td>1</td>\n",
              "      <td>62</td>\n",
              "      <td>2</td>\n",
              "      <td>7</td>\n",
              "      <td>0</td>\n",
              "    </tr>\n",
              "    <tr>\n",
              "      <th>1</th>\n",
              "      <td>2</td>\n",
              "      <td>830</td>\n",
              "      <td>4</td>\n",
              "      <td>2</td>\n",
              "      <td>4</td>\n",
              "      <td>5</td>\n",
              "      <td>0</td>\n",
              "      <td>2</td>\n",
              "      <td>0</td>\n",
              "      <td>39</td>\n",
              "      <td>2</td>\n",
              "      <td>4</td>\n",
              "      <td>0</td>\n",
              "    </tr>\n",
              "    <tr>\n",
              "      <th>2</th>\n",
              "      <td>1</td>\n",
              "      <td>1215</td>\n",
              "      <td>0</td>\n",
              "      <td>2</td>\n",
              "      <td>4</td>\n",
              "      <td>1</td>\n",
              "      <td>2</td>\n",
              "      <td>1</td>\n",
              "      <td>1</td>\n",
              "      <td>66</td>\n",
              "      <td>2</td>\n",
              "      <td>7</td>\n",
              "      <td>0</td>\n",
              "    </tr>\n",
              "    <tr>\n",
              "      <th>3</th>\n",
              "      <td>1</td>\n",
              "      <td>1735</td>\n",
              "      <td>0</td>\n",
              "      <td>0</td>\n",
              "      <td>2</td>\n",
              "      <td>1</td>\n",
              "      <td>2</td>\n",
              "      <td>1</td>\n",
              "      <td>1</td>\n",
              "      <td>39</td>\n",
              "      <td>3</td>\n",
              "      <td>4</td>\n",
              "      <td>1</td>\n",
              "    </tr>\n",
              "    <tr>\n",
              "      <th>4</th>\n",
              "      <td>2</td>\n",
              "      <td>1230</td>\n",
              "      <td>0</td>\n",
              "      <td>0</td>\n",
              "      <td>4</td>\n",
              "      <td>1</td>\n",
              "      <td>0</td>\n",
              "      <td>2</td>\n",
              "      <td>1</td>\n",
              "      <td>29</td>\n",
              "      <td>2</td>\n",
              "      <td>3</td>\n",
              "      <td>0</td>\n",
              "    </tr>\n",
              "  </tbody>\n",
              "</table>\n",
              "</div>"
            ],
            "text/plain": [
              "   Number of Vehicles  Time (24hr)  ...  age_group  vehicle_group\n",
              "0                   2          712  ...          7              0\n",
              "1                   2          830  ...          4              0\n",
              "2                   1         1215  ...          7              0\n",
              "3                   1         1735  ...          4              1\n",
              "4                   2         1230  ...          3              0\n",
              "\n",
              "[5 rows x 13 columns]"
            ]
          },
          "execution_count": 28,
          "metadata": {},
          "output_type": "execute_result"
        }
      ],
      "source": [
        "df.head()"
      ]
    },
    {
      "cell_type": "code",
      "execution_count": 29,
      "metadata": {
        "id": "JIqZ4h_z9KUn"
      },
      "outputs": [],
      "source": [
        "# make train, test, and validation splits:\n",
        "# make stratify ensure class presence in each splits\n",
        "train_df, temp_df = train_test_split(df, test_size=0.4, random_state=42, stratify=df['Casualty Class'])\n",
        "val_df, test_df = train_test_split(temp_df, test_size=0.5, random_state=42, stratify=temp_df['Casualty Class'])\n",
        "# separate features and target\n",
        "X_train = train_df.drop(columns=['Casualty Class'])\n",
        "y_train = train_df['Casualty Class']\n",
        "X_val = val_df.drop(columns=['Casualty Class'])\n",
        "y_val = val_df['Casualty Class']\n",
        "X_test = test_df.drop(columns=['Casualty Class'])\n",
        "y_test = test_df['Casualty Class']"
      ]
    },
    {
      "cell_type": "code",
      "execution_count": 30,
      "metadata": {
        "id": "eQZHv_-U4hiS"
      },
      "outputs": [],
      "source": [
        "# scale data - xtrain and x val only to avoid data leakage\n",
        "# handle the time in hours columns by power transformaer\n",
        "pt_yeojohnson = PowerTransformer(method='yeo-johnson')\n",
        "X_train['Time (24hr)'] = pt_yeojohnson.fit_transform(X_train[['Time (24hr)']])\n",
        "# apply stansard scaler which is better in handling outliers\n",
        "for col in X_train:\n",
        "    ss = StandardScaler()\n",
        "    X_train[col] = ss.fit_transform(X_train[[col]])\n",
        "X_val['Time (24hr)'] = pt_yeojohnson.transform(X_val[['Time (24hr)']])\n",
        "for col in X_val:\n",
        "    ss = StandardScaler()\n",
        "    X_val[col] = ss.fit_transform(X_val[[col]])\n"
      ]
    },
    {
      "cell_type": "code",
      "execution_count": 31,
      "metadata": {
        "colab": {
          "base_uri": "https://localhost:8080/"
        },
        "id": "E-csgF0q6HoH",
        "outputId": "a52fa535-0048-4ae7-a030-0685f98814eb"
      },
      "outputs": [
        {
          "name": "stdout",
          "output_type": "stream",
          "text": [
            "\n",
            "Transformed, Scaled, and Balanced Training Target:\n",
            "Casualty Class\n",
            "1    929\n",
            "2    929\n",
            "0    929\n",
            "Name: count, dtype: int64\n",
            "\n",
            "Validation Target Distribution:\n",
            "Casualty Class\n",
            "0    310\n",
            "1    140\n",
            "2     67\n",
            "Name: count, dtype: int64\n",
            "\n",
            "Testing Target Distribution:\n",
            "Casualty Class\n",
            "0    310\n",
            "1    141\n",
            "2     67\n",
            "Name: count, dtype: int64\n"
          ]
        }
      ],
      "source": [
        "#handle Class Imbalance using SMOTE\n",
        "smote = SMOTE(random_state=42)\n",
        "X_train_balanced, y_train_balanced = smote.fit_resample(X_train, y_train)\n",
        "\n",
        "# display the transformed, scaled, and balanced training DataFrame\n",
        "print(\"\\nTransformed, Scaled, and Balanced Training Target:\")\n",
        "print(y_train_balanced.value_counts())\n",
        "print(\"\\nValidation Target Distribution:\")\n",
        "print(y_val.value_counts())\n",
        "print(\"\\nTesting Target Distribution:\")\n",
        "print(y_test.value_counts())"
      ]
    },
    {
      "cell_type": "markdown",
      "metadata": {
        "id": "s7reWEVRRBiR"
      },
      "source": []
    },
    {
      "cell_type": "markdown",
      "metadata": {
        "id": "X3VcafJy1g28"
      },
      "source": [
        "## Modeling"
      ]
    },
    {
      "cell_type": "markdown",
      "metadata": {
        "id": "k8ff4q0-37MH"
      },
      "source": [
        "Based on a review of similar work on kaggle on similar dataset, we will try randomforest, logistic regression, gradientboosting, and exgbbost. We will try model like balanced random forest that is customsed for imabalance learning"
      ]
    },
    {
      "cell_type": "code",
      "execution_count": 32,
      "metadata": {
        "colab": {
          "base_uri": "https://localhost:8080/",
          "height": 0
        },
        "id": "j6pr5NPcCX-I",
        "outputId": "efc08870-2015-41ae-ee5f-59e6af9ff3f4"
      },
      "outputs": [
        {
          "data": {
            "text/html": [
              "<style>#sk-container-id-1 {\n",
              "  /* Definition of color scheme common for light and dark mode */\n",
              "  --sklearn-color-text: #000;\n",
              "  --sklearn-color-text-muted: #666;\n",
              "  --sklearn-color-line: gray;\n",
              "  /* Definition of color scheme for unfitted estimators */\n",
              "  --sklearn-color-unfitted-level-0: #fff5e6;\n",
              "  --sklearn-color-unfitted-level-1: #f6e4d2;\n",
              "  --sklearn-color-unfitted-level-2: #ffe0b3;\n",
              "  --sklearn-color-unfitted-level-3: chocolate;\n",
              "  /* Definition of color scheme for fitted estimators */\n",
              "  --sklearn-color-fitted-level-0: #f0f8ff;\n",
              "  --sklearn-color-fitted-level-1: #d4ebff;\n",
              "  --sklearn-color-fitted-level-2: #b3dbfd;\n",
              "  --sklearn-color-fitted-level-3: cornflowerblue;\n",
              "\n",
              "  /* Specific color for light theme */\n",
              "  --sklearn-color-text-on-default-background: var(--sg-text-color, var(--theme-code-foreground, var(--jp-content-font-color1, black)));\n",
              "  --sklearn-color-background: var(--sg-background-color, var(--theme-background, var(--jp-layout-color0, white)));\n",
              "  --sklearn-color-border-box: var(--sg-text-color, var(--theme-code-foreground, var(--jp-content-font-color1, black)));\n",
              "  --sklearn-color-icon: #696969;\n",
              "\n",
              "  @media (prefers-color-scheme: dark) {\n",
              "    /* Redefinition of color scheme for dark theme */\n",
              "    --sklearn-color-text-on-default-background: var(--sg-text-color, var(--theme-code-foreground, var(--jp-content-font-color1, white)));\n",
              "    --sklearn-color-background: var(--sg-background-color, var(--theme-background, var(--jp-layout-color0, #111)));\n",
              "    --sklearn-color-border-box: var(--sg-text-color, var(--theme-code-foreground, var(--jp-content-font-color1, white)));\n",
              "    --sklearn-color-icon: #878787;\n",
              "  }\n",
              "}\n",
              "\n",
              "#sk-container-id-1 {\n",
              "  color: var(--sklearn-color-text);\n",
              "}\n",
              "\n",
              "#sk-container-id-1 pre {\n",
              "  padding: 0;\n",
              "}\n",
              "\n",
              "#sk-container-id-1 input.sk-hidden--visually {\n",
              "  border: 0;\n",
              "  clip: rect(1px 1px 1px 1px);\n",
              "  clip: rect(1px, 1px, 1px, 1px);\n",
              "  height: 1px;\n",
              "  margin: -1px;\n",
              "  overflow: hidden;\n",
              "  padding: 0;\n",
              "  position: absolute;\n",
              "  width: 1px;\n",
              "}\n",
              "\n",
              "#sk-container-id-1 div.sk-dashed-wrapped {\n",
              "  border: 1px dashed var(--sklearn-color-line);\n",
              "  margin: 0 0.4em 0.5em 0.4em;\n",
              "  box-sizing: border-box;\n",
              "  padding-bottom: 0.4em;\n",
              "  background-color: var(--sklearn-color-background);\n",
              "}\n",
              "\n",
              "#sk-container-id-1 div.sk-container {\n",
              "  /* jupyter's `normalize.less` sets `[hidden] { display: none; }`\n",
              "     but bootstrap.min.css set `[hidden] { display: none !important; }`\n",
              "     so we also need the `!important` here to be able to override the\n",
              "     default hidden behavior on the sphinx rendered scikit-learn.org.\n",
              "     See: https://github.com/scikit-learn/scikit-learn/issues/21755 */\n",
              "  display: inline-block !important;\n",
              "  position: relative;\n",
              "}\n",
              "\n",
              "#sk-container-id-1 div.sk-text-repr-fallback {\n",
              "  display: none;\n",
              "}\n",
              "\n",
              "div.sk-parallel-item,\n",
              "div.sk-serial,\n",
              "div.sk-item {\n",
              "  /* draw centered vertical line to link estimators */\n",
              "  background-image: linear-gradient(var(--sklearn-color-text-on-default-background), var(--sklearn-color-text-on-default-background));\n",
              "  background-size: 2px 100%;\n",
              "  background-repeat: no-repeat;\n",
              "  background-position: center center;\n",
              "}\n",
              "\n",
              "/* Parallel-specific style estimator block */\n",
              "\n",
              "#sk-container-id-1 div.sk-parallel-item::after {\n",
              "  content: \"\";\n",
              "  width: 100%;\n",
              "  border-bottom: 2px solid var(--sklearn-color-text-on-default-background);\n",
              "  flex-grow: 1;\n",
              "}\n",
              "\n",
              "#sk-container-id-1 div.sk-parallel {\n",
              "  display: flex;\n",
              "  align-items: stretch;\n",
              "  justify-content: center;\n",
              "  background-color: var(--sklearn-color-background);\n",
              "  position: relative;\n",
              "}\n",
              "\n",
              "#sk-container-id-1 div.sk-parallel-item {\n",
              "  display: flex;\n",
              "  flex-direction: column;\n",
              "}\n",
              "\n",
              "#sk-container-id-1 div.sk-parallel-item:first-child::after {\n",
              "  align-self: flex-end;\n",
              "  width: 50%;\n",
              "}\n",
              "\n",
              "#sk-container-id-1 div.sk-parallel-item:last-child::after {\n",
              "  align-self: flex-start;\n",
              "  width: 50%;\n",
              "}\n",
              "\n",
              "#sk-container-id-1 div.sk-parallel-item:only-child::after {\n",
              "  width: 0;\n",
              "}\n",
              "\n",
              "/* Serial-specific style estimator block */\n",
              "\n",
              "#sk-container-id-1 div.sk-serial {\n",
              "  display: flex;\n",
              "  flex-direction: column;\n",
              "  align-items: center;\n",
              "  background-color: var(--sklearn-color-background);\n",
              "  padding-right: 1em;\n",
              "  padding-left: 1em;\n",
              "}\n",
              "\n",
              "\n",
              "/* Toggleable style: style used for estimator/Pipeline/ColumnTransformer box that is\n",
              "clickable and can be expanded/collapsed.\n",
              "- Pipeline and ColumnTransformer use this feature and define the default style\n",
              "- Estimators will overwrite some part of the style using the `sk-estimator` class\n",
              "*/\n",
              "\n",
              "/* Pipeline and ColumnTransformer style (default) */\n",
              "\n",
              "#sk-container-id-1 div.sk-toggleable {\n",
              "  /* Default theme specific background. It is overwritten whether we have a\n",
              "  specific estimator or a Pipeline/ColumnTransformer */\n",
              "  background-color: var(--sklearn-color-background);\n",
              "}\n",
              "\n",
              "/* Toggleable label */\n",
              "#sk-container-id-1 label.sk-toggleable__label {\n",
              "  cursor: pointer;\n",
              "  display: flex;\n",
              "  width: 100%;\n",
              "  margin-bottom: 0;\n",
              "  padding: 0.5em;\n",
              "  box-sizing: border-box;\n",
              "  text-align: center;\n",
              "  align-items: start;\n",
              "  justify-content: space-between;\n",
              "  gap: 0.5em;\n",
              "}\n",
              "\n",
              "#sk-container-id-1 label.sk-toggleable__label .caption {\n",
              "  font-size: 0.6rem;\n",
              "  font-weight: lighter;\n",
              "  color: var(--sklearn-color-text-muted);\n",
              "}\n",
              "\n",
              "#sk-container-id-1 label.sk-toggleable__label-arrow:before {\n",
              "  /* Arrow on the left of the label */\n",
              "  content: \"▸\";\n",
              "  float: left;\n",
              "  margin-right: 0.25em;\n",
              "  color: var(--sklearn-color-icon);\n",
              "}\n",
              "\n",
              "#sk-container-id-1 label.sk-toggleable__label-arrow:hover:before {\n",
              "  color: var(--sklearn-color-text);\n",
              "}\n",
              "\n",
              "/* Toggleable content - dropdown */\n",
              "\n",
              "#sk-container-id-1 div.sk-toggleable__content {\n",
              "  max-height: 0;\n",
              "  max-width: 0;\n",
              "  overflow: hidden;\n",
              "  text-align: left;\n",
              "  /* unfitted */\n",
              "  background-color: var(--sklearn-color-unfitted-level-0);\n",
              "}\n",
              "\n",
              "#sk-container-id-1 div.sk-toggleable__content.fitted {\n",
              "  /* fitted */\n",
              "  background-color: var(--sklearn-color-fitted-level-0);\n",
              "}\n",
              "\n",
              "#sk-container-id-1 div.sk-toggleable__content pre {\n",
              "  margin: 0.2em;\n",
              "  border-radius: 0.25em;\n",
              "  color: var(--sklearn-color-text);\n",
              "  /* unfitted */\n",
              "  background-color: var(--sklearn-color-unfitted-level-0);\n",
              "}\n",
              "\n",
              "#sk-container-id-1 div.sk-toggleable__content.fitted pre {\n",
              "  /* unfitted */\n",
              "  background-color: var(--sklearn-color-fitted-level-0);\n",
              "}\n",
              "\n",
              "#sk-container-id-1 input.sk-toggleable__control:checked~div.sk-toggleable__content {\n",
              "  /* Expand drop-down */\n",
              "  max-height: 200px;\n",
              "  max-width: 100%;\n",
              "  overflow: auto;\n",
              "}\n",
              "\n",
              "#sk-container-id-1 input.sk-toggleable__control:checked~label.sk-toggleable__label-arrow:before {\n",
              "  content: \"▾\";\n",
              "}\n",
              "\n",
              "/* Pipeline/ColumnTransformer-specific style */\n",
              "\n",
              "#sk-container-id-1 div.sk-label input.sk-toggleable__control:checked~label.sk-toggleable__label {\n",
              "  color: var(--sklearn-color-text);\n",
              "  background-color: var(--sklearn-color-unfitted-level-2);\n",
              "}\n",
              "\n",
              "#sk-container-id-1 div.sk-label.fitted input.sk-toggleable__control:checked~label.sk-toggleable__label {\n",
              "  background-color: var(--sklearn-color-fitted-level-2);\n",
              "}\n",
              "\n",
              "/* Estimator-specific style */\n",
              "\n",
              "/* Colorize estimator box */\n",
              "#sk-container-id-1 div.sk-estimator input.sk-toggleable__control:checked~label.sk-toggleable__label {\n",
              "  /* unfitted */\n",
              "  background-color: var(--sklearn-color-unfitted-level-2);\n",
              "}\n",
              "\n",
              "#sk-container-id-1 div.sk-estimator.fitted input.sk-toggleable__control:checked~label.sk-toggleable__label {\n",
              "  /* fitted */\n",
              "  background-color: var(--sklearn-color-fitted-level-2);\n",
              "}\n",
              "\n",
              "#sk-container-id-1 div.sk-label label.sk-toggleable__label,\n",
              "#sk-container-id-1 div.sk-label label {\n",
              "  /* The background is the default theme color */\n",
              "  color: var(--sklearn-color-text-on-default-background);\n",
              "}\n",
              "\n",
              "/* On hover, darken the color of the background */\n",
              "#sk-container-id-1 div.sk-label:hover label.sk-toggleable__label {\n",
              "  color: var(--sklearn-color-text);\n",
              "  background-color: var(--sklearn-color-unfitted-level-2);\n",
              "}\n",
              "\n",
              "/* Label box, darken color on hover, fitted */\n",
              "#sk-container-id-1 div.sk-label.fitted:hover label.sk-toggleable__label.fitted {\n",
              "  color: var(--sklearn-color-text);\n",
              "  background-color: var(--sklearn-color-fitted-level-2);\n",
              "}\n",
              "\n",
              "/* Estimator label */\n",
              "\n",
              "#sk-container-id-1 div.sk-label label {\n",
              "  font-family: monospace;\n",
              "  font-weight: bold;\n",
              "  display: inline-block;\n",
              "  line-height: 1.2em;\n",
              "}\n",
              "\n",
              "#sk-container-id-1 div.sk-label-container {\n",
              "  text-align: center;\n",
              "}\n",
              "\n",
              "/* Estimator-specific */\n",
              "#sk-container-id-1 div.sk-estimator {\n",
              "  font-family: monospace;\n",
              "  border: 1px dotted var(--sklearn-color-border-box);\n",
              "  border-radius: 0.25em;\n",
              "  box-sizing: border-box;\n",
              "  margin-bottom: 0.5em;\n",
              "  /* unfitted */\n",
              "  background-color: var(--sklearn-color-unfitted-level-0);\n",
              "}\n",
              "\n",
              "#sk-container-id-1 div.sk-estimator.fitted {\n",
              "  /* fitted */\n",
              "  background-color: var(--sklearn-color-fitted-level-0);\n",
              "}\n",
              "\n",
              "/* on hover */\n",
              "#sk-container-id-1 div.sk-estimator:hover {\n",
              "  /* unfitted */\n",
              "  background-color: var(--sklearn-color-unfitted-level-2);\n",
              "}\n",
              "\n",
              "#sk-container-id-1 div.sk-estimator.fitted:hover {\n",
              "  /* fitted */\n",
              "  background-color: var(--sklearn-color-fitted-level-2);\n",
              "}\n",
              "\n",
              "/* Specification for estimator info (e.g. \"i\" and \"?\") */\n",
              "\n",
              "/* Common style for \"i\" and \"?\" */\n",
              "\n",
              ".sk-estimator-doc-link,\n",
              "a:link.sk-estimator-doc-link,\n",
              "a:visited.sk-estimator-doc-link {\n",
              "  float: right;\n",
              "  font-size: smaller;\n",
              "  line-height: 1em;\n",
              "  font-family: monospace;\n",
              "  background-color: var(--sklearn-color-background);\n",
              "  border-radius: 1em;\n",
              "  height: 1em;\n",
              "  width: 1em;\n",
              "  text-decoration: none !important;\n",
              "  margin-left: 0.5em;\n",
              "  text-align: center;\n",
              "  /* unfitted */\n",
              "  border: var(--sklearn-color-unfitted-level-1) 1pt solid;\n",
              "  color: var(--sklearn-color-unfitted-level-1);\n",
              "}\n",
              "\n",
              ".sk-estimator-doc-link.fitted,\n",
              "a:link.sk-estimator-doc-link.fitted,\n",
              "a:visited.sk-estimator-doc-link.fitted {\n",
              "  /* fitted */\n",
              "  border: var(--sklearn-color-fitted-level-1) 1pt solid;\n",
              "  color: var(--sklearn-color-fitted-level-1);\n",
              "}\n",
              "\n",
              "/* On hover */\n",
              "div.sk-estimator:hover .sk-estimator-doc-link:hover,\n",
              ".sk-estimator-doc-link:hover,\n",
              "div.sk-label-container:hover .sk-estimator-doc-link:hover,\n",
              ".sk-estimator-doc-link:hover {\n",
              "  /* unfitted */\n",
              "  background-color: var(--sklearn-color-unfitted-level-3);\n",
              "  color: var(--sklearn-color-background);\n",
              "  text-decoration: none;\n",
              "}\n",
              "\n",
              "div.sk-estimator.fitted:hover .sk-estimator-doc-link.fitted:hover,\n",
              ".sk-estimator-doc-link.fitted:hover,\n",
              "div.sk-label-container:hover .sk-estimator-doc-link.fitted:hover,\n",
              ".sk-estimator-doc-link.fitted:hover {\n",
              "  /* fitted */\n",
              "  background-color: var(--sklearn-color-fitted-level-3);\n",
              "  color: var(--sklearn-color-background);\n",
              "  text-decoration: none;\n",
              "}\n",
              "\n",
              "/* Span, style for the box shown on hovering the info icon */\n",
              ".sk-estimator-doc-link span {\n",
              "  display: none;\n",
              "  z-index: 9999;\n",
              "  position: relative;\n",
              "  font-weight: normal;\n",
              "  right: .2ex;\n",
              "  padding: .5ex;\n",
              "  margin: .5ex;\n",
              "  width: min-content;\n",
              "  min-width: 20ex;\n",
              "  max-width: 50ex;\n",
              "  color: var(--sklearn-color-text);\n",
              "  box-shadow: 2pt 2pt 4pt #999;\n",
              "  /* unfitted */\n",
              "  background: var(--sklearn-color-unfitted-level-0);\n",
              "  border: .5pt solid var(--sklearn-color-unfitted-level-3);\n",
              "}\n",
              "\n",
              ".sk-estimator-doc-link.fitted span {\n",
              "  /* fitted */\n",
              "  background: var(--sklearn-color-fitted-level-0);\n",
              "  border: var(--sklearn-color-fitted-level-3);\n",
              "}\n",
              "\n",
              ".sk-estimator-doc-link:hover span {\n",
              "  display: block;\n",
              "}\n",
              "\n",
              "/* \"?\"-specific style due to the `<a>` HTML tag */\n",
              "\n",
              "#sk-container-id-1 a.estimator_doc_link {\n",
              "  float: right;\n",
              "  font-size: 1rem;\n",
              "  line-height: 1em;\n",
              "  font-family: monospace;\n",
              "  background-color: var(--sklearn-color-background);\n",
              "  border-radius: 1rem;\n",
              "  height: 1rem;\n",
              "  width: 1rem;\n",
              "  text-decoration: none;\n",
              "  /* unfitted */\n",
              "  color: var(--sklearn-color-unfitted-level-1);\n",
              "  border: var(--sklearn-color-unfitted-level-1) 1pt solid;\n",
              "}\n",
              "\n",
              "#sk-container-id-1 a.estimator_doc_link.fitted {\n",
              "  /* fitted */\n",
              "  border: var(--sklearn-color-fitted-level-1) 1pt solid;\n",
              "  color: var(--sklearn-color-fitted-level-1);\n",
              "}\n",
              "\n",
              "/* On hover */\n",
              "#sk-container-id-1 a.estimator_doc_link:hover {\n",
              "  /* unfitted */\n",
              "  background-color: var(--sklearn-color-unfitted-level-3);\n",
              "  color: var(--sklearn-color-background);\n",
              "  text-decoration: none;\n",
              "}\n",
              "\n",
              "#sk-container-id-1 a.estimator_doc_link.fitted:hover {\n",
              "  /* fitted */\n",
              "  background-color: var(--sklearn-color-fitted-level-3);\n",
              "}\n",
              "</style><div id=\"sk-container-id-1\" class=\"sk-top-container\"><div class=\"sk-text-repr-fallback\"><pre>RandomizedSearchCV(cv=5,\n",
              "                   estimator=Pipeline(steps=[(&#x27;power_transform&#x27;,\n",
              "                                              PowerTransformer()),\n",
              "                                             (&#x27;scaler&#x27;, StandardScaler()),\n",
              "                                             (&#x27;classifier&#x27;,\n",
              "                                              DummyClassifier())]),\n",
              "                   n_iter=50, n_jobs=-1,\n",
              "                   param_distributions=[{&#x27;classifier&#x27;: [LogisticRegression(multi_class=&#x27;multinomial&#x27;,\n",
              "                                                                           random_state=42)],\n",
              "                                         &#x27;classifier__C&#x27;: &lt;scipy.stats._distn_infrastructure.rv_continuous_frozen object at...\n",
              "                                         &#x27;classifier__learning_rate&#x27;: &lt;scipy.stats._distn_infrastructure.rv_continuous_frozen object at 0x00000282B23D3D90&gt;,\n",
              "                                         &#x27;classifier__max_depth&#x27;: &lt;scipy.stats._distn_infrastructure.rv_discrete_frozen object at 0x00000282B242F9B0&gt;,\n",
              "                                         &#x27;classifier__n_estimators&#x27;: &lt;scipy.stats._distn_infrastructure.rv_discrete_frozen object at 0x00000282AF711480&gt;}],\n",
              "                   random_state=42,\n",
              "                   scoring=make_scorer(f1_score, response_method=&#x27;predict&#x27;, average=macro))</pre><b>In a Jupyter environment, please rerun this cell to show the HTML representation or trust the notebook. <br />On GitHub, the HTML representation is unable to render, please try loading this page with nbviewer.org.</b></div><div class=\"sk-container\" hidden><div class=\"sk-item sk-dashed-wrapped\"><div class=\"sk-label-container\"><div class=\"sk-label fitted sk-toggleable\"><input class=\"sk-toggleable__control sk-hidden--visually\" id=\"sk-estimator-id-1\" type=\"checkbox\" ><label for=\"sk-estimator-id-1\" class=\"sk-toggleable__label fitted sk-toggleable__label-arrow\"><div><div>RandomizedSearchCV</div></div><div><a class=\"sk-estimator-doc-link fitted\" rel=\"noreferrer\" target=\"_blank\" href=\"https://scikit-learn.org/1.6/modules/generated/sklearn.model_selection.RandomizedSearchCV.html\">?<span>Documentation for RandomizedSearchCV</span></a><span class=\"sk-estimator-doc-link fitted\">i<span>Fitted</span></span></div></label><div class=\"sk-toggleable__content fitted\"><pre>RandomizedSearchCV(cv=5,\n",
              "                   estimator=Pipeline(steps=[(&#x27;power_transform&#x27;,\n",
              "                                              PowerTransformer()),\n",
              "                                             (&#x27;scaler&#x27;, StandardScaler()),\n",
              "                                             (&#x27;classifier&#x27;,\n",
              "                                              DummyClassifier())]),\n",
              "                   n_iter=50, n_jobs=-1,\n",
              "                   param_distributions=[{&#x27;classifier&#x27;: [LogisticRegression(multi_class=&#x27;multinomial&#x27;,\n",
              "                                                                           random_state=42)],\n",
              "                                         &#x27;classifier__C&#x27;: &lt;scipy.stats._distn_infrastructure.rv_continuous_frozen object at...\n",
              "                                         &#x27;classifier__learning_rate&#x27;: &lt;scipy.stats._distn_infrastructure.rv_continuous_frozen object at 0x00000282B23D3D90&gt;,\n",
              "                                         &#x27;classifier__max_depth&#x27;: &lt;scipy.stats._distn_infrastructure.rv_discrete_frozen object at 0x00000282B242F9B0&gt;,\n",
              "                                         &#x27;classifier__n_estimators&#x27;: &lt;scipy.stats._distn_infrastructure.rv_discrete_frozen object at 0x00000282AF711480&gt;}],\n",
              "                   random_state=42,\n",
              "                   scoring=make_scorer(f1_score, response_method=&#x27;predict&#x27;, average=macro))</pre></div> </div></div><div class=\"sk-parallel\"><div class=\"sk-parallel-item\"><div class=\"sk-item\"><div class=\"sk-label-container\"><div class=\"sk-label fitted sk-toggleable\"><input class=\"sk-toggleable__control sk-hidden--visually\" id=\"sk-estimator-id-2\" type=\"checkbox\" ><label for=\"sk-estimator-id-2\" class=\"sk-toggleable__label fitted sk-toggleable__label-arrow\"><div><div>best_estimator_: Pipeline</div></div></label><div class=\"sk-toggleable__content fitted\"><pre>Pipeline(steps=[(&#x27;power_transform&#x27;, PowerTransformer()),\n",
              "                (&#x27;scaler&#x27;, StandardScaler()),\n",
              "                (&#x27;classifier&#x27;,\n",
              "                 RandomForestClassifier(n_estimators=185, random_state=42))])</pre></div> </div></div><div class=\"sk-serial\"><div class=\"sk-item\"><div class=\"sk-serial\"><div class=\"sk-item\"><div class=\"sk-estimator fitted sk-toggleable\"><input class=\"sk-toggleable__control sk-hidden--visually\" id=\"sk-estimator-id-3\" type=\"checkbox\" ><label for=\"sk-estimator-id-3\" class=\"sk-toggleable__label fitted sk-toggleable__label-arrow\"><div><div>PowerTransformer</div></div><div><a class=\"sk-estimator-doc-link fitted\" rel=\"noreferrer\" target=\"_blank\" href=\"https://scikit-learn.org/1.6/modules/generated/sklearn.preprocessing.PowerTransformer.html\">?<span>Documentation for PowerTransformer</span></a></div></label><div class=\"sk-toggleable__content fitted\"><pre>PowerTransformer()</pre></div> </div></div><div class=\"sk-item\"><div class=\"sk-estimator fitted sk-toggleable\"><input class=\"sk-toggleable__control sk-hidden--visually\" id=\"sk-estimator-id-4\" type=\"checkbox\" ><label for=\"sk-estimator-id-4\" class=\"sk-toggleable__label fitted sk-toggleable__label-arrow\"><div><div>StandardScaler</div></div><div><a class=\"sk-estimator-doc-link fitted\" rel=\"noreferrer\" target=\"_blank\" href=\"https://scikit-learn.org/1.6/modules/generated/sklearn.preprocessing.StandardScaler.html\">?<span>Documentation for StandardScaler</span></a></div></label><div class=\"sk-toggleable__content fitted\"><pre>StandardScaler()</pre></div> </div></div><div class=\"sk-item\"><div class=\"sk-estimator fitted sk-toggleable\"><input class=\"sk-toggleable__control sk-hidden--visually\" id=\"sk-estimator-id-5\" type=\"checkbox\" ><label for=\"sk-estimator-id-5\" class=\"sk-toggleable__label fitted sk-toggleable__label-arrow\"><div><div>RandomForestClassifier</div></div><div><a class=\"sk-estimator-doc-link fitted\" rel=\"noreferrer\" target=\"_blank\" href=\"https://scikit-learn.org/1.6/modules/generated/sklearn.ensemble.RandomForestClassifier.html\">?<span>Documentation for RandomForestClassifier</span></a></div></label><div class=\"sk-toggleable__content fitted\"><pre>RandomForestClassifier(n_estimators=185, random_state=42)</pre></div> </div></div></div></div></div></div></div></div></div></div></div>"
            ],
            "text/plain": [
              "RandomizedSearchCV(cv=5,\n",
              "                   estimator=Pipeline(steps=[('power_transform',\n",
              "                                              PowerTransformer()),\n",
              "                                             ('scaler', StandardScaler()),\n",
              "                                             ('classifier',\n",
              "                                              DummyClassifier())]),\n",
              "                   n_iter=50, n_jobs=-1,\n",
              "                   param_distributions=[{'classifier': [LogisticRegression(multi_class='multinomial',\n",
              "                                                                           random_state=42)],\n",
              "                                         'classifier__C': <scipy.stats._distn_infrastructure.rv_continuous_frozen object at...\n",
              "                                         'classifier__learning_rate': <scipy.stats._distn_infrastructure.rv_continuous_frozen object at 0x00000282B23D3D90>,\n",
              "                                         'classifier__max_depth': <scipy.stats._distn_infrastructure.rv_discrete_frozen object at 0x00000282B242F9B0>,\n",
              "                                         'classifier__n_estimators': <scipy.stats._distn_infrastructure.rv_discrete_frozen object at 0x00000282AF711480>}],\n",
              "                   random_state=42,\n",
              "                   scoring=make_scorer(f1_score, response_method='predict', average=macro))"
            ]
          },
          "execution_count": 32,
          "metadata": {},
          "output_type": "execute_result"
        }
      ],
      "source": [
        "# define the pipeline\n",
        "from sklearn.base import BaseEstimator, TransformerMixin\n",
        "\n",
        "class DummyClassifier(BaseEstimator, TransformerMixin):\n",
        "    def fit(self, X, y=None): return self\n",
        "    def transform(self, X): return X\n",
        "\n",
        "# Define pipeline with placeholder\n",
        "pipeline = Pipeline([\n",
        "    ('power_transform', PowerTransformer(method='yeo-johnson')),\n",
        "    ('scaler', StandardScaler()),\n",
        "    ('classifier', DummyClassifier())\n",
        "])\n",
        "\n",
        "# Parameter grid\n",
        "param_dist = [\n",
        "    {\n",
        "        'classifier': [LogisticRegression(random_state=42, multi_class='multinomial', solver='lbfgs')],\n",
        "        'classifier__C': uniform(0.1, 100)\n",
        "    },\n",
        "    {\n",
        "        'classifier': [BalancedRandomForestClassifier(random_state=42)],\n",
        "        'classifier__n_estimators': randint(50, 200),\n",
        "        'classifier__max_depth': [None, 10, 20, 30]\n",
        "    },\n",
        "    {\n",
        "        'classifier': [RandomForestClassifier(random_state=42)],\n",
        "        'classifier__n_estimators': randint(50, 200),\n",
        "        'classifier__max_depth': [None, 10, 20, 30]\n",
        "    },\n",
        "    {\n",
        "        'classifier': [xgb.XGBClassifier(random_state=42, use_label_encoder=False, eval_metric='mlogloss')],\n",
        "        'classifier__n_estimators': randint(50, 200),\n",
        "        'classifier__max_depth': randint(3, 10),\n",
        "        'classifier__learning_rate': uniform(0.01, 0.3)\n",
        "    },\n",
        "    {\n",
        "        'classifier': [GradientBoostingClassifier(random_state=42)],\n",
        "        'classifier__n_estimators': randint(50, 200),\n",
        "        'classifier__max_depth': randint(3, 10),\n",
        "        'classifier__learning_rate': uniform(0.01, 0.3)\n",
        "    }\n",
        "]\n",
        "\n",
        "\n",
        "# f1_score as the scoring metric\n",
        "scorer = make_scorer(f1_score, average='macro')\n",
        "\n",
        "#  using random search to fine tune the models based on a gris of parameters\n",
        "random_search = RandomizedSearchCV(estimator=pipeline, param_distributions=param_dist, cv=5, scoring=scorer, n_iter=50, n_jobs=-1, random_state=42)\n",
        "# fit RandomizedSearchCV\n",
        "random_search.fit(X_train, y_train)"
      ]
    },
    {
      "cell_type": "code",
      "execution_count": 33,
      "metadata": {
        "colab": {
          "base_uri": "https://localhost:8080/"
        },
        "id": "q6ORQY5kEfp3",
        "outputId": "f4b0c9e2-5832-4aed-de9d-c8bf814c5067"
      },
      "outputs": [
        {
          "name": "stdout",
          "output_type": "stream",
          "text": [
            "Best Parameters: {'classifier': RandomForestClassifier(random_state=42), 'classifier__max_depth': None, 'classifier__n_estimators': 185}\n"
          ]
        }
      ],
      "source": [
        "\n",
        "# get best parameters and estimator\n",
        "best_params = random_search.best_params_\n",
        "best_model = random_search.best_estimator_\n",
        "\n",
        "print(f\"Best Parameters: {best_params}\")\n"
      ]
    },
    {
      "cell_type": "code",
      "execution_count": 34,
      "metadata": {
        "colab": {
          "base_uri": "https://localhost:8080/",
          "height": 0
        },
        "id": "ZmjXncjkEqLk",
        "outputId": "d5fe2041-79cd-481d-f7a6-3c8741f4b8f8"
      },
      "outputs": [
        {
          "name": "stdout",
          "output_type": "stream",
          "text": [
            "Validation Set Evaluation with Best Model:\n",
            "[[265  32  13]\n",
            " [ 61  72   7]\n",
            " [  9   5  53]]\n",
            "              precision    recall  f1-score   support\n",
            "\n",
            "           0       0.79      0.85      0.82       310\n",
            "           1       0.66      0.51      0.58       140\n",
            "           2       0.73      0.79      0.76        67\n",
            "\n",
            "    accuracy                           0.75       517\n",
            "   macro avg       0.73      0.72      0.72       517\n",
            "weighted avg       0.75      0.75      0.75       517\n",
            "\n"
          ]
        },
        {
          "data": {
            "image/png": "[encoded data removed]",
            "text/plain": [
              "<Figure size 800x600 with 2 Axes>"
            ]
          },
          "metadata": {},
          "output_type": "display_data"
        }
      ],
      "source": [
        "\n",
        "# evaluate the best model on the validation set\n",
        "y_val_pred_best = best_model.predict(X_val)\n",
        "\n",
        "print(\"Validation Set Evaluation with Best Model:\")\n",
        "print(confusion_matrix(y_val, y_val_pred_best))\n",
        "print(classification_report(y_val, y_val_pred_best))\n",
        "conf_matrix_val = confusion_matrix(y_val, y_val_pred_best)\n",
        "plt.figure(figsize=(8, 6))\n",
        "sns.heatmap(conf_matrix_val, annot=True, fmt='d', cmap='Blues',\n",
        "            xticklabels=['Slight', 'Series','Fatal'],\n",
        "            yticklabels=['Slight', 'Series','Fatal'])\n",
        "plt.xlabel('Predicted')\n",
        "plt.ylabel('Actual')\n",
        "plt.title('Confusion Matrix - Validation Set')\n",
        "plt.show()\n"
      ]
    },
    {
      "cell_type": "code",
      "execution_count": 35,
      "metadata": {
        "colab": {
          "base_uri": "https://localhost:8080/",
          "height": 0
        },
        "id": "b5Xwh9V_CqNV",
        "outputId": "368513ad-d536-49df-f315-0f72ccd5afa0"
      },
      "outputs": [
        {
          "name": "stdout",
          "output_type": "stream",
          "text": [
            "Test Set Evaluation with Best Model:\n",
            "[[308   2   0]\n",
            " [139   2   0]\n",
            " [ 65   2   0]]\n",
            "              precision    recall  f1-score   support\n",
            "\n",
            "           0       0.60      0.99      0.75       310\n",
            "           1       0.33      0.01      0.03       141\n",
            "           2       0.00      0.00      0.00        67\n",
            "\n",
            "    accuracy                           0.60       518\n",
            "   macro avg       0.31      0.34      0.26       518\n",
            "weighted avg       0.45      0.60      0.46       518\n",
            "\n"
          ]
        },
        {
          "data": {
            "image/png": "[encoded data removed]",
            "text/plain": [
              "<Figure size 800x600 with 2 Axes>"
            ]
          },
          "metadata": {},
          "output_type": "display_data"
        }
      ],
      "source": [
        "# evaluate the best model on the test set\n",
        "y_test_pred_best = best_model.predict(X_test)\n",
        "\n",
        "print(\"Test Set Evaluation with Best Model:\")\n",
        "print(confusion_matrix(y_test, y_test_pred_best))\n",
        "print(classification_report(y_test, y_test_pred_best))\n",
        "\n",
        "# Plot confusion matrix for test set\n",
        "conf_matrix_test = confusion_matrix(y_test, y_test_pred_best)\n",
        "\n",
        "plt.figure(figsize=(8, 6))\n",
        "sns.heatmap(conf_matrix_test, annot=True,\n",
        "            fmt='d', cmap='Blues',\n",
        "            xticklabels=['Class 0', 'Class 1'], yticklabels=['Class 0', 'Class 1'])\n",
        "plt.xlabel('Predicted')\n",
        "plt.ylabel('Actual')\n",
        "plt.title('Confusion Matrix - Test Set')\n",
        "plt.show()"
      ]
    },
    {
      "cell_type": "markdown",
      "metadata": {
        "id": "ZxQCTWzvHpaR"
      },
      "source": [
        "#### Communicate finding:\n",
        "\n",
        "   - High accuracy for \"Slight\" (Class 0) in both sets.\n",
        "   - Struggles with \"Serious\" (Class 1) and \"Fatal\" (Class 2), worse in the test set.\n",
        "- **Validation Set**:\n",
        "     - Mix-up between \"Slight\" and \"Serious\"; \"Serious\" often misclassified as \"Slight.\"\n",
        "     - \"Fatal\" often misclassified as \"Slight.\"\n",
        "   - **Test Set**:\n",
        "     - Many \"Class 1\" cases misclassified as \"Class 0.\"\n",
        "     - No correct classifications for \"Class 2.\"\n",
        "   **Sensitivity to 'Serious' and 'Fatal'**:\n",
        "   - Poor sensitivity for \"Serious\" and \"Fatal\" in both sets.\n",
        "\n",
        "##### Recommendations for Improvement\n",
        "1. more feature engineeringto enhance features to better capture the differences between classes, especially for \"Serious\" and \"Fatal.\"\n",
        "2. use different oversampling, undersampling, or synthetic data generation techniques\n",
        "3. Consider more complex models\n",
        "4.  tune hyperparameters in larger scope of parametetrs, focusing on improving recall for \"Serious\" and \"Fatal\" classes.\n",
        "5.  gather more data for underrepresented classes to improve the model's ability to generalize."
      ]
    },
    {
      "cell_type": "markdown",
      "metadata": {
        "id": "tJ14pjymoPHs"
      },
      "source": [
        "Convert notebook to html"
      ]
    },
    {
      "cell_type": "code",
      "execution_count": 36,
      "metadata": {
        "id": "32TGyegyoTAn"
      },
      "outputs": [],
      "source": [
        "# !jupyter nbconvert --to html Road-Accidents.ipynb"
      ]
    },
    {
      "cell_type": "code",
      "execution_count": 37,
      "metadata": {
        "id": "32QWginQHo2w"
      },
      "outputs": [
        {
          "name": "stdout",
          "output_type": "stream",
          "text": [
            "Model and scaler saved successfully!\n"
          ]
        }
      ],
      "source": [
        "import joblib\n",
        "\n",
        "# Assuming your trained model is named 'model'\n",
        "joblib.dump(best_model, \"model.pkl\")\n",
        "\n",
        "# If you used feature scaling, save the scaler too\n",
        "joblib.dump(ss, \"scaler.pkl\")\n",
        "\n",
        "print(\"Model and scaler saved successfully!\")"
      ]
    },
    {
      "cell_type": "code",
      "execution_count": 38,
      "metadata": {},
      "outputs": [
        {
          "name": "stdout",
          "output_type": "stream",
          "text": [
            "[3, 2240, 2, 0, 2, 1, 2, 1, 23, 2, 3, 0]\n"
          ]
        }
      ],
      "source": [
        "print(X_test.iloc[0].tolist())  # Get the first test sample"
      ]
    },
    {
      "cell_type": "code",
      "execution_count": 39,
      "metadata": {},
      "outputs": [
        {
          "name": "stdout",
          "output_type": "stream",
          "text": [
            "(1551, 12)\n",
            "Index(['Number of Vehicles', 'Time (24hr)', '1st Road Class', 'Road Surface',\n",
            "       'Lighting Conditions', 'Weather Conditions', 'Casualty Severity',\n",
            "       'Sex of Casualty', 'Age of Casualty', 'Type of Vehicle', 'age_group',\n",
            "       'vehicle_group'],\n",
            "      dtype='object')\n"
          ]
        }
      ],
      "source": [
        "print(X_train.shape)  # Check the shape of training data\n",
        "print(X_train.columns)  # If using Pandas DataFrame, see feature names"
      ]
    },
    {
      "cell_type": "code",
      "execution_count": 40,
      "metadata": {},
      "outputs": [
        {
          "name": "stdout",
          "output_type": "stream",
          "text": [
            "[1.3057990573047435, -0.21122989992434293, 0.9613345970845697, 1.8355127799230786, 0.5712363715076499, -0.31827604146234834, 0.3372057026181439, 0.8359396992145377, -0.6936065221641613, -0.227504672191715, -0.30287620862434245, 0.2686696474289115]\n"
          ]
        }
      ],
      "source": [
        "print(X_train.iloc[0].tolist())  # Get first row's feature values"
      ]
    },
    {
      "cell_type": "code",
      "execution_count": 41,
      "metadata": {},
      "outputs": [
        {
          "name": "stdout",
          "output_type": "stream",
          "text": [
            "[0 1 2]\n"
          ]
        }
      ],
      "source": [
        "print(best_model.classes_)"
      ]
    }
  ],
  "metadata": {
    "colab": {
      "collapsed_sections": [
        "8U2ylDOr1XUE"
      ],
      "provenance": []
    },
    "kernelspec": {
      "display_name": "Python 3",
      "name": "python3"
    },
    "language_info": {
      "codemirror_mode": {
        "name": "ipython",
        "version": 3
      },
      "file_extension": ".py",
      "mimetype": "text/x-python",
      "name": "python",
      "nbconvert_exporter": "python",
      "pygments_lexer": "ipython3",
      "version": "3.13.2"
    }
  },
  "nbformat": 4,
  "nbformat_minor": 0
}
